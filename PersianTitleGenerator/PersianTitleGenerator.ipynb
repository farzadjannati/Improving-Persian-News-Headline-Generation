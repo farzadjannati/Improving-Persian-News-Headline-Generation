{
  "cells": [
    {
      "cell_type": "markdown",
      "metadata": {
        "id": "rAXfXDBVH1BB"
      },
      "source": [
        "<div style=\"display:block;width:100%;margin:auto;\" direction=rtl align=center>\n",
        "    <br><br>\n",
        "    <div style=\"width:100%;margin:100;display:block;background-color:#fff0;\" display=block align=center>\n",
        "        <table style=\"border-style:hidden;border-collapse:collapse;\">\n",
        "            <tr>\n",
        "                <td style=\"border: none!important;\">\n",
        "                    <img width=130 align=right src=\"https://i.ibb.co/yXKQmtZ/logo1.png\" style=\"margin:0;\" />\n",
        "                </td>\n",
        "                <td style=\"text-align:center;border: none!important;\">\n",
        "                    <h1 align=center><font size=5 color=\"#045F5F\"> <b> Large Language Models (LLM)</b><br><br>Final Project</font></h1>\n",
        "                </td>\n",
        "                <td style=\"border: none!important;\">\n",
        "                    <img width=170 align=left src=\"https://i.ibb.co/wLjqFkw/logo2.png\" style=\"margin:0;\" />\n",
        "                </td>\n",
        "            </tr>\n",
        "        </table>\n",
        "        <h1> Farzad Jannati- Abolfazl Asarian Nejad-Shahriar Rahimi Rad </h1>\n",
        "        <h1> Prof. MJ. Dousti & Yadollah Yaghoobzadeh </h1>\n",
        "    </div>\n",
        "</div>"
      ]
    },
    {
      "cell_type": "markdown",
      "metadata": {
        "colab_type": "toc",
        "id": "QTLPjeZJH6JZ"
      },
      "source": [
        ">[Persian News Headline Generation with LoRA Fine-tuning Llama 3.2](#scrollTo=jyQaSu3tHduo)\n",
        "\n",
        ">>[Section 1: Environment Setup and Dependencies](#scrollTo=D_467sfmITJi)\n",
        "\n",
        ">>[Section 2: Hugging Face Authentication & Setup](#scrollTo=Pprzh36OIjmh)\n",
        "\n",
        ">>>[Hugging Face Authentication](#scrollTo=EvvrGqYCJbVC)\n",
        "\n",
        ">>>[Mount Google Drive](#scrollTo=rzI35nmlJj71)\n",
        "\n",
        ">>>[Create output directories](#scrollTo=FD3Ctv82JxHC)\n",
        "\n",
        ">>>[Helper function for GPU Memory Management](#scrollTo=mFkJv1RSden9)\n",
        "\n",
        ">>[Section 3: Data Loading and Initial Analysis](#scrollTo=-92nrJRNKCUV)\n",
        "\n",
        ">>[Section 4: Statistical Analysis and Visualization](#scrollTo=BPieVggZKNO-)\n",
        "\n",
        ">>[Section 5: Visualization of Dataset Characteristics](#scrollTo=rxJ2yKZ8KsQ6)\n",
        "\n",
        ">>[Section 6: Advanced Persian Text Preprocessing](#scrollTo=vud0wFX3MwB5)\n",
        "\n",
        ">>[Section 7: Data Quality Analysis](#scrollTo=ej_wjheANCOl)\n",
        "\n",
        ">>[Section 8: Prepare Data for Fine-tuning](#scrollTo=gYoJNY_oNhQ3)\n",
        "\n",
        ">>[Section 9: Model Configuration and Tokenizer Setup](#scrollTo=HpXesgYhNp5x)\n",
        "\n",
        ">>[Section 10: LoRA Configuration](#scrollTo=LYyqm4I1OKtj)\n",
        "\n",
        ">>[Section 11: Dataset Preparation for Training](#scrollTo=QAOCJFcfO7ar)\n",
        "\n",
        ">>[Section 12: Contrastive Loss Implementation](#scrollTo=G_qW5RNBPN3o)\n",
        "\n",
        ">>[Section 13: Custom Trainer with Multi-task Loss](#scrollTo=VDlHPEQLPbcF)\n",
        "\n",
        ">>[Section 14: Training Configuration](#scrollTo=_mnud06ZPwdY)\n",
        "\n",
        ">>[Section 15: Model Training](#scrollTo=Mfb3Y_RJP9jx)\n",
        "\n",
        ">>[Section 16: Model Evaluation - Generate Headlines](#scrollTo=CyIUJWMkQgtT)\n",
        "\n",
        ">>[Section 17: Evaluation Metrics](#scrollTo=bmIZGc8JQqoO)\n",
        "\n",
        ">>[Section 18: Visualization of Results](#scrollTo=H3tOAgnuQ1wW)\n",
        "\n",
        ">>[Section 19: Qualitative Analysis](#scrollTo=Rl8BJ6gBQ_Cd)\n",
        "\n",
        ">>[Section 20: Save Model Configuration](#scrollTo=W10NMy1iRGF4)\n",
        "\n",
        ">>[Section 21: Summary and Conclusions](#scrollTo=0TaE0Aj9RNch)\n",
        "\n"
      ]
    },
    {
      "cell_type": "markdown",
      "metadata": {
        "id": "jyQaSu3tHduo"
      },
      "source": [
        "# Persian News Headline Generation with LoRA Fine-tuning Llama 3.2"
      ]
    },
    {
      "cell_type": "markdown",
      "metadata": {
        "id": "D_467sfmITJi"
      },
      "source": [
        "## Section 1: Environment Setup and Dependencies"
      ]
    },
    {
      "cell_type": "code",
      "execution_count": 1,
      "metadata": {
        "colab": {
          "base_uri": "https://localhost:8080/"
        },
        "id": "i7ULJBkGM4lR",
        "outputId": "7eb4335c-26e2-45f3-c908-74085bd4d819"
      },
      "outputs": [
        {
          "name": "stdout",
          "output_type": "stream",
          "text": [
            "Requirement already satisfied: hazm in /usr/local/lib/python3.12/dist-packages (0.10.0)\n",
            "Requirement already satisfied: nltk in /usr/local/lib/python3.12/dist-packages (3.9.1)\n",
            "Requirement already satisfied: tqdm in /usr/local/lib/python3.12/dist-packages (4.67.1)\n",
            "Requirement already satisfied: click in /usr/local/lib/python3.12/dist-packages (from nltk) (8.2.1)\n",
            "Requirement already satisfied: joblib in /usr/local/lib/python3.12/dist-packages (from nltk) (1.5.2)\n",
            "Requirement already satisfied: regex>=2021.8.3 in /usr/local/lib/python3.12/dist-packages (from nltk) (2024.11.6)\n"
          ]
        }
      ],
      "source": [
        "# Install hazm without compiling Wapiti\n",
        "!pip install --no-cache-dir hazm --no-deps\n",
        "!pip install nltk tqdm"
      ]
    },
    {
      "cell_type": "code",
      "execution_count": 2,
      "metadata": {
        "colab": {
          "base_uri": "https://localhost:8080/"
        },
        "collapsed": true,
        "id": "E0SJYuCUNgh2",
        "outputId": "eb7e3295-d3da-4008-8482-a4c292a40abf"
      },
      "outputs": [
        {
          "name": "stdout",
          "output_type": "stream",
          "text": [
            "Requirement already satisfied: python-crfsuite in /usr/local/lib/python3.12/dist-packages (0.9.11)\n",
            "Requirement already satisfied: flashtext in /usr/local/lib/python3.12/dist-packages (2.7)\n",
            "Requirement already satisfied: fasttext in /usr/local/lib/python3.12/dist-packages (0.9.3)\n",
            "Requirement already satisfied: pybind11>=2.2 in /usr/local/lib/python3.12/dist-packages (from fasttext) (3.0.1)\n",
            "Requirement already satisfied: setuptools>=0.7.0 in /usr/local/lib/python3.12/dist-packages (from fasttext) (75.2.0)\n",
            "Requirement already satisfied: numpy in /usr/local/lib/python3.12/dist-packages (from fasttext) (1.26.4)\n",
            "Requirement already satisfied: gensim in /usr/local/lib/python3.12/dist-packages (4.3.3)\n",
            "Requirement already satisfied: numpy<2.0,>=1.18.5 in /usr/local/lib/python3.12/dist-packages (from gensim) (1.26.4)\n",
            "Requirement already satisfied: scipy<1.14.0,>=1.7.0 in /usr/local/lib/python3.12/dist-packages (from gensim) (1.13.1)\n",
            "Requirement already satisfied: smart-open>=1.8.1 in /usr/local/lib/python3.12/dist-packages (from gensim) (7.3.0.post1)\n",
            "Requirement already satisfied: wrapt in /usr/local/lib/python3.12/dist-packages (from smart-open>=1.8.1->gensim) (1.17.3)\n"
          ]
        },
        {
          "name": "stderr",
          "output_type": "stream",
          "text": [
            "[nltk_data] Downloading package punkt to /root/nltk_data...\n",
            "[nltk_data]   Package punkt is already up-to-date!\n"
          ]
        },
        {
          "data": {
            "text/plain": [
              "True"
            ]
          },
          "execution_count": 2,
          "metadata": {},
          "output_type": "execute_result"
        }
      ],
      "source": [
        "!pip install python-crfsuite\n",
        "!pip install flashtext\n",
        "!pip install fasttext\n",
        "!pip install gensim\n",
        "\n",
        "# Download NLTK punkt tokenizer data (needed for hazm's sentence tokenizer)\n",
        "import nltk\n",
        "nltk.download('punkt')"
      ]
    },
    {
      "cell_type": "code",
      "execution_count": 3,
      "metadata": {
        "id": "z2U18JnZH2Vc"
      },
      "outputs": [],
      "source": [
        "# Install necessary Python libraries\n",
        "!pip install evaluate -q\n",
        "!pip install bert_score -q\n",
        "!pip install datasets -q\n",
        "!pip install accelerate -q\n",
        "!pip install bitsandbytes -q\n",
        "!pip install peft -q"
      ]
    },
    {
      "cell_type": "code",
      "execution_count": 4,
      "metadata": {
        "id": "BvRTCkQ8IZS6"
      },
      "outputs": [],
      "source": [
        "# Core libraries\n",
        "import pandas as pd\n",
        "import numpy as np\n",
        "import torch\n",
        "import torch.nn as nn\n",
        "from torch.utils.data import Dataset, DataLoader\n",
        "import matplotlib.pyplot as plt\n",
        "import seaborn as sns\n",
        "from tqdm import tqdm\n",
        "import json\n",
        "import re\n",
        "from collections import Counter\n",
        "import gc\n",
        "import os\n",
        "import warnings\n",
        "warnings.filterwarnings('ignore')\n",
        "\n",
        "# Hugging Face libraries\n",
        "from transformers import (\n",
        "    AutoModelForCausalLM,\n",
        "    AutoTokenizer,\n",
        "    TrainingArguments,\n",
        "    Trainer,\n",
        "    DataCollatorForLanguageModeling,\n",
        "    BitsAndBytesConfig\n",
        ")\n",
        "from peft import (\n",
        "    LoraConfig,\n",
        "    get_peft_model,\n",
        "    TaskType,\n",
        "    prepare_model_for_kbit_training\n",
        ")\n",
        "from datasets import Dataset as HFDataset\n",
        "import evaluate\n",
        "from bert_score import score as bert_score\n",
        "\n",
        "# Persian text processing\n",
        "import hazm\n",
        "\n",
        "# Set random seeds for reproducibility\n",
        "import random\n",
        "random.seed(42)\n",
        "np.random.seed(42)\n",
        "torch.manual_seed(42)\n",
        "if torch.cuda.is_available():\n",
        "    torch.cuda.manual_seed_all(42)"
      ]
    },
    {
      "cell_type": "markdown",
      "metadata": {
        "id": "Pprzh36OIjmh"
      },
      "source": [
        "## Section 2: Hugging Face Authentication & Setup"
      ]
    },
    {
      "cell_type": "markdown",
      "metadata": {
        "id": "EvvrGqYCJbVC"
      },
      "source": [
        "### Hugging Face Authentication"
      ]
    },
    {
      "cell_type": "code",
      "execution_count": null,
      "metadata": {
        "colab": {
          "base_uri": "https://localhost:8080/"
        },
        "id": "YZHawTMEInPo",
        "outputId": "e85976c1-8a96-4262-d289-b2093f9bc8a7"
      },
      "outputs": [],
      "source": [
        "print(\"🔐 Authenticating with Hugging Face...\")\n",
        "from huggingface_hub import login\n",
        "\n",
        "# Get token from user\n",
        "print(\"Please enter your Hugging Face token:\")\n",
        "HF_TOKEN = input()\n",
        "login(token=HF_TOKEN)\n",
        "print(\"✅ Successfully authenticated with Hugging Face!\")"
      ]
    },
    {
      "cell_type": "markdown",
      "metadata": {
        "id": "rzI35nmlJj71"
      },
      "source": [
        "### Mount Google Drive"
      ]
    },
    {
      "cell_type": "code",
      "execution_count": 7,
      "metadata": {
        "colab": {
          "base_uri": "https://localhost:8080/"
        },
        "id": "wuO5ACFhJsV9",
        "outputId": "10a49b61-45ef-4695-e6ce-bcc5d7feb7a6"
      },
      "outputs": [
        {
          "name": "stdout",
          "output_type": "stream",
          "text": [
            "Drive already mounted at /content/drive; to attempt to forcibly remount, call drive.mount(\"/content/drive\", force_remount=True).\n"
          ]
        }
      ],
      "source": [
        "try:\n",
        "    from google.colab import drive\n",
        "    drive.mount('/content/drive')\n",
        "    IN_COLAB = True\n",
        "except:\n",
        "    IN_COLAB = False"
      ]
    },
    {
      "cell_type": "markdown",
      "metadata": {
        "id": "FD3Ctv82JxHC"
      },
      "source": [
        "### Create output directories"
      ]
    },
    {
      "cell_type": "code",
      "execution_count": 8,
      "metadata": {
        "id": "yRVf5Kb4JvjK"
      },
      "outputs": [],
      "source": [
        "# Create output directories\n",
        "output_dir = '/content/drive/MyDrive/Context_Aware_Headlines' if IN_COLAB else './Context_Aware_Headlines'\n",
        "os.makedirs(output_dir, exist_ok=True)\n",
        "os.makedirs(f'{output_dir}/models', exist_ok=True)\n",
        "os.makedirs(f'{output_dir}/results', exist_ok=True)\n",
        "os.makedirs(f'{output_dir}/plots', exist_ok=True)"
      ]
    },
    {
      "cell_type": "markdown",
      "metadata": {
        "id": "-92nrJRNKCUV"
      },
      "source": [
        "## Section 3: Data Loading and Initial Analysis"
      ]
    },
    {
      "cell_type": "code",
      "execution_count": 9,
      "metadata": {
        "colab": {
          "base_uri": "https://localhost:8080/"
        },
        "id": "jGt_Tm8JKIhq",
        "outputId": "2824f96d-efcb-44c4-ef92-ab3118429383"
      },
      "outputs": [
        {
          "name": "stdout",
          "output_type": "stream",
          "text": [
            "\n",
            "📁 Loading dataset from Google Drive...\n",
            "✅ Found pn_summary.zip in Google Drive\n",
            "✅ Dataset already extracted.\n",
            "\n",
            "📊 Loading PN-Summary dataset...\n",
            "✅ Train dataset loaded: 82,022 samples\n",
            "✅ Test dataset loaded: 5,593 samples\n",
            "\n",
            "📋 Dataset Overview:\n",
            "Train columns: ['id', 'title', 'article', 'summary', 'category', 'categories', 'network', 'link']\n",
            "Test columns: ['id', 'title', 'article', 'summary', 'category', 'categories', 'network', 'link']\n",
            "\n",
            "🔍 Sample data from training set:\n",
            "\n",
            "Sample 1:\n",
            "Title: مدیریت فروش نفت در دوران تحریم هوشمندانه عمل کرد...\n",
            "Summary: مدیرعامل شرکت ملی نفت، عملکرد مدیریت امور بین‎الملل این شرکت را در دوران تحریم بسیار هوشمندانه خواند و گفت: امور بین الملل در دوران پس از تحریم‎ها نیز...\n",
            "\n",
            "Sample 2:\n",
            "Title: سبد محصولات پتروشیمی متنوع می‌شود...\n",
            "Summary: سرپرست مدیریت برنامه‌ریزی و توسعه شرکت ملی صنایع پتروشیمی گفت: تنوع محصولات پتروشیمی ایران با بهره‌برداری از طرح‌های جهش دوم و سوم صنعت پتروشیمی افزای...\n",
            "\n",
            "Sample 3:\n",
            "Title: معرفی گوگرد بنتونیتی پالایشگاه خانگیران در نمایشگاه کشاورزی اردبیل...\n",
            "Summary: پالایشگاه گاز خانگیران با هدف معرفی گوگرد بنتونیتی برای تولید کود مرغوب ویژه مصارف کشاورزی در شانزدهمین نمایشگاه کشاورزی اردبیل شرکت کرد....\n"
          ]
        }
      ],
      "source": [
        "print(\"\\n📁 Loading dataset from Google Drive...\")\n",
        "\n",
        "# Download and extract dataset from Google Drive\n",
        "import zipfile\n",
        "\n",
        "# Path to your zip file in Google Drive\n",
        "zip_path = \"/content/drive/MyDrive/pn_summary.zip\"\n",
        "\n",
        "# Check if zip file exists\n",
        "if not os.path.exists(zip_path):\n",
        "    print(\"❌ Error: pn_summary.zip not found in Google Drive!\")\n",
        "    print(f\"Please make sure the file exists at: {zip_path}\")\n",
        "else:\n",
        "    print(\"✅ Found pn_summary.zip in Google Drive\")\n",
        "\n",
        "    # Create data directory\n",
        "    data_dir = f\"{output_dir}/data\"\n",
        "    os.makedirs(data_dir, exist_ok=True)\n",
        "\n",
        "    # Extract the zip file\n",
        "    extract_path = f\"{data_dir}/pn_summary\"\n",
        "    if not os.path.exists(extract_path):\n",
        "        print(\"📦 Extracting pn_summary.zip...\")\n",
        "        with zipfile.ZipFile(zip_path, 'r') as zip_ref:\n",
        "            zip_ref.extractall(data_dir)\n",
        "        print(\"✅ Extraction completed!\")\n",
        "    else:\n",
        "        print(\"✅ Dataset already extracted.\")\n",
        "\n",
        "    # Load train and test datasets with tab separator\n",
        "    print(\"\\n📊 Loading PN-Summary dataset...\")\n",
        "    try:\n",
        "        # Try reading with tab separator first\n",
        "        train_df = pd.read_csv(f\"{extract_path}/train.csv\", sep='\\t')\n",
        "        test_df = pd.read_csv(f\"{extract_path}/test.csv\", sep='\\t')\n",
        "\n",
        "        print(f\"✅ Train dataset loaded: {len(train_df):,} samples\")\n",
        "        print(f\"✅ Test dataset loaded: {len(test_df):,} samples\")\n",
        "\n",
        "        # Check if columns are properly separated\n",
        "        print(f\"\\n📋 Dataset Overview:\")\n",
        "        print(f\"Train columns: {list(train_df.columns)}\")\n",
        "        print(f\"Test columns: {list(test_df.columns)}\")\n",
        "\n",
        "        # Check for missing expected columns\n",
        "        expected_columns = ['title', 'summary']\n",
        "        missing_train = [col for col in expected_columns if col not in train_df.columns]\n",
        "        missing_test = [col for col in expected_columns if col not in test_df.columns]\n",
        "\n",
        "        if missing_train:\n",
        "            print(f\"⚠️ Missing columns in train dataset: {missing_train}\")\n",
        "        if missing_test:\n",
        "            print(f\"⚠️ Missing columns in test dataset: {missing_test}\")\n",
        "\n",
        "        # If columns are not properly separated, try to fix\n",
        "        if len(train_df.columns) == 1 or 'title' not in train_df.columns:\n",
        "            print(\"🔧 Attempting to fix column separation...\")\n",
        "            # Get the single column name\n",
        "            single_col = train_df.columns[0]\n",
        "\n",
        "            # Split the single column into multiple columns\n",
        "            train_split = train_df[single_col].str.split('\\t', expand=True)\n",
        "            test_split = test_df[single_col].str.split('\\t', expand=True)\n",
        "\n",
        "            # Assign proper column names based on the expected structure\n",
        "            expected_cols = ['id', 'title', 'article', 'summary', 'category', 'categories', 'network', 'link']\n",
        "\n",
        "            # Create new dataframes with proper columns\n",
        "            train_df = pd.DataFrame()\n",
        "            test_df = pd.DataFrame()\n",
        "\n",
        "            for i, col_name in enumerate(expected_cols):\n",
        "                if i < train_split.shape[1]:\n",
        "                    train_df[col_name] = train_split[i]\n",
        "                if i < test_split.shape[1]:\n",
        "                    test_df[col_name] = test_split[i]\n",
        "\n",
        "            print(\"✅ Column separation fixed!\")\n",
        "            print(f\"Train columns: {list(train_df.columns)}\")\n",
        "            print(f\"Test columns: {list(test_df.columns)}\")\n",
        "\n",
        "        # Display sample data\n",
        "        print(f\"\\n🔍 Sample data from training set:\")\n",
        "        for i in range(min(3, len(train_df))):\n",
        "            print(f\"\\nSample {i+1}:\")\n",
        "            if 'title' in train_df.columns:\n",
        "                print(f\"Title: {train_df.iloc[i]['title'][:100]}...\")\n",
        "            if 'summary' in train_df.columns:\n",
        "                print(f\"Summary: {train_df.iloc[i]['summary'][:150]}...\")\n",
        "\n",
        "    except Exception as e:\n",
        "        print(f\"❌ Error loading datasets: {e}\")\n",
        "        print(\"Attempting alternative loading methods...\")\n",
        "\n",
        "        # Try with different encodings and separators\n",
        "        for encoding in ['utf-8', 'utf-8-sig', 'latin1']:\n",
        "            for sep in ['\\t', ',', ';']:\n",
        "                try:\n",
        "                    print(f\"Trying encoding: {encoding}, separator: '{sep}'\")\n",
        "                    train_df = pd.read_csv(f\"{extract_path}/train.csv\",\n",
        "                                         sep=sep, encoding=encoding,\n",
        "                                         quoting=3, error_bad_lines=False)\n",
        "                    test_df = pd.read_csv(f\"{extract_path}/test.csv\",\n",
        "                                        sep=sep, encoding=encoding,\n",
        "                                        quoting=3, error_bad_lines=False)\n",
        "\n",
        "                    print(f\"✅ Successfully loaded with encoding: {encoding}, separator: '{sep}'\")\n",
        "                    print(f\"Train shape: {train_df.shape}, Test shape: {test_df.shape}\")\n",
        "                    break\n",
        "                except Exception as inner_e:\n",
        "                    continue\n",
        "            else:\n",
        "                continue\n",
        "            break"
      ]
    },
    {
      "cell_type": "markdown",
      "metadata": {
        "id": "BPieVggZKNO-"
      },
      "source": [
        "## Section 4: Statistical Analysis and Visualization"
      ]
    },
    {
      "cell_type": "code",
      "execution_count": 10,
      "metadata": {
        "colab": {
          "base_uri": "https://localhost:8080/"
        },
        "id": "3NvaGZ77KVYA",
        "outputId": "4fff9f79-b93c-4e9c-a472-1fd84983839e"
      },
      "outputs": [
        {
          "name": "stdout",
          "output_type": "stream",
          "text": [
            "\n",
            "📈 Performing statistical analysis on datasets...\n",
            "\n",
            "============================================================\n",
            "Analysis of Training Dataset\n",
            "============================================================\n",
            "\n",
            "📏 Text Length Statistics:\n",
            "\n",
            "title_length:\n",
            "  Mean: 50.18\n",
            "  Median: 50.00\n",
            "  Std: 12.97\n",
            "  Min: 6\n",
            "  Max: 151\n",
            "\n",
            "summary_length:\n",
            "  Mean: 154.08\n",
            "  Median: 145.00\n",
            "  Std: 54.51\n",
            "  Min: 44\n",
            "  Max: 891\n",
            "\n",
            "title_words:\n",
            "  Mean: 9.20\n",
            "  Median: 9.00\n",
            "  Std: 2.45\n",
            "  Min: 1\n",
            "  Max: 27\n",
            "\n",
            "summary_words:\n",
            "  Mean: 28.80\n",
            "  Median: 27.00\n",
            "  Std: 10.44\n",
            "  Min: 9\n",
            "  Max: 160\n",
            "\n",
            "============================================================\n",
            "Analysis of Test Dataset\n",
            "============================================================\n",
            "\n",
            "📏 Text Length Statistics:\n",
            "\n",
            "title_length:\n",
            "  Mean: 50.13\n",
            "  Median: 50.00\n",
            "  Std: 12.91\n",
            "  Min: 12\n",
            "  Max: 126\n",
            "\n",
            "summary_length:\n",
            "  Mean: 154.76\n",
            "  Median: 146.00\n",
            "  Std: 55.48\n",
            "  Min: 51\n",
            "  Max: 1012\n",
            "\n",
            "title_words:\n",
            "  Mean: 9.19\n",
            "  Median: 9.00\n",
            "  Std: 2.46\n",
            "  Min: 2\n",
            "  Max: 22\n",
            "\n",
            "summary_words:\n",
            "  Mean: 28.91\n",
            "  Median: 27.00\n",
            "  Std: 10.59\n",
            "  Min: 10\n",
            "  Max: 185\n"
          ]
        }
      ],
      "source": [
        "print(\"\\n📈 Performing statistical analysis on datasets...\")\n",
        "\n",
        "def analyze_dataset(df, dataset_name):\n",
        "    \"\"\"Comprehensive statistical analysis of the dataset\"\"\"\n",
        "\n",
        "    print(f\"\\n{'='*60}\")\n",
        "    print(f\"Analysis of {dataset_name} Dataset\")\n",
        "    print(f\"{'='*60}\")\n",
        "\n",
        "    # Calculate text lengths\n",
        "    df['title_length'] = df['title'].astype(str).apply(len)\n",
        "    df['summary_length'] = df['summary'].astype(str).apply(len)\n",
        "    df['title_words'] = df['title'].astype(str).str.split().str.len()\n",
        "    df['summary_words'] = df['summary'].astype(str).str.split().str.len()\n",
        "\n",
        "    print(f\"\\n📏 Text Length Statistics:\")\n",
        "    for col in ['title_length', 'summary_length', 'title_words', 'summary_words']:\n",
        "        print(f\"\\n{col}:\")\n",
        "        print(f\"  Mean: {df[col].mean():.2f}\")\n",
        "        print(f\"  Median: {df[col].median():.2f}\")\n",
        "        print(f\"  Std: {df[col].std():.2f}\")\n",
        "        print(f\"  Min: {df[col].min()}\")\n",
        "        print(f\"  Max: {df[col].max()}\")\n",
        "\n",
        "    return df\n",
        "\n",
        "# Analyze both datasets\n",
        "train_df = analyze_dataset(train_df.copy(), \"Training\")\n",
        "test_df = analyze_dataset(test_df.copy(), \"Test\")"
      ]
    },
    {
      "cell_type": "markdown",
      "metadata": {
        "id": "rxJ2yKZ8KsQ6"
      },
      "source": [
        "## Section 5: Visualization of Dataset Characteristics"
      ]
    },
    {
      "cell_type": "code",
      "execution_count": 11,
      "metadata": {
        "colab": {
          "base_uri": "https://localhost:8080/",
          "height": 450
        },
        "id": "kPmOaMCLL61P",
        "outputId": "ac7e2f35-4149-44bb-f436-60ec055e19af"
      },
      "outputs": [
        {
          "data": {
            "image/png": "[encoded data removed]",
            "text/plain": [
              "<Figure size 1800x1200 with 6 Axes>"
            ]
          },
          "metadata": {},
          "output_type": "display_data"
        },
        {
          "name": "stdout",
          "output_type": "stream",
          "text": [
            "✅ Comprehensive visualizations saved!\n"
          ]
        }
      ],
      "source": [
        "def create_visualizations(train_df, test_df):\n",
        "    \"\"\"Create comprehensive visualizations of dataset characteristics\"\"\"\n",
        "\n",
        "    # Set style for better visualization\n",
        "    plt.style.use('seaborn-v0_8-whitegrid')\n",
        "\n",
        "    fig, axes = plt.subplots(2, 3, figsize=(18, 12))\n",
        "    fig.suptitle('📊 Comprehensive Dataset Analysis', fontsize=16, fontweight='bold')\n",
        "\n",
        "    # Define color palette\n",
        "    colors = {'train': '#3498db', 'test': '#e74c3c'}\n",
        "\n",
        "    # 1. Title length distribution\n",
        "    axes[0, 0].hist(train_df['title_length'], bins=50, alpha=0.7, label='Train',\n",
        "                    color=colors['train'], edgecolor='black', linewidth=0.5)\n",
        "    axes[0, 0].hist(test_df['title_length'], bins=50, alpha=0.7, label='Test',\n",
        "                    color=colors['test'], edgecolor='black', linewidth=0.5)\n",
        "    axes[0, 0].set_xlabel('Title Length (characters)', fontsize=12)\n",
        "    axes[0, 0].set_ylabel('Frequency', fontsize=12)\n",
        "    axes[0, 0].set_title('Title Length Distribution', fontsize=14, fontweight='bold')\n",
        "    axes[0, 0].legend()\n",
        "    axes[0, 0].grid(True, alpha=0.3)\n",
        "\n",
        "    # 2. Summary length distribution\n",
        "    axes[0, 1].hist(train_df['summary_length'], bins=50, alpha=0.7, label='Train',\n",
        "                    color=colors['train'], edgecolor='black', linewidth=0.5)\n",
        "    axes[0, 1].hist(test_df['summary_length'], bins=50, alpha=0.7, label='Test',\n",
        "                    color=colors['test'], edgecolor='black', linewidth=0.5)\n",
        "    axes[0, 1].set_xlabel('Summary Length (characters)', fontsize=12)\n",
        "    axes[0, 1].set_ylabel('Frequency', fontsize=12)\n",
        "    axes[0, 1].set_title('Summary Length Distribution', fontsize=14, fontweight='bold')\n",
        "    axes[0, 1].legend()\n",
        "    axes[0, 1].grid(True, alpha=0.3)\n",
        "\n",
        "    # 3. Word count distributions\n",
        "    axes[0, 2].hist(train_df['title_words'], bins=30, alpha=0.7, label='Train Titles',\n",
        "                    color='#2ecc71', edgecolor='black', linewidth=0.5)\n",
        "    axes[0, 2].hist(train_df['summary_words'], bins=50, alpha=0.7, label='Train Summaries',\n",
        "                    color='#f39c12', edgecolor='black', linewidth=0.5)\n",
        "    axes[0, 2].set_xlabel('Word Count', fontsize=12)\n",
        "    axes[0, 2].set_ylabel('Frequency', fontsize=12)\n",
        "    axes[0, 2].set_title('Word Count Distribution (Training Set)', fontsize=14, fontweight='bold')\n",
        "    axes[0, 2].legend()\n",
        "    axes[0, 2].grid(True, alpha=0.3)\n",
        "\n",
        "    # 4. Summary vs Title length correlation\n",
        "    axes[1, 0].scatter(train_df['summary_length'], train_df['title_length'],\n",
        "                       alpha=0.6, s=20, label='Train', color=colors['train'])\n",
        "    axes[1, 0].scatter(test_df['summary_length'], test_df['title_length'],\n",
        "                       alpha=0.6, s=20, label='Test', color=colors['test'])\n",
        "    axes[1, 0].set_xlabel('Summary Length', fontsize=12)\n",
        "    axes[1, 0].set_ylabel('Title Length', fontsize=12)\n",
        "    axes[1, 0].set_title('Summary vs Title Length Correlation', fontsize=14, fontweight='bold')\n",
        "    axes[1, 0].legend()\n",
        "    axes[1, 0].grid(True, alpha=0.3)\n",
        "\n",
        "    # 5. Box plots for text lengths\n",
        "    axes[1, 1].boxplot([train_df['title_length'], test_df['title_length'],\n",
        "                        train_df['summary_length'], test_df['summary_length']],\n",
        "                       labels=['Train\\nTitles', 'Test\\nTitles', 'Train\\nSummaries', 'Test\\nSummaries'])\n",
        "    axes[1, 1].set_ylabel('Length (characters)', fontsize=12)\n",
        "    axes[1, 1].set_title('Text Length Distributions', fontsize=14, fontweight='bold')\n",
        "    axes[1, 1].grid(True, alpha=0.3)\n",
        "\n",
        "    # 6. Category distribution (if category column exists)\n",
        "    if 'category' in train_df.columns:\n",
        "        train_cats = train_df['category'].value_counts().head(10)\n",
        "        test_cats = test_df['category'].value_counts().head(10)\n",
        "\n",
        "        x = np.arange(len(train_cats))\n",
        "        width = 0.35\n",
        "\n",
        "        axes[1, 2].bar(x - width/2, train_cats.values, width, label='Train',\n",
        "                       color=colors['train'], alpha=0.8)\n",
        "        axes[1, 2].bar(x + width/2, test_cats.values, width, label='Test',\n",
        "                       color=colors['test'], alpha=0.8)\n",
        "        axes[1, 2].set_xlabel('Category', fontsize=12)\n",
        "        axes[1, 2].set_ylabel('Count', fontsize=12)\n",
        "        axes[1, 2].set_title('Top 10 Category Distribution', fontsize=14, fontweight='bold')\n",
        "        axes[1, 2].set_xticks(x)\n",
        "        axes[1, 2].set_xticklabels(train_cats.index, rotation=45, ha='right')\n",
        "        axes[1, 2].legend()\n",
        "        axes[1, 2].grid(True, alpha=0.3)\n",
        "    else:\n",
        "        # Alternative: Show noise pattern distribution\n",
        "        # Check if we have the right column names for article content\n",
        "        article_col = None\n",
        "        for col in ['article', 'summary', 'summary_clean']:\n",
        "            if col in train_df.columns:\n",
        "                article_col = col\n",
        "                break\n",
        "\n",
        "        if article_col:\n",
        "            noise_data = {\n",
        "                '[n] markers': [train_df[article_col].astype(str).str.count(r'\\[n\\]').sum(),\n",
        "                               test_df[article_col].astype(str).str.count(r'\\[n\\]').sum()],\n",
        "                'به گزارش': [train_df[article_col].astype(str).str.count('به گزارش').sum(),\n",
        "                            test_df[article_col].astype(str).str.count('به گزارش').sum()],\n",
        "                'URLs': [train_df[article_col].astype(str).str.count(r'http[s]?://').sum(),\n",
        "                        test_df[article_col].astype(str).str.count(r'http[s]?://').sum()]\n",
        "            }\n",
        "\n",
        "            x = np.arange(len(noise_data))\n",
        "            width = 0.35\n",
        "\n",
        "            for i, (pattern, counts) in enumerate(noise_data.items()):\n",
        "                axes[1, 2].bar(i - width/2, counts[0], width, label='Train' if i == 0 else '',\n",
        "                              color=colors['train'], alpha=0.8)\n",
        "                axes[1, 2].bar(i + width/2, counts[1], width, label='Test' if i == 0 else '',\n",
        "                              color=colors['test'], alpha=0.8)\n",
        "\n",
        "            axes[1, 2].set_xlabel('Noise Pattern', fontsize=12)\n",
        "            axes[1, 2].set_ylabel('Count', fontsize=12)\n",
        "            axes[1, 2].set_title('Noise Pattern Distribution', fontsize=14, fontweight='bold')\n",
        "            axes[1, 2].set_xticks(x)\n",
        "            axes[1, 2].set_xticklabels(list(noise_data.keys()))\n",
        "            axes[1, 2].legend()\n",
        "            axes[1, 2].grid(True, alpha=0.3)\n",
        "        else:\n",
        "            # Show statistical summary instead\n",
        "            axes[1, 2].axis('off')\n",
        "            stats_text = f\"\"\"\n",
        "📊 Dataset Statistics Summary\n",
        "\n",
        "Training Set:\n",
        "• Samples: {len(train_df):,}\n",
        "• Avg Title Length: {train_df['title_length'].mean():.1f} chars\n",
        "• Avg Summary Length: {train_df['summary_length'].mean():.1f} chars\n",
        "• Avg Title Words: {train_df['title_words'].mean():.1f}\n",
        "• Avg Summary Words: {train_df['summary_words'].mean():.1f}\n",
        "\n",
        "Test Set:\n",
        "• Samples: {len(test_df):,}\n",
        "• Avg Title Length: {test_df['title_length'].mean():.1f} chars\n",
        "• Avg Summary Length: {test_df['summary_length'].mean():.1f} chars\n",
        "• Avg Title Words: {test_df['title_words'].mean():.1f}\n",
        "• Avg Summary Words: {test_df['summary_words'].mean():.1f}\n",
        "            \"\"\"\n",
        "\n",
        "            axes[1, 2].text(0.1, 0.9, stats_text, transform=axes[1, 2].transAxes,\n",
        "                            fontsize=11, verticalalignment='top',\n",
        "                            bbox=dict(boxstyle='round', facecolor='lightblue', alpha=0.5))\n",
        "\n",
        "    plt.tight_layout()\n",
        "    plt.savefig(f'{output_dir}/plots/dataset_analysis.png', dpi=300, bbox_inches='tight', facecolor='white')\n",
        "    plt.show()\n",
        "\n",
        "    print(\"✅ Comprehensive visualizations saved!\")\n",
        "\n",
        "# Call the function\n",
        "create_visualizations(train_df, test_df)"
      ]
    },
    {
      "cell_type": "markdown",
      "metadata": {
        "id": "vud0wFX3MwB5"
      },
      "source": [
        "## Section 6: Advanced Persian Text Preprocessing"
      ]
    },
    {
      "cell_type": "code",
      "execution_count": 12,
      "metadata": {
        "colab": {
          "base_uri": "https://localhost:8080/"
        },
        "id": "wF0DFJrAM-gd",
        "outputId": "bfb63ca1-1ac4-408a-a799-6a0ba56b0fad"
      },
      "outputs": [
        {
          "name": "stdout",
          "output_type": "stream",
          "text": [
            "\n",
            "🧹 Starting advanced preprocessing...\n",
            "🔄 Preprocessing train dataset...\n",
            "🔄 Preprocessing test dataset...\n",
            "\n",
            "🔍 Filtering low-quality samples...\n",
            "Train samples removed: 97 (0.12%)\n",
            "Test samples removed: 8 (0.14%)\n",
            "\n",
            "📋 Preprocessing Results Sample:\n",
            "Original title: مدیریت فروش نفت در دوران تحریم هوشمندانه عمل کرد...\n",
            "Cleaned title: مدیریت فروش نفت در دوران تحریم هوشمندانه عمل کرد...\n"
          ]
        }
      ],
      "source": [
        "print(\"\\n🧹 Starting advanced preprocessing...\")\n",
        "\n",
        "class PersianTextPreprocessor:\n",
        "    \"\"\"Advanced Persian text preprocessing with comprehensive cleaning\"\"\"\n",
        "\n",
        "    def __init__(self):\n",
        "        self.normalizer = hazm.Normalizer()\n",
        "\n",
        "        # Persian character mappings\n",
        "        self.arabic_to_persian = {\n",
        "            'ي': 'ی',\n",
        "            'ك': 'ک',\n",
        "            'ؤ': 'و',\n",
        "            'ة': 'ه',\n",
        "            'ى': 'ی',\n",
        "            'ٱ': 'ا'\n",
        "        }\n",
        "\n",
        "        # Updated boilerplate patterns with non-greedy matching\n",
        "        self.boilerplate_patterns = [\n",
        "            r'به گزارش\\s+.*?،',  # Non-greedy matching\n",
        "            r'به نقل از\\s+.*?،',\n",
        "            r'در گفت\\s*و\\s*گو با\\s+.*?،',\n",
        "            r'خبرنگار\\s+.*?\\s+گزارش\\s+(می\\s*دهد|داد)',\n",
        "            r'به\\s+همراه\\s+(فیلم|عکس|ویدیو|تصاویر)',\n",
        "            r'\\+\\s*(فیلم|عکس|ویدیو|تصاویر)',\n",
        "            r'ادامه\\s+مطلب',\n",
        "            r'بیشتر\\s+بخوانید',\n",
        "            r'منبع\\s*:\\s*.*?،',\n",
        "            r'برای\\s+مشاهده\\s+فیلم',\n",
        "            r'کلیک\\s+کنید',\n",
        "            r'لینک\\s+دانلود',\n",
        "            r'به\\s+پیوست'\n",
        "        ]\n",
        "\n",
        "    def normalize_persian_chars(self, text):\n",
        "        \"\"\"Normalize Persian characters\"\"\"\n",
        "        for arabic, persian in self.arabic_to_persian.items():\n",
        "            text = text.replace(arabic, persian)\n",
        "        return text\n",
        "\n",
        "    def fix_spacing(self, text):\n",
        "        \"\"\"Fix spacing issues\"\"\"\n",
        "        text = re.sub(r'\\s+', ' ', text)\n",
        "        text = re.sub(r'\\s+([،؛:.!؟])', r'\\1', text)\n",
        "        text = re.sub(r'([،؛:.!؟])\\s*', r'\\1 ', text)\n",
        "        return text.strip()\n",
        "\n",
        "    def remove_noise(self, text):\n",
        "        \"\"\"Remove noise and unwanted patterns\"\"\"\n",
        "        text = text.replace('[n]', ' ')\n",
        "        text = re.sub(r'http[s]?://(?:[a-zA-Z]|[0-9]|[$-_@.&+]|[!*\\\\(\\\\),]|(?:%[0-9a-fA-F][0-9a-fA-F]))+', '', text)\n",
        "\n",
        "        for pattern in self.boilerplate_patterns:\n",
        "            text = re.sub(pattern, '', text, flags=re.IGNORECASE)\n",
        "\n",
        "        return text\n",
        "\n",
        "    def clean_text(self, text):\n",
        "        \"\"\"Complete preprocessing pipeline\"\"\"\n",
        "        if pd.isna(text):\n",
        "            return \"\"\n",
        "\n",
        "        text = str(text)\n",
        "        text = self.remove_noise(text)\n",
        "        text = self.normalizer.normalize(text)\n",
        "        text = self.normalize_persian_chars(text)\n",
        "        text = self.fix_spacing(text)\n",
        "\n",
        "        return text\n",
        "\n",
        "# Initialize preprocessor\n",
        "preprocessor = PersianTextPreprocessor()\n",
        "\n",
        "# Apply preprocessing\n",
        "print(\"🔄 Preprocessing train dataset...\")\n",
        "train_df['title_clean'] = train_df['title'].apply(preprocessor.clean_text)\n",
        "train_df['summary_clean'] = train_df['summary'].apply(preprocessor.clean_text)\n",
        "\n",
        "print(\"🔄 Preprocessing test dataset...\")\n",
        "test_df['title_clean'] = test_df['title'].apply(preprocessor.clean_text)\n",
        "test_df['summary_clean'] = test_df['summary'].apply(preprocessor.clean_text)\n",
        "\n",
        "# Filter out low-quality data\n",
        "print(\"\\n🔍 Filtering low-quality samples...\")\n",
        "initial_train_size = len(train_df)\n",
        "initial_test_size = len(test_df)\n",
        "\n",
        "# Calculate word counts for filtering\n",
        "train_df['title_word_count'] = train_df['title_clean'].str.split().str.len()\n",
        "train_df['summary_word_count'] = train_df['summary_clean'].str.split().str.len()\n",
        "test_df['title_word_count'] = test_df['title_clean'].str.split().str.len()\n",
        "test_df['summary_word_count'] = test_df['summary_clean'].str.split().str.len()\n",
        "\n",
        "# Filter based on minimum word counts\n",
        "train_df = train_df[(train_df['title_word_count'] >= 3) & (train_df['summary_word_count'] >= 10)]\n",
        "test_df = test_df[(test_df['title_word_count'] >= 3) & (test_df['summary_word_count'] >= 10)]\n",
        "\n",
        "print(f\"Train samples removed: {initial_train_size - len(train_df)} ({(initial_train_size - len(train_df))/initial_train_size*100:.2f}%)\")\n",
        "print(f\"Test samples removed: {initial_test_size - len(test_df)} ({(initial_test_size - len(test_df))/initial_test_size*100:.2f}%)\")\n",
        "\n",
        "# Show preprocessing results\n",
        "print(\"\\n📋 Preprocessing Results Sample:\")\n",
        "sample_idx = 0\n",
        "print(f\"Original title: {train_df.iloc[sample_idx]['title'][:100]}...\")\n",
        "print(f\"Cleaned title: {train_df.iloc[sample_idx]['title_clean'][:100]}...\")"
      ]
    },
    {
      "cell_type": "markdown",
      "metadata": {
        "id": "ej_wjheANCOl"
      },
      "source": [
        "## Section 7: Data Quality Analysis"
      ]
    },
    {
      "cell_type": "code",
      "execution_count": 13,
      "metadata": {
        "colab": {
          "base_uri": "https://localhost:8080/"
        },
        "id": "1p0ymclONHyu",
        "outputId": "3a37d5dd-c68c-40a5-eb80-9cb9fe05c4c2"
      },
      "outputs": [
        {
          "name": "stdout",
          "output_type": "stream",
          "text": [
            "\n",
            "==================================================\n",
            "Data Quality Analysis - Training Set\n",
            "==================================================\n",
            "Empty titles: 0 (0.00%)\n",
            "Empty summaries: 0 (0.00%)\n",
            "Very short titles (<10 chars): 1 (0.00%)\n",
            "Very short summaries (<50 chars): 12 (0.01%)\n",
            "\n",
            "==================================================\n",
            "Data Quality Analysis - Test Set\n",
            "==================================================\n",
            "Empty titles: 0 (0.00%)\n",
            "Empty summaries: 0 (0.00%)\n",
            "Very short titles (<10 chars): 0 (0.00%)\n",
            "Very short summaries (<50 chars): 0 (0.00%)\n"
          ]
        }
      ],
      "source": [
        "def analyze_data_quality(df, name=\"Dataset\"):\n",
        "    \"\"\"Analyze data quality after preprocessing\"\"\"\n",
        "\n",
        "    print(f\"\\n{'='*50}\")\n",
        "    print(f\"Data Quality Analysis - {name}\")\n",
        "    print(f\"{'='*50}\")\n",
        "\n",
        "    # Check for empty or very short texts\n",
        "    empty_titles = df['title_clean'].str.len() == 0\n",
        "    empty_summaries = df['summary_clean'].str.len() == 0\n",
        "    short_titles = df['title_clean'].str.len() < 10\n",
        "    short_summaries = df['summary_clean'].str.len() < 50\n",
        "\n",
        "    print(f\"Empty titles: {empty_titles.sum()} ({empty_titles.sum()/len(df)*100:.2f}%)\")\n",
        "    print(f\"Empty summaries: {empty_summaries.sum()} ({empty_summaries.sum()/len(df)*100:.2f}%)\")\n",
        "    print(f\"Very short titles (<10 chars): {short_titles.sum()} ({short_titles.sum()/len(df)*100:.2f}%)\")\n",
        "    print(f\"Very short summaries (<50 chars): {short_summaries.sum()} ({short_summaries.sum()/len(df)*100:.2f}%)\")\n",
        "\n",
        "    return df\n",
        "\n",
        "# Analyze both datasets\n",
        "train_df = analyze_data_quality(train_df, \"Training Set\")\n",
        "test_df = analyze_data_quality(test_df, \"Test Set\")"
      ]
    },
    {
      "cell_type": "markdown",
      "metadata": {
        "id": "gYoJNY_oNhQ3"
      },
      "source": [
        "## Section 8: Prepare Data for Fine-tuning"
      ]
    },
    {
      "cell_type": "code",
      "execution_count": 14,
      "metadata": {
        "colab": {
          "base_uri": "https://localhost:8080/"
        },
        "id": "Yw50Y59LNmvs",
        "outputId": "3db58f8c-ed1c-457b-e4c0-7ad8da2e5589"
      },
      "outputs": [
        {
          "name": "stdout",
          "output_type": "stream",
          "text": [
            "\n",
            "🎯 Preparing data for fine-tuning with negative sampling...\n",
            "🔄 Creating negative samples...\n",
            "✅ Preprocessed data with negative samples saved to /content/drive/MyDrive/Context_Aware_Headlines\n"
          ]
        }
      ],
      "source": [
        "print(\"\\n🎯 Preparing data for fine-tuning with negative sampling...\")\n",
        "\n",
        "# Add negative samples for contrastive learning\n",
        "print(\"🔄 Creating negative samples...\")\n",
        "np.random.seed(42)\n",
        "\n",
        "def add_negative_samples(df):\n",
        "    \"\"\"Add negative summary samples for contrastive learning\"\"\"\n",
        "    df = df.copy()\n",
        "    negative_summaries = []\n",
        "\n",
        "    for idx in range(len(df)):\n",
        "        # Select a random different row for negative sample\n",
        "        negative_idx = np.random.choice([i for i in range(len(df)) if i != idx])\n",
        "        negative_summaries.append(df.iloc[negative_idx]['summary_clean'])\n",
        "\n",
        "    df['negative_summary'] = negative_summaries\n",
        "    return df\n",
        "\n",
        "train_df = add_negative_samples(train_df)\n",
        "test_df = add_negative_samples(test_df)\n",
        "\n",
        "def create_instruction_format(row):\n",
        "    \"\"\"Create professional instruction format for fine-tuning\"\"\"\n",
        "    instruction = \"\"\"Generate a concise and engaging Persian news headline for the following summary.\n",
        "The headline should be factually accurate, capture the main point, and be appealing to readers.\n",
        "\n",
        "### Summary:\n",
        "{}\n",
        "\n",
        "### Headline:\n",
        "{}\"\"\"\n",
        "\n",
        "    return instruction.format(\n",
        "        row['summary_clean'],\n",
        "        row['title_clean']\n",
        "    )\n",
        "\n",
        "# Create instruction formatted data\n",
        "train_df['text'] = train_df.apply(create_instruction_format, axis=1)\n",
        "test_df['text'] = test_df.apply(create_instruction_format, axis=1)\n",
        "\n",
        "# Save preprocessed data\n",
        "train_df.to_csv(f'{output_dir}/train_preprocessed.csv', index=False)\n",
        "test_df.to_csv(f'{output_dir}/test_preprocessed.csv', index=False)\n",
        "\n",
        "print(f\"✅ Preprocessed data with negative samples saved to {output_dir}\")"
      ]
    },
    {
      "cell_type": "markdown",
      "metadata": {
        "id": "HpXesgYhNp5x"
      },
      "source": [
        "## Section 9: Model Configuration and Tokenizer Setup"
      ]
    },
    {
      "cell_type": "code",
      "execution_count": 15,
      "metadata": {
        "id": "L1v56einsQJW"
      },
      "outputs": [],
      "source": [
        "import gc\n",
        "import torch\n",
        "\n",
        "# Add memory clearing function\n",
        "def clear_gpu_cache():\n",
        "    \"\"\"Clear GPU cache and run garbage collection for A100 optimization\"\"\"\n",
        "    gc.collect()\n",
        "    if torch.cuda.is_available():\n",
        "        torch.cuda.empty_cache()\n",
        "        torch.cuda.reset_peak_memory_stats()\n",
        "        print(f\"🧹 GPU cache cleared. Memory usage: {torch.cuda.memory_allocated() / 1e9:.2f} GB\")"
      ]
    },
    {
      "cell_type": "code",
      "execution_count": 16,
      "metadata": {
        "colab": {
          "base_uri": "https://localhost:8080/",
          "height": 138,
          "referenced_widgets": [
            "d05828a6f3b34f369a12324482f574ee",
            "a5a4373a8e25437abacffcc4e225fc38",
            "cc63161d15c14978ba01de47524cca73",
            "1645a596ff9642d9b1edf9b942e503f6",
            "923262101c394750a6c8d745fe9def1c",
            "130052bbb333453cb2b1043254cacd8c",
            "fb5a6a68c7d44f0da6acf8c6f6d48cf8",
            "c38ce6bc719540df8c2078bc0a7d1ae0",
            "c1c1f6c9b7754ad2af241ea285d43e9b",
            "55e580be55534bb9b96fdb00d18acb13",
            "30e7836c14534e019c39cadb3150fb73"
          ]
        },
        "id": "QhB2tCFTNuy_",
        "outputId": "b0ddcde5-ba6a-4d25-e8a0-890bee798b27"
      },
      "outputs": [
        {
          "name": "stdout",
          "output_type": "stream",
          "text": [
            "\n",
            "🤖 Setting up Llama 3.1 8B Instruct model with A100 optimizations...\n"
          ]
        },
        {
          "name": "stderr",
          "output_type": "stream",
          "text": [
            "`torch_dtype` is deprecated! Use `dtype` instead!\n"
          ]
        },
        {
          "name": "stdout",
          "output_type": "stream",
          "text": [
            "🧹 GPU cache cleared. Memory usage: 0.00 GB\n"
          ]
        },
        {
          "data": {
            "application/vnd.jupyter.widget-view+json": {
              "model_id": "d05828a6f3b34f369a12324482f574ee",
              "version_major": 2,
              "version_minor": 0
            },
            "text/plain": [
              "Loading checkpoint shards:   0%|          | 0/4 [00:00<?, ?it/s]"
            ]
          },
          "metadata": {},
          "output_type": "display_data"
        },
        {
          "name": "stdout",
          "output_type": "stream",
          "text": [
            "⚡ Model loaded with bfloat16 precision for A100!\n"
          ]
        }
      ],
      "source": [
        "print(\"\\n🤖 Setting up Llama 3.1 8B Instruct model with A100 optimizations...\")\n",
        "\n",
        "MODEL_NAME = \"meta-llama/Llama-3.1-8B-Instruct\"\n",
        "MAX_LENGTH = 512\n",
        "\n",
        "# Load tokenizer with optimizations\n",
        "tokenizer = AutoTokenizer.from_pretrained(\n",
        "    MODEL_NAME,\n",
        "    token=HF_TOKEN,\n",
        "    use_fast=True,  # Use fast tokenizer\n",
        "    trust_remote_code=True\n",
        ")\n",
        "tokenizer.pad_token = tokenizer.eos_token\n",
        "tokenizer.padding_side = \"right\"\n",
        "\n",
        "# Clear cache before model loading\n",
        "clear_gpu_cache()\n",
        "\n",
        "# Load model with A100 optimizations\n",
        "model = AutoModelForCausalLM.from_pretrained(\n",
        "    MODEL_NAME,\n",
        "    torch_dtype=torch.bfloat16,  # Use bfloat16 for A100\n",
        "    device_map=\"auto\",\n",
        "    token=HF_TOKEN,\n",
        "    trust_remote_code=True,\n",
        "    use_cache=True,\n",
        "    low_cpu_mem_usage=True,  # Memory optimization\n",
        ")\n",
        "\n",
        "print(f\"⚡ Model loaded with bfloat16 precision for A100!\")"
      ]
    },
    {
      "cell_type": "markdown",
      "metadata": {
        "id": "LYyqm4I1OKtj"
      },
      "source": [
        "## Section 10: LoRA Configuration"
      ]
    },
    {
      "cell_type": "code",
      "execution_count": 17,
      "metadata": {
        "colab": {
          "base_uri": "https://localhost:8080/"
        },
        "id": "KH-ZrzksO1DD",
        "outputId": "f0d0aecf-f2aa-4c6d-ec9e-9c1c4a4dd9a0"
      },
      "outputs": [
        {
          "name": "stdout",
          "output_type": "stream",
          "text": [
            "\n",
            "⚙️ Configuring LoRA based on CAP-LLM paper specifications...\n",
            "\n",
            "📊 Model structure with LoRA layers:\n",
            "PeftModelForCausalLM(\n",
            "  (base_model): LoraModel(\n",
            "    (model): LlamaForCausalLM(\n",
            "      (model): LlamaModel(\n",
            "        (embed_tokens): Embedding(128256, 4096)\n",
            "        (layers): ModuleList(\n",
            "          (0-31): 32 x LlamaDecoderLayer(\n",
            "            (self_attn): LlamaAttention(\n",
            "              (q_proj): lora.Linear(\n",
            "                (base_layer): Linear(in_features=4096, out_features=4096, bias=False)\n",
            "                (lora_dropout): ModuleDict(\n",
            "                  (default): Dropout(p=0.1, inplace=False)\n",
            "                )\n",
            "                (lora_A): ModuleDict(\n",
            "                  (default): Linear(in_features=4096, out_features=16, bias=False)\n",
            "                )\n",
            "                (lora_B): ModuleDict(\n",
            "                  (default): Linear(in_features=16, out_features=4096, bias=False)\n",
            "                )\n",
            "                (lora_embedding_A): ParameterDict()\n",
            "                (lora_embedding_B): ParameterDict()\n",
            "                (lora_magnitude_vector): ModuleDict()\n",
            "              )\n",
            "              (k_proj): Linear(in_features=4096, out_features=1024, bias=False)\n",
            "              (v_proj): lora.Linear(\n",
            "                (base_layer): Linear(in_features=4096, out_features=1024, bias=False)\n",
            "                (lora_dropout): ModuleDict(\n",
            "                  (default): Dropout(p=0.1, inplace=False)\n",
            "                )\n",
            "                (lora_A): ModuleDict(\n",
            "                  (default): Linear(in_features=4096, out_features=16, bias=False)\n",
            "                )\n",
            "                (lora_B): ModuleDict(\n",
            "                  (default): Linear(in_features=16, out_features=1024, bias=False)\n",
            "                )\n",
            "                (lora_embedding_A): ParameterDict()\n",
            "                (lora_embedding_B): ParameterDict()\n",
            "                (lora_magnitude_vector): ModuleDict()\n",
            "              )\n",
            "              (o_proj): Linear(in_features=4096, out_features=4096, bias=False)\n",
            "            )\n",
            "            (mlp): LlamaMLP(\n",
            "              (gate_proj): Linear(in_features=4096, out_features=14336, bias=False)\n",
            "              (up_proj): Linear(in_features=4096, out_features=14336, bias=False)\n",
            "              (down_proj): Linear(in_features=14336, out_features=4096, bias=False)\n",
            "              (act_fn): SiLU()\n",
            "            )\n",
            "            (input_layernorm): LlamaRMSNorm((4096,), eps=1e-05)\n",
            "            (post_attention_layernorm): LlamaRMSNorm((4096,), eps=1e-05)\n",
            "          )\n",
            "        )\n",
            "        (norm): LlamaRMSNorm((4096,), eps=1e-05)\n",
            "        (rotary_emb): LlamaRotaryEmbedding()\n",
            "      )\n",
            "      (lm_head): Linear(in_features=4096, out_features=128256, bias=False)\n",
            "    )\n",
            "  )\n",
            ")\n",
            "trainable params: 6,815,744 || all params: 8,037,076,992 || trainable%: 0.0848\n"
          ]
        }
      ],
      "source": [
        "print(\"\\n⚙️ Configuring LoRA based on CAP-LLM paper specifications...\")\n",
        "\n",
        "# LoRA configuration\n",
        "lora_config = LoraConfig(\n",
        "    r=16,\n",
        "    lora_alpha=32,\n",
        "    lora_dropout=0.1,\n",
        "    target_modules=[\"q_proj\", \"v_proj\"],\n",
        "    bias=\"none\",\n",
        "    task_type=TaskType.CAUSAL_LM\n",
        ")\n",
        "\n",
        "# Prepare model for training\n",
        "model = get_peft_model(model, lora_config)\n",
        "\n",
        "# Print model structure to verify LoRA layers\n",
        "print(\"\\n📊 Model structure with LoRA layers:\")\n",
        "print(model)\n",
        "\n",
        "# Print trainable parameters\n",
        "model.print_trainable_parameters()"
      ]
    },
    {
      "cell_type": "markdown",
      "metadata": {
        "id": "QAOCJFcfO7ar"
      },
      "source": [
        "## Section 11: Dataset Preparation for Training"
      ]
    },
    {
      "cell_type": "code",
      "execution_count": 53,
      "metadata": {
        "colab": {
          "base_uri": "https://localhost:8080/"
        },
        "id": "FO0OcivyPJjo",
        "outputId": "d97e9fa2-56f8-471f-a291-d18ddf824c90"
      },
      "outputs": [
        {
          "name": "stdout",
          "output_type": "stream",
          "text": [
            "✅ Training samples: 20000 (limited for A100 speed)\n",
            "✅ Test samples: 2000 (limited for A100 speed)\n"
          ]
        }
      ],
      "source": [
        "class HeadlineDataset(Dataset):\n",
        "    \"\"\"Custom dataset for headline generation with contrastive samples\"\"\"\n",
        "\n",
        "    def __init__(self, df, tokenizer, max_length=512):\n",
        "        # Limit dataset size for faster training on A100\n",
        "        self.df = df.head(20000) if len(df) > 20000 else df  # Limit train to 20k\n",
        "        if 'test' in str(type(df)) or len(df) < 10000:  # Detect test set\n",
        "            self.df = df.head(2000) if len(df) > 2000 else df  # Limit test to 2k\n",
        "\n",
        "        self.tokenizer = tokenizer\n",
        "        self.max_length = max_length\n",
        "\n",
        "    def __len__(self):\n",
        "        return len(self.df)\n",
        "\n",
        "    def __getitem__(self, idx):\n",
        "        row = self.df.iloc[idx]\n",
        "\n",
        "        # Main text for generation\n",
        "        text = row['text']\n",
        "\n",
        "        # Tokenize the main text\n",
        "        encoding = self.tokenizer(\n",
        "            text,\n",
        "            truncation=True,\n",
        "            padding=\"max_length\",\n",
        "            max_length=self.max_length,\n",
        "            return_tensors=\"pt\"\n",
        "        )\n",
        "\n",
        "        # Create labels (same as input_ids for causal LM)\n",
        "        labels = encoding[\"input_ids\"].clone()\n",
        "        labels[labels == self.tokenizer.pad_token_id] = -100\n",
        "\n",
        "        # Tokenize positive sample (original summary)\n",
        "        positive_text = f\"### Summary:\\n{row['summary_clean']}\"\n",
        "        positive_encoding = self.tokenizer(\n",
        "            positive_text,\n",
        "            truncation=True,\n",
        "            padding=\"max_length\",\n",
        "            max_length=self.max_length,\n",
        "            return_tensors=\"pt\"\n",
        "        )\n",
        "\n",
        "        # Create negative sample\n",
        "        summary_words = row['summary_clean'].split()\n",
        "        import random\n",
        "        random.shuffle(summary_words)\n",
        "        negative_summary = ' '.join(summary_words[:len(summary_words)//2])\n",
        "\n",
        "        negative_text = f\"### Summary:\\n{negative_summary}\"\n",
        "        negative_encoding = self.tokenizer(\n",
        "            negative_text,\n",
        "            truncation=True,\n",
        "            padding=\"max_length\",\n",
        "            max_length=self.max_length,\n",
        "            return_tensors=\"pt\"\n",
        "        )\n",
        "\n",
        "        # Return flattened tensors for compatibility\n",
        "        return {\n",
        "            \"input_ids\": encoding[\"input_ids\"].squeeze(0),\n",
        "            \"attention_mask\": encoding[\"attention_mask\"].squeeze(0),\n",
        "            \"labels\": labels.squeeze(0),\n",
        "            \"positive_input_ids\": positive_encoding[\"input_ids\"].squeeze(0),\n",
        "            \"positive_attention_mask\": positive_encoding[\"attention_mask\"].squeeze(0),\n",
        "            \"negative_input_ids\": negative_encoding[\"input_ids\"].squeeze(0),\n",
        "            \"negative_attention_mask\": negative_encoding[\"attention_mask\"].squeeze(0)\n",
        "        }\n",
        "\n",
        "# Custom data collator to handle additional fields\n",
        "class ContrastiveDataCollator:\n",
        "    \"\"\"\n",
        "    Custom data collator for contrastive learning with A100 optimizations\n",
        "    \"\"\"\n",
        "    def __init__(self, tokenizer):\n",
        "        self.tokenizer = tokenizer\n",
        "        self.pad_token_id = tokenizer.pad_token_id\n",
        "\n",
        "    def __call__(self, features):\n",
        "        # Stack tensors directly for A100 efficiency\n",
        "        batch = {}\n",
        "\n",
        "        # Handle main inputs with optimized padding\n",
        "        if \"input_ids\" in features[0]:\n",
        "            batch[\"input_ids\"] = torch.stack([f[\"input_ids\"] for f in features])\n",
        "            batch[\"attention_mask\"] = torch.stack([f[\"attention_mask\"] for f in features])\n",
        "            batch[\"labels\"] = torch.stack([f[\"labels\"] for f in features])\n",
        "\n",
        "        # Handle contrastive inputs efficiently\n",
        "        if \"positive_input_ids\" in features[0]:\n",
        "            batch[\"positive_input_ids\"] = torch.stack([f[\"positive_input_ids\"] for f in features])\n",
        "            batch[\"positive_attention_mask\"] = torch.stack([f[\"positive_attention_mask\"] for f in features])\n",
        "\n",
        "        if \"negative_input_ids\" in features[0]:\n",
        "            batch[\"negative_input_ids\"] = torch.stack([f[\"negative_input_ids\"] for f in features])\n",
        "            batch[\"negative_attention_mask\"] = torch.stack([f[\"negative_attention_mask\"] for f in features])\n",
        "\n",
        "        return batch\n",
        "\n",
        "# Create datasets with size limits for A100 training speed\n",
        "train_dataset = HeadlineDataset(train_df, tokenizer, MAX_LENGTH)\n",
        "test_dataset = HeadlineDataset(test_df, tokenizer, MAX_LENGTH)\n",
        "\n",
        "print(f\"✅ Training samples: {len(train_dataset)} (limited for A100 speed)\")\n",
        "print(f\"✅ Test samples: {len(test_dataset)} (limited for A100 speed)\")"
      ]
    },
    {
      "cell_type": "markdown",
      "metadata": {
        "id": "G_qW5RNBPN3o"
      },
      "source": [
        "## Section 12: Contrastive Loss Implementation"
      ]
    },
    {
      "cell_type": "code",
      "execution_count": 19,
      "metadata": {
        "id": "C09zSBAsPVa2"
      },
      "outputs": [],
      "source": [
        "class FactualConsistencyLoss(nn.Module):\n",
        "    \"\"\"\n",
        "    Implementation of the factual consistency contrastive loss\n",
        "    as described in the CAP-LLM paper.\n",
        "    \"\"\"\n",
        "    def __init__(self, temperature=0.1):\n",
        "        super().__init__()\n",
        "        self.temperature = temperature\n",
        "        self.cosine_similarity = nn.CosineSimilarity(dim=1)\n",
        "\n",
        "    def forward(self, generated_embeddings, positive_embeddings, negative_embeddings):\n",
        "        \"\"\"\n",
        "        Compute contrastive loss for factual consistency.\n",
        "        Returns a differentiable tensor (not detached).\n",
        "        \"\"\"\n",
        "        # Positive similarity\n",
        "        pos_sim = self.cosine_similarity(generated_embeddings, positive_embeddings)\n",
        "\n",
        "        # Negative similarities\n",
        "        neg_sims = []\n",
        "        for neg_emb in negative_embeddings:\n",
        "            neg_sim = self.cosine_similarity(generated_embeddings, neg_emb)\n",
        "            neg_sims.append(neg_sim)\n",
        "\n",
        "        # Contrastive loss calculation\n",
        "        numerator = torch.exp(pos_sim / self.temperature)\n",
        "        denominator = numerator.clone()\n",
        "        for neg_sim in neg_sims:\n",
        "            denominator = denominator + torch.exp(neg_sim / self.temperature)\n",
        "\n",
        "        # Return mean loss as tensor (not .item())\n",
        "        loss = -torch.log(numerator / denominator)\n",
        "        return loss.mean()"
      ]
    },
    {
      "cell_type": "markdown",
      "metadata": {
        "id": "VDlHPEQLPbcF"
      },
      "source": [
        "## Section 13: Custom Trainer with Multi-task Loss"
      ]
    },
    {
      "cell_type": "code",
      "execution_count": 20,
      "metadata": {
        "id": "lnJikauuPhBm"
      },
      "outputs": [],
      "source": [
        "class ContextAwareTrainer(Trainer):\n",
        "    \"\"\"\n",
        "    Custom trainer implementing the multi-task loss from CAP-LLM paper:\n",
        "    L_total = L_gen + λ₁*L_fact\n",
        "\n",
        "    Fixed version that handles the new Trainer API and ensures proper gradient flow.\n",
        "    \"\"\"\n",
        "    def __init__(self, *args, lambda_fact=0.5, **kwargs):\n",
        "        super().__init__(*args, **kwargs)\n",
        "        self.lambda_fact = lambda_fact\n",
        "        self.fact_loss_fn = FactualConsistencyLoss()\n",
        "\n",
        "    def _masked_mean_pooling(self, hidden_states, attention_mask):\n",
        "        \"\"\"\n",
        "        Helper function for masked mean pooling.\n",
        "        \"\"\"\n",
        "        # Expand attention mask to match hidden states dimensions\n",
        "        mask_expanded = attention_mask.unsqueeze(-1).expand(hidden_states.size()).float()\n",
        "        # Apply mask and calculate mean\n",
        "        sum_embeddings = torch.sum(hidden_states * mask_expanded, 1)\n",
        "        sum_mask = torch.clamp(mask_expanded.sum(1), min=1e-9)\n",
        "        return sum_embeddings / sum_mask\n",
        "\n",
        "    def compute_loss(self, model, inputs, return_outputs=False, num_items_in_batch=None):\n",
        "        \"\"\"\n",
        "        Custom loss computation that ensures proper gradient flow.\n",
        "\n",
        "        Args:\n",
        "            model: The model being trained\n",
        "            inputs: Dictionary of input tensors\n",
        "            return_outputs: Whether to return model outputs along with loss\n",
        "            num_items_in_batch: Number of items in the batch (new in recent Transformers versions)\n",
        "\n",
        "        Returns:\n",
        "            Loss tensor or (loss, outputs) tuple\n",
        "        \"\"\"\n",
        "        # Ensure model is in training mode\n",
        "        model.train()\n",
        "\n",
        "        # Check if we have contrastive inputs\n",
        "        has_contrastive = \"positive_input_ids\" in inputs and \"negative_input_ids\" in inputs\n",
        "\n",
        "        # Standard generation loss (with labels)\n",
        "        outputs = model(\n",
        "            input_ids=inputs[\"input_ids\"],\n",
        "            attention_mask=inputs[\"attention_mask\"],\n",
        "            labels=inputs.get(\"labels\"),\n",
        "            output_hidden_states=True  # Ensure we get hidden states\n",
        "        )\n",
        "\n",
        "        loss_gen = outputs.loss\n",
        "\n",
        "        if loss_gen is None:\n",
        "            raise ValueError(\"Model did not return a loss. Make sure labels are provided.\")\n",
        "\n",
        "        total_loss = loss_gen\n",
        "\n",
        "        # Add contrastive loss if we have the necessary inputs\n",
        "        if has_contrastive and self.lambda_fact > 0:\n",
        "            try:\n",
        "                # Get embeddings for the main sequence\n",
        "                main_hidden = outputs.hidden_states[-1]\n",
        "                main_embeddings = self._masked_mean_pooling(main_hidden, inputs[\"attention_mask\"])\n",
        "\n",
        "                # Get embeddings for positive examples\n",
        "                with torch.set_grad_enabled(True):\n",
        "                    pos_outputs = model(\n",
        "                        input_ids=inputs[\"positive_input_ids\"],\n",
        "                        attention_mask=inputs[\"positive_attention_mask\"],\n",
        "                        output_hidden_states=True\n",
        "                    )\n",
        "                    pos_hidden = pos_outputs.hidden_states[-1]\n",
        "                    pos_embeddings = self._masked_mean_pooling(pos_hidden, inputs[\"positive_attention_mask\"])\n",
        "\n",
        "                # Get embeddings for negative examples\n",
        "                with torch.set_grad_enabled(True):\n",
        "                    neg_outputs = model(\n",
        "                        input_ids=inputs[\"negative_input_ids\"],\n",
        "                        attention_mask=inputs[\"negative_attention_mask\"],\n",
        "                        output_hidden_states=True\n",
        "                    )\n",
        "                    neg_hidden = neg_outputs.hidden_states[-1]\n",
        "                    neg_embeddings = self._masked_mean_pooling(neg_hidden, inputs[\"negative_attention_mask\"])\n",
        "\n",
        "                # Calculate factual consistency loss\n",
        "                loss_fact = self.fact_loss_fn(\n",
        "                    main_embeddings,\n",
        "                    pos_embeddings,\n",
        "                    [neg_embeddings]  # List of negative embeddings\n",
        "                )\n",
        "\n",
        "                # Add to total loss\n",
        "                total_loss = loss_gen + self.lambda_fact * loss_fact\n",
        "\n",
        "            except Exception as e:\n",
        "                print(f\"Warning: Contrastive loss computation failed: {e}\")\n",
        "                print(\"Falling back to generation loss only.\")\n",
        "                total_loss = loss_gen\n",
        "\n",
        "        return (total_loss, outputs) if return_outputs else total_loss"
      ]
    },
    {
      "cell_type": "markdown",
      "metadata": {
        "id": "_mnud06ZPwdY"
      },
      "source": [
        "## Section 14: Training Configuration"
      ]
    },
    {
      "cell_type": "code",
      "execution_count": 24,
      "metadata": {
        "colab": {
          "base_uri": "https://localhost:8080/"
        },
        "id": "bUkBg9hHP0iI",
        "outputId": "2331abf1-70dd-4d72-b590-1198d569bef3"
      },
      "outputs": [
        {
          "name": "stdout",
          "output_type": "stream",
          "text": [
            "\n",
            "🎓 Configuring training parameters...\n"
          ]
        }
      ],
      "source": [
        "print(\"\\n🎓 Configuring training parameters...\")\n",
        "\n",
        "# Reduce batch size and enable more memory optimizations\n",
        "training_args = TrainingArguments(\n",
        "    output_dir=f\"{output_dir}/checkpoints\",\n",
        "    num_train_epochs=1,\n",
        "    per_device_train_batch_size=16,\n",
        "    per_device_eval_batch_size=16,\n",
        "    gradient_accumulation_steps=8,\n",
        "    warmup_steps=100,\n",
        "    logging_steps=50,\n",
        "    save_steps=500,\n",
        "    eval_steps=500,\n",
        "    eval_strategy=\"steps\",\n",
        "    save_strategy=\"steps\",\n",
        "    load_best_model_at_end=True,\n",
        "    metric_for_best_model=\"eval_loss\",\n",
        "    greater_is_better=False,\n",
        "    learning_rate=5e-5,\n",
        "    weight_decay=0.01,\n",
        "    fp16=True,\n",
        "    gradient_checkpointing=True,\n",
        "    gradient_checkpointing_kwargs={\"use_reentrant\": False},  # Better memory efficiency\n",
        "    optim=\"adamw_torch_fused\",  # More memory efficient optimizer\n",
        "    report_to=\"none\",\n",
        "    push_to_hub=False,\n",
        "    dataloader_num_workers=2,\n",
        "    remove_unused_columns=False,  # Important for custom fields\n",
        "    label_names=[\"labels\"],  # Explicitly specify label field\n",
        ")\n",
        "\n",
        "# Initialize trainer with custom data collator\n",
        "trainer = ContextAwareTrainer(\n",
        "    model=model,\n",
        "    args=training_args,\n",
        "    train_dataset=train_dataset,\n",
        "    eval_dataset=test_dataset,\n",
        "    tokenizer=tokenizer,\n",
        "    data_collator=ContrastiveDataCollator(tokenizer),\n",
        "    lambda_fact=0.5\n",
        ")"
      ]
    },
    {
      "cell_type": "code",
      "execution_count": 22,
      "metadata": {
        "id": "r32jISyI9iPr"
      },
      "outputs": [],
      "source": [
        "def check_computation_graph(trainer, model, sample_size=2):\n",
        "    \"\"\"\n",
        "    Function to check the computation graph and debug gradient flow issues.\n",
        "    This version properly handles memory management and device placement.\n",
        "    \"\"\"\n",
        "    print(\"\\n🔍 Checking computation graph...\")\n",
        "\n",
        "    # Set model to training mode\n",
        "    model.train()\n",
        "    print(f\"Model training mode: {model.training}\")\n",
        "\n",
        "    # Check trainable parameters\n",
        "    trainable_params = sum(p.numel() for p in model.parameters() if p.requires_grad)\n",
        "    all_params = sum(p.numel() for p in model.parameters())\n",
        "    print(f\"Trainable parameters: {trainable_params:,} / {all_params:,} ({100 * trainable_params / all_params:.4f}%)\")\n",
        "\n",
        "    # Clear GPU cache before test\n",
        "    if torch.cuda.is_available():\n",
        "        torch.cuda.empty_cache()\n",
        "\n",
        "    try:\n",
        "        # Create a small batch using the data collator\n",
        "        sample_indices = list(range(min(sample_size, len(train_dataset))))\n",
        "        sample_batch = [train_dataset[i] for i in sample_indices]\n",
        "\n",
        "        # Use the data collator to prepare the batch\n",
        "        collated_batch = trainer.data_collator(sample_batch)\n",
        "\n",
        "        # Move batch to model device\n",
        "        device = model.device\n",
        "        inputs = {k: v.to(device) if isinstance(v, torch.Tensor) else v for k, v in collated_batch.items()}\n",
        "        print(f\"Batch moved to device: {device}\")\n",
        "\n",
        "        # Test the compute_loss function with gradient accumulation\n",
        "        with torch.cuda.amp.autocast(enabled=trainer.args.fp16):\n",
        "            # Call compute_loss with the new signature\n",
        "            loss = trainer.compute_loss(model, inputs, num_items_in_batch=len(sample_batch))\n",
        "\n",
        "        print(f\"✅ Loss computed successfully!\")\n",
        "        print(f\"Loss value: {loss.item():.4f}\")\n",
        "        print(f\"Loss requires grad: {loss.requires_grad}\")\n",
        "        print(f\"Loss has grad_fn: {loss.grad_fn is not None}\")\n",
        "\n",
        "        # Try backward pass with gradient accumulation\n",
        "        if trainer.args.gradient_checkpointing:\n",
        "            # Scale loss for gradient accumulation\n",
        "            loss = loss / trainer.args.gradient_accumulation_steps\n",
        "\n",
        "        # Use mixed precision scaler if enabled\n",
        "        if trainer.args.fp16 and hasattr(trainer, 'scaler'):\n",
        "            trainer.scaler.scale(loss).backward()\n",
        "        else:\n",
        "            loss.backward()\n",
        "\n",
        "        print(\"✅ Backward pass successful!\")\n",
        "\n",
        "        # Check if LoRA parameters have gradients\n",
        "        lora_params_with_grad = 0\n",
        "        for name, param in model.named_parameters():\n",
        "            if \"lora\" in name.lower() and param.requires_grad:\n",
        "                if param.grad is not None:\n",
        "                    lora_params_with_grad += 1\n",
        "                    if lora_params_with_grad == 1:  # Print first LoRA param with gradient\n",
        "                        print(f\"  ✓ First LoRA parameter with gradient: {name}\")\n",
        "\n",
        "        print(f\"✅ LoRA parameters with gradients: {lora_params_with_grad}\")\n",
        "\n",
        "        # Clear gradients and cache\n",
        "        model.zero_grad()\n",
        "        if torch.cuda.is_available():\n",
        "            torch.cuda.empty_cache()\n",
        "\n",
        "    except Exception as e:\n",
        "        print(f\"❌ Error during computation graph check: {e}\")\n",
        "        import traceback\n",
        "        traceback.print_exc()"
      ]
    },
    {
      "cell_type": "markdown",
      "metadata": {
        "id": "Mfb3Y_RJP9jx"
      },
      "source": [
        "## Section 15: Model Training"
      ]
    },
    {
      "cell_type": "code",
      "execution_count": 25,
      "metadata": {
        "colab": {
          "base_uri": "https://localhost:8080/",
          "height": 200
        },
        "id": "Nf8YB9pWQHKr",
        "outputId": "9e967908-0969-4070-8759-63683a0e0dc6"
      },
      "outputs": [
        {
          "name": "stdout",
          "output_type": "stream",
          "text": [
            "\n",
            "🚀 Starting optimized LoRA fine-tuning for A100...\n",
            "🧹 GPU cache cleared. Memory usage: 16.19 GB\n"
          ]
        },
        {
          "data": {
            "text/html": [
              "\n",
              "    <div>\n",
              "      \n",
              "      <progress value='157' max='157' style='width:300px; height:20px; vertical-align: middle;'></progress>\n",
              "      [157/157 2:19:58, Epoch 1/1]\n",
              "    </div>\n",
              "    <table border=\"1\" class=\"dataframe\">\n",
              "  <thead>\n",
              " <tr style=\"text-align: left;\">\n",
              "      <th>Step</th>\n",
              "      <th>Training Loss</th>\n",
              "      <th>Validation Loss</th>\n",
              "    </tr>\n",
              "  </thead>\n",
              "  <tbody>\n",
              "  </tbody>\n",
              "</table><p>"
            ],
            "text/plain": [
              "<IPython.core.display.HTML object>"
            ]
          },
          "metadata": {},
          "output_type": "display_data"
        },
        {
          "name": "stdout",
          "output_type": "stream",
          "text": [
            "🧹 GPU cache cleared. Memory usage: 16.22 GB\n",
            "\n",
            "💾 Saving fine-tuned model...\n",
            "✅ A100 optimized training completed successfully!\n"
          ]
        }
      ],
      "source": [
        "import torch.nn.functional as F\n",
        "\n",
        "print(\"\\n🚀 Starting optimized LoRA fine-tuning for A100...\")\n",
        "\n",
        "# Clear cache before training\n",
        "clear_gpu_cache()\n",
        "\n",
        "# Start training with monitoring\n",
        "try:\n",
        "    trainer.train()\n",
        "\n",
        "    # Clear cache after training\n",
        "    clear_gpu_cache()\n",
        "\n",
        "    # Save the fine-tuned model\n",
        "    print(\"\\n💾 Saving fine-tuned model...\")\n",
        "    trainer.save_model(f\"{output_dir}/models/context_aware_lora_finetuned\")\n",
        "    tokenizer.save_pretrained(f\"{output_dir}/models/context_aware_lora_finetuned\")\n",
        "\n",
        "    print(\"✅ A100 optimized training completed successfully!\")\n",
        "\n",
        "except Exception as e:\n",
        "    print(f\"❌ Training error: {e}\")\n",
        "    import traceback\n",
        "    traceback.print_exc()\n",
        "    clear_gpu_cache() # Clear cache even on error"
      ]
    },
    {
      "cell_type": "markdown",
      "metadata": {
        "id": "CyIUJWMkQgtT"
      },
      "source": [
        "## Section 16: Model Evaluation - Generate Headlines"
      ]
    },
    {
      "cell_type": "code",
      "execution_count": 63,
      "metadata": {
        "colab": {
          "base_uri": "https://localhost:8080/"
        },
        "id": "BGlFb6pPQntA",
        "outputId": "cd741ce4-a887-4381-b83e-8245f22a1208"
      },
      "outputs": [
        {
          "name": "stdout",
          "output_type": "stream",
          "text": [
            "\n",
            "📝 Generating headlines for test set...\n"
          ]
        },
        {
          "name": "stderr",
          "output_type": "stream",
          "text": [
            "100%|██████████| 100/100 [07:30<00:00,  4.50s/it]"
          ]
        },
        {
          "name": "stdout",
          "output_type": "stream",
          "text": [
            "✅ Generated headlines saved\n"
          ]
        },
        {
          "name": "stderr",
          "output_type": "stream",
          "text": [
            "\n"
          ]
        }
      ],
      "source": [
        "print(\"\\n📝 Generating headlines for test set...\")\n",
        "\n",
        "def generate_headline(summary, model, tokenizer, max_length=100):\n",
        "    \"\"\"Generate headline for a given summary (Corrected Version)\"\"\"\n",
        "\n",
        "    instruction = \"\"\"Generate a concise and engaging Persian news headline for the following summary.\n",
        "The headline should be factually accurate, capture the main point, and be appealing to readers.\n",
        "\n",
        "### Summary:\n",
        "{}\n",
        "\n",
        "### Headline:\"\"\"\n",
        "\n",
        "    prompt = instruction.format(summary)\n",
        "\n",
        "    # Tokenize input\n",
        "    inputs = tokenizer(prompt, return_tensors=\"pt\", truncation=True, max_length=512)\n",
        "    inputs = {k: v.to(model.device) for k, v in inputs.items()}\n",
        "    prompt_token_length = inputs['input_ids'].shape[1]\n",
        "\n",
        "    # Set pad_token_id if it's not set\n",
        "    if tokenizer.pad_token_id is None:\n",
        "        tokenizer.pad_token_id = tokenizer.eos_token_id\n",
        "\n",
        "    # Generate with improved parameters\n",
        "    with torch.no_grad():\n",
        "        outputs = model.generate(\n",
        "            **inputs,\n",
        "            max_new_tokens=max_length,\n",
        "            num_beams=4,\n",
        "            early_stopping=True,\n",
        "            no_repeat_ngram_size=3,\n",
        "            repetition_penalty=1.2,\n",
        "            temperature=0.7,\n",
        "            do_sample=True,\n",
        "            top_p=0.9,\n",
        "            pad_token_id=tokenizer.eos_token_id\n",
        "        )\n",
        "\n",
        "    # Decode only the generated part (after the prompt)\n",
        "    generated_tokens = outputs[0][prompt_token_length:]\n",
        "    headline = tokenizer.decode(generated_tokens, skip_special_tokens=True).strip()\n",
        "\n",
        "    # Clean up any potential leftover artifacts\n",
        "    headline = headline.split(\"###\")[0].strip()\n",
        "    headline = re.sub(r'^[A-Za-z\\s\\W]+', '', headline).strip()\n",
        "\n",
        "    # Fallback for empty generations\n",
        "    if len(headline) < 5:\n",
        "        headline = ' '.join(summary.split()[:8]) + \"...\"\n",
        "\n",
        "    return headline\n",
        "\n",
        "# Generate headlines for test set\n",
        "generated_headlines = []\n",
        "reference_headlines = []\n",
        "\n",
        "# Sample 100 examples for evaluation (to save time)\n",
        "sample_size = min(100, len(test_df))\n",
        "test_sample = test_df.sample(n=sample_size, random_state=42)\n",
        "\n",
        "for idx, row in tqdm(test_sample.iterrows(), total=sample_size):\n",
        "    generated = generate_headline(row['summary_clean'], model, tokenizer)\n",
        "    generated_headlines.append(generated)\n",
        "    reference_headlines.append(row['title_clean'])\n",
        "\n",
        "# Save generated headlines\n",
        "results_df = pd.DataFrame({\n",
        "    'summary': test_sample['summary_clean'].tolist(),\n",
        "    'reference_title': reference_headlines,\n",
        "    'generated_title': generated_headlines\n",
        "})\n",
        "\n",
        "results_df.to_csv(f'{output_dir}/results/generated_headlines.csv', index=False)\n",
        "print(f\"✅ Generated headlines saved\")"
      ]
    },
    {
      "cell_type": "markdown",
      "metadata": {
        "id": "bmIZGc8JQqoO"
      },
      "source": [
        "## Section 17: Evaluation Metrics"
      ]
    },
    {
      "cell_type": "code",
      "execution_count": 28,
      "metadata": {
        "colab": {
          "base_uri": "https://localhost:8080/"
        },
        "id": "hPRDSv6zf6F-",
        "outputId": "a6228a18-5082-4b2e-f816-d7d9ebbe767d"
      },
      "outputs": [
        {
          "name": "stdout",
          "output_type": "stream",
          "text": [
            "Collecting rouge_score\n",
            "  Downloading rouge_score-0.1.2.tar.gz (17 kB)\n",
            "  Preparing metadata (setup.py) ... \u001b[?25l\u001b[?25hdone\n",
            "Requirement already satisfied: absl-py in /usr/local/lib/python3.12/dist-packages (from rouge_score) (1.4.0)\n",
            "Requirement already satisfied: nltk in /usr/local/lib/python3.12/dist-packages (from rouge_score) (3.9.1)\n",
            "Requirement already satisfied: numpy in /usr/local/lib/python3.12/dist-packages (from rouge_score) (1.26.4)\n",
            "Requirement already satisfied: six>=1.14.0 in /usr/local/lib/python3.12/dist-packages (from rouge_score) (1.17.0)\n",
            "Requirement already satisfied: click in /usr/local/lib/python3.12/dist-packages (from nltk->rouge_score) (8.2.1)\n",
            "Requirement already satisfied: joblib in /usr/local/lib/python3.12/dist-packages (from nltk->rouge_score) (1.5.2)\n",
            "Requirement already satisfied: regex>=2021.8.3 in /usr/local/lib/python3.12/dist-packages (from nltk->rouge_score) (2024.11.6)\n",
            "Requirement already satisfied: tqdm in /usr/local/lib/python3.12/dist-packages (from nltk->rouge_score) (4.67.1)\n",
            "Building wheels for collected packages: rouge_score\n",
            "  Building wheel for rouge_score (setup.py) ... \u001b[?25l\u001b[?25hdone\n",
            "  Created wheel for rouge_score: filename=rouge_score-0.1.2-py3-none-any.whl size=24934 sha256=5428f9d6c7debfc096d276d13289963b2464e17c77041d4fd06c95b3002e015e\n",
            "  Stored in directory: /root/.cache/pip/wheels/85/9d/af/01feefbe7d55ef5468796f0c68225b6788e85d9d0a281e7a70\n",
            "Successfully built rouge_score\n",
            "Installing collected packages: rouge_score\n",
            "Successfully installed rouge_score-0.1.2\n"
          ]
        }
      ],
      "source": [
        "!pip install rouge_score"
      ]
    },
    {
      "cell_type": "code",
      "execution_count": 64,
      "metadata": {
        "colab": {
          "base_uri": "https://localhost:8080/"
        },
        "id": "j3La_f8rQxaD",
        "outputId": "fa861c1b-6667-45dd-973e-cc931aa6352e"
      },
      "outputs": [
        {
          "name": "stdout",
          "output_type": "stream",
          "text": [
            "\n",
            "📊 Calculating evaluation metrics...\n",
            "\n",
            "📊 Evaluating generated headlines...\n",
            "\n",
            "📈 ROUGE Scores:\n",
            "rouge1: 0.1959\n",
            "rouge2: 0.0487\n",
            "rougeL: 0.1643\n",
            "rougeLsum: 0.1647\n",
            "\n",
            "🎯 Calculating BERTScore...\n",
            "BERTScore:\n",
            "  Precision: 0.6655\n",
            "  Recall: 0.7549\n",
            "  F1: 0.7053\n"
          ]
        }
      ],
      "source": [
        "print(\"\\n📊 Calculating evaluation metrics...\")\n",
        "\n",
        "# Import evaluation metrics and Persian tokenizer\n",
        "import evaluate\n",
        "from bert_score import score as bert_score\n",
        "import numpy as np\n",
        "from hazm import word_tokenize\n",
        "\n",
        "# Define a Persian tokenizer for ROUGE calculation\n",
        "def persian_tokenizer(text):\n",
        "    return word_tokenize(text)\n",
        "\n",
        "print(\"\\n📊 Evaluating generated headlines...\")\n",
        "\n",
        "# Load evaluation metrics\n",
        "rouge = evaluate.load('rouge')\n",
        "\n",
        "# Calculate ROUGE scores using the Persian tokenizer\n",
        "rouge_results = rouge.compute(\n",
        "    predictions=generated_headlines,\n",
        "    references=reference_headlines,\n",
        "    use_aggregator=True,\n",
        "    tokenizer=persian_tokenizer  # Use the correct tokenizer\n",
        ")\n",
        "\n",
        "print(\"\\n📈 ROUGE Scores:\")\n",
        "for key, value in rouge_results.items():\n",
        "    print(f\"{key}: {value:.4f}\")\n",
        "\n",
        "# Calculate BERTScore\n",
        "print(\"\\n🎯 Calculating BERTScore...\")\n",
        "P, R, F1 = bert_score(\n",
        "    generated_headlines,\n",
        "    reference_headlines,\n",
        "    lang='fa',\n",
        "    verbose=False\n",
        ")\n",
        "\n",
        "print(f\"BERTScore:\")\n",
        "print(f\"  Precision: {P.mean():.4f}\")\n",
        "print(f\"  Recall: {R.mean():.4f}\")\n",
        "print(f\"  F1: {F1.mean():.4f}\")\n",
        "\n",
        "# Save evaluation results\n",
        "eval_results = {\n",
        "    'rouge': rouge_results,\n",
        "    'bertscore': {\n",
        "        'precision': float(P.mean()),\n",
        "        'recall': float(R.mean()),\n",
        "        'f1': float(F1.mean())\n",
        "    }\n",
        "}\n",
        "\n",
        "with open(f'{output_dir}/results/evaluation_metrics.json', 'w', encoding='utf-8') as f:\n",
        "    json.dump(eval_results, f, ensure_ascii=False, indent=2)"
      ]
    },
    {
      "cell_type": "markdown",
      "metadata": {
        "id": "H3tOAgnuQ1wW"
      },
      "source": [
        "## Section 18: Visualization of Results"
      ]
    },
    {
      "cell_type": "code",
      "execution_count": 65,
      "metadata": {
        "colab": {
          "base_uri": "https://localhost:8080/",
          "height": 574
        },
        "id": "xOWw-8y6Q6sk",
        "outputId": "d6a5877a-3c1d-48b1-83c1-fbd4641ea97a"
      },
      "outputs": [
        {
          "name": "stdout",
          "output_type": "stream",
          "text": [
            "\n",
            "📊 Creating visualizations...\n"
          ]
        },
        {
          "data": {
            "image/png": "[encoded data removed]",
            "text/plain": [
              "<Figure size 1500x1200 with 4 Axes>"
            ]
          },
          "metadata": {},
          "output_type": "display_data"
        },
        {
          "name": "stdout",
          "output_type": "stream",
          "text": [
            "✅ Visualizations saved!\n"
          ]
        }
      ],
      "source": [
        "print(\"\\n📊 Creating visualizations...\")\n",
        "\n",
        "# Create comprehensive visualizations\n",
        "fig, axes = plt.subplots(2, 2, figsize=(15, 12))\n",
        "\n",
        "# 1. ROUGE Scores Comparison\n",
        "rouge_metrics = ['ROUGE-1', 'ROUGE-2', 'ROUGE-L']\n",
        "rouge_scores = [rouge_results['rouge1'], rouge_results['rouge2'], rouge_results['rougeL']]\n",
        "\n",
        "axes[0, 0].bar(rouge_metrics, rouge_scores, color=['#1f77b4', '#ff7f0e', '#2ca02c'])\n",
        "axes[0, 0].set_title('ROUGE Scores', fontsize=14, fontweight='bold')\n",
        "axes[0, 0].set_ylabel('Score', fontsize=12)\n",
        "axes[0, 0].set_ylim(0, 1)\n",
        "for i, score in enumerate(rouge_scores):\n",
        "    axes[0, 0].text(i, score + 0.02, f'{score:.3f}', ha='center', fontsize=10)\n",
        "\n",
        "# 2. BERTScore Components\n",
        "bert_metrics = ['Precision', 'Recall', 'F1']\n",
        "bert_scores = [float(P.mean()), float(R.mean()), float(F1.mean())]\n",
        "\n",
        "axes[0, 1].bar(bert_metrics, bert_scores, color=['#d62728', '#9467bd', '#8c564b'])\n",
        "axes[0, 1].set_title('BERTScore Components', fontsize=14, fontweight='bold')\n",
        "axes[0, 1].set_ylabel('Score', fontsize=12)\n",
        "axes[0, 1].set_ylim(0, 1)\n",
        "for i, score in enumerate(bert_scores):\n",
        "    axes[0, 1].text(i, score + 0.02, f'{score:.3f}', ha='center', fontsize=10)\n",
        "\n",
        "# 3. Length Distribution Comparison\n",
        "ref_lengths = [len(word_tokenize(h)) for h in reference_headlines]\n",
        "gen_lengths = [len(word_tokenize(h)) for h in generated_headlines]\n",
        "\n",
        "axes[1, 0].hist([ref_lengths, gen_lengths], bins=20, alpha=0.7,\n",
        "                label=['Reference', 'Generated'], color=['blue', 'orange'])\n",
        "axes[1, 0].set_title('Headline Length Distribution (Words)', fontsize=14, fontweight='bold')\n",
        "axes[1, 0].set_xlabel('Number of Words', fontsize=12)\n",
        "axes[1, 0].set_ylabel('Frequency', fontsize=12)\n",
        "axes[1, 0].legend()\n",
        "\n",
        "# 4. Score Distribution\n",
        "axes[1, 1].boxplot([rouge_scores, bert_scores], labels=['ROUGE', 'BERTScore'])\n",
        "axes[1, 1].set_title('Score Distribution Comparison', fontsize=14, fontweight='bold')\n",
        "axes[1, 1].set_ylabel('Score', fontsize=12)\n",
        "axes[1, 1].set_ylim(0, 1)\n",
        "\n",
        "plt.tight_layout()\n",
        "plt.savefig(f'{output_dir}/plots/evaluation_metrics_comprehensive.png', dpi=300, bbox_inches='tight')\n",
        "plt.show()\n",
        "\n",
        "print(\"✅ Visualizations saved!\")"
      ]
    },
    {
      "cell_type": "markdown",
      "metadata": {
        "id": "Rl8BJ6gBQ_Cd"
      },
      "source": [
        "## Section 19: Qualitative Analysis"
      ]
    },
    {
      "cell_type": "code",
      "execution_count": 66,
      "metadata": {
        "colab": {
          "base_uri": "https://localhost:8080/"
        },
        "id": "OPtGNDQCRC5z",
        "outputId": "533a156e-064b-441a-a885-9ae93d5cefa3"
      },
      "outputs": [
        {
          "name": "stdout",
          "output_type": "stream",
          "text": [
            "\n",
            "📝 Performing qualitative analysis...\n",
            "Qualitative Analysis - Sample Headlines:\n",
            "================================================================================\n",
            "\n",
            "Example 1:\n",
            "Summary: مصرف نفت کوره منطقه سبزوار در بهار امسال، نسبت به مدت مشابه پارسال، ۵۸ درصد کاهش یافت....\n",
            "Reference Title: نوسان در شاخص کل بورس اوراق بهادار کشورهای اروپایی\n",
            "Generated Title: شاخص بورس اروپا با نوسانات در روز جمعه بسته شد. / بورس لندن، پاریس، فرانکفورت، استکهلم، آمستردام، مادرید، آتن، بارسلون، لیسبون، پرتغال، مونیخ، برلین، کپنهاگ، زاگرب، بلگراد، ورشو، ویلنیوس، ریگا، تالین، بوداپ\n",
            "ROUGE-1 Score: 0.000\n",
            "--------------------------------------------------------------------------------\n",
            "\n",
            "Example 2:\n",
            "Summary: شانا گروه گاز: ۹۰ پروژه گازرسانی در استان گلستان با اعتباری حدود ۱۳۰ میلیارد ریال در دهه فجر افتتاح می‌شود....\n",
            "Reference Title: حذف کنکور شرط دارد\n",
            "Generated Title: جایگزین کنکور چه باید باشد؟ / وزیر علوم و تحقیقات پاسخ داد.\n",
            "ROUGE-1 Score: 0.000\n",
            "--------------------------------------------------------------------------------\n",
            "\n",
            "Example 3:\n",
            "Summary: مدیرکل دفتر ارزیابی اقتصادی و مدیریت بهره‌وری وزارت راه و شهرسازی از شناسایی ۱۵۰ استارتاپ فعال در عرصه حمل‌ونقل خبر داد و گفت: در تارنمای وزارت راه و شهرسازی بستری برای ارتباط صاحبان ایده و شتاب دهنده...\n",
            "Reference Title: سامانه ارتباطات مردمی، گامی مهم در گره‌گشایی از مشکلات مردم\n",
            "Generated Title: گام مهم بانک مرکزی برای حل مشکلات مردم / سامانه جدید ارتباط با بانک مرکزی راه‌اندازی می‌شود / 24 ساعته پاسخگویی به سوالات مردم از طریق این سامانه امکان‌پذیر است.\n",
            "ROUGE-1 Score: 0.000\n",
            "--------------------------------------------------------------------------------\n",
            "\n",
            "Example 4:\n",
            "Summary: هاشمی، رئیس شورای شهر تهران درباره مخالفت کمیسیون حمل و نقل با افزایش ۲۵ درصدی کرایه‌ها و گلایه شهردار گفت: امکان داشت این افزایش کرایه در هیئت تطبیق رد شود، ضمن اینکه مشکل مالی را نیز حل نمی‌کرد....\n",
            "Reference Title: افزایش ۷ درصدی مصرف بنزین در چهارم فروردین‌ماه\n",
            "Generated Title: مصرف بنزین کل کشور روز چهارشنبه (چهارم فروردین‌ماه)...\n",
            "ROUGE-1 Score: 0.000\n",
            "--------------------------------------------------------------------------------\n",
            "\n",
            "Example 5:\n",
            "Summary: معاون اقتصادی سازمان برنامه و بودجه گفت: تلاش می‌کنیم بودجه ۱۴۰۰ در موعد مقرر که آذرماه است، تقدیم مجلس شود....\n",
            "Reference Title: ایران پلاست فرصت تشویق تولیدکنندگان داخلی به صادرات\n",
            "Generated Title: نمایشگاه ایرانپلاست فرصت مناسبی برای تشويق تولیدكنندگان داخلی به صادرات كشور است / برنامه‌ریزان نمایشگاه باید سیاست‌های کاربردی داشته باشند.\n",
            "ROUGE-1 Score: 0.000\n",
            "--------------------------------------------------------------------------------\n",
            "\n",
            "📊 Pattern Analysis:\n",
            "Empty generations: 0\n",
            "Very short generations (< 3 words): 0\n",
            "Highly repetitive generations: 4\n"
          ]
        }
      ],
      "source": [
        "print(\"\\n📝 Performing qualitative analysis...\")\n",
        "\n",
        "# Select diverse examples for qualitative analysis\n",
        "def select_diverse_examples(df, n_examples=5):\n",
        "    \"\"\"Select diverse examples based on length and score variations\"\"\"\n",
        "    # Calculate scores for each example\n",
        "    example_scores = []\n",
        "    for idx in range(len(df)):\n",
        "        if idx < len(generated_headlines):\n",
        "            score = rouge_scorer.RougeScorer(['rouge1'], use_stemmer=False).score(\n",
        "                ' '.join(word_tokenize(reference_headlines[idx])),\n",
        "                ' '.join(word_tokenize(generated_headlines[idx]))\n",
        "            )['rouge1'].fmeasure\n",
        "            example_scores.append((idx, score))\n",
        "\n",
        "    # Sort by score and select diverse examples\n",
        "    example_scores.sort(key=lambda x: x[1])\n",
        "\n",
        "    # Select examples from different score ranges\n",
        "    indices = []\n",
        "    if len(example_scores) >= n_examples:\n",
        "        step = len(example_scores) // n_examples\n",
        "        for i in range(0, len(example_scores), step)[:n_examples]:\n",
        "            indices.append(example_scores[i][0])\n",
        "    else:\n",
        "        indices = [x[0] for x in example_scores]\n",
        "\n",
        "    return indices\n",
        "\n",
        "# Get diverse examples\n",
        "example_indices = select_diverse_examples(test_df, n_examples=5)\n",
        "\n",
        "print(\"Qualitative Analysis - Sample Headlines:\")\n",
        "print(\"=\" * 80)\n",
        "\n",
        "for i, idx in enumerate(example_indices):\n",
        "    if idx < len(test_df) and idx < len(generated_headlines):\n",
        "        print(f\"\\nExample {i+1}:\")\n",
        "        print(f\"Summary: {test_df.iloc[idx]['summary_clean'][:200]}...\")\n",
        "        print(f\"Reference Title: {reference_headlines[idx]}\")\n",
        "        print(f\"Generated Title: {generated_headlines[idx]}\")\n",
        "\n",
        "        # Calculate individual ROUGE score\n",
        "        score = rouge_scorer.RougeScorer(['rouge1'], use_stemmer=False).score(\n",
        "            ' '.join(word_tokenize(reference_headlines[idx])),\n",
        "            ' '.join(word_tokenize(generated_headlines[idx]))\n",
        "        )['rouge1'].fmeasure\n",
        "        print(f\"ROUGE-1 Score: {score:.3f}\")\n",
        "        print(\"-\" * 80)\n",
        "\n",
        "# Analyze common patterns in generated headlines\n",
        "print(\"\\n📊 Pattern Analysis:\")\n",
        "\n",
        "# Check for common issues\n",
        "empty_generations = sum(1 for h in generated_headlines if not h.strip())\n",
        "short_generations = sum(1 for h in generated_headlines if len(word_tokenize(h)) < 3)\n",
        "repetitive_generations = sum(1 for h in generated_headlines if len(set(word_tokenize(h))) < len(word_tokenize(h)) * 0.5)\n",
        "\n",
        "print(f\"Empty generations: {empty_generations}\")\n",
        "print(f\"Very short generations (< 3 words): {short_generations}\")\n",
        "print(f\"Highly repetitive generations: {repetitive_generations}\")\n",
        "\n",
        "# Save qualitative analysis\n",
        "qualitative_results = {\n",
        "    'total_examples': len(generated_headlines),\n",
        "    'empty_generations': empty_generations,\n",
        "    'short_generations': short_generations,\n",
        "    'repetitive_generations': repetitive_generations,\n",
        "    'examples': []\n",
        "}\n",
        "\n",
        "for i, idx in enumerate(example_indices[:3]):  # Save first 3 examples\n",
        "    if idx < len(test_df) and idx < len(generated_headlines):\n",
        "        qualitative_results['examples'].append({\n",
        "            'summary': test_df.iloc[idx]['summary_clean'][:500],\n",
        "            'reference': reference_headlines[idx],\n",
        "            'generated': generated_headlines[idx]\n",
        "        })\n",
        "\n",
        "with open(f'{output_dir}/results/qualitative_analysis.json', 'w', encoding='utf-8') as f:\n",
        "    json.dump(qualitative_results, f, ensure_ascii=False, indent=2)"
      ]
    },
    {
      "cell_type": "code",
      "execution_count": 67,
      "metadata": {
        "colab": {
          "base_uri": "https://localhost:8080/"
        },
        "id": "QZVG7mizRJOZ",
        "outputId": "a0796292-45bc-4d40-ecdb-7e921f759cc8"
      },
      "outputs": [
        {
          "name": "stdout",
          "output_type": "stream",
          "text": [
            "\n",
            "💾 Saving model configuration...\n",
            "✅ Model configuration saved to /content/drive/MyDrive/Context_Aware_Headlines/model_config.json\n",
            "\n",
            "💾 Saving fine-tuned model...\n",
            "✅ Model saved to /content/drive/MyDrive/Context_Aware_Headlines/models/final_model\n"
          ]
        }
      ],
      "source": [
        "print(\"\\n💾 Saving model configuration...\")\n",
        "\n",
        "# Save model configuration\n",
        "config_info = {\n",
        "    \"base_model\": MODEL_NAME,\n",
        "    \"lora_config\": {\n",
        "        \"r\": lora_config.r,\n",
        "        \"lora_alpha\": lora_config.lora_alpha,\n",
        "        \"lora_dropout\": lora_config.lora_dropout,\n",
        "        \"target_modules\": list(lora_config.target_modules),  # Converted set to list for JSON\n",
        "        \"bias\": lora_config.bias\n",
        "    },\n",
        "    \"training_config\": {\n",
        "        \"num_train_epochs\": training_args.num_train_epochs,\n",
        "        \"per_device_train_batch_size\": training_args.per_device_train_batch_size,\n",
        "        \"per_device_eval_batch_size\": training_args.per_device_eval_batch_size,\n",
        "        \"gradient_accumulation_steps\": training_args.gradient_accumulation_steps,\n",
        "        \"learning_rate\": training_args.learning_rate,\n",
        "        \"warmup_ratio\": training_args.warmup_ratio,\n",
        "        \"fp16\": training_args.fp16,\n",
        "        \"gradient_checkpointing\": training_args.gradient_checkpointing\n",
        "    },\n",
        "    \"dataset_info\": {\n",
        "        \"train_samples\": len(train_dataset),\n",
        "        \"test_samples\": len(test_dataset),\n",
        "        \"max_length\": MAX_LENGTH\n",
        "    },\n",
        "    \"evaluation_results\": eval_results,\n",
        "}\n",
        "\n",
        "# Save configuration\n",
        "with open(f'{output_dir}/model_config.json', 'w', encoding='utf-8') as f:\n",
        "    json.dump(config_info, f, ensure_ascii=False, indent=2)\n",
        "\n",
        "print(f\"✅ Model configuration saved to {output_dir}/model_config.json\")\n",
        "\n",
        "# Save the fine-tuned model\n",
        "print(\"\\n💾 Saving fine-tuned model...\")\n",
        "model.save_pretrained(f\"{output_dir}/models/final_model\")\n",
        "tokenizer.save_pretrained(f\"{output_dir}/models/final_model\")\n",
        "print(f\"✅ Model saved to {output_dir}/models/final_model\")"
      ]
    },
    {
      "cell_type": "markdown",
      "metadata": {
        "id": "0TaE0Aj9RNch"
      },
      "source": [
        "## Section 21: Summary and Conclusions"
      ]
    },
    {
      "cell_type": "code",
      "execution_count": 68,
      "metadata": {
        "colab": {
          "base_uri": "https://localhost:8080/"
        },
        "id": "Yp_zyU9-G4fb",
        "outputId": "c6bbf97f-afcd-49b0-f811-a5c9f8487923"
      },
      "outputs": [
        {
          "name": "stdout",
          "output_type": "stream",
          "text": [
            "\n",
            "📊 Project Summary:\n",
            "✅ Dataset Statistics:\n",
            "   - Training samples: 81925\n",
            "   - Test samples: 5585\n",
            "   - Average title length: 9.2 words\n",
            "   - Average summary length: 28.8 words\n",
            "\n",
            "✅ Model Configuration:\n",
            "   - Base model: meta-llama/Llama-3.1-8B-Instruct\n",
            "   - LoRA rank: 16\n",
            "   - LoRA alpha: 32\n",
            "   - Target modules: {'q_proj', 'v_proj'}\n",
            "\n",
            "✅ Training Details:\n",
            "   - Epochs: 1\n",
            "   - Learning rate: 5e-05\n",
            "   - Batch size: 16\n",
            "\n",
            "✅ Evaluation Results:\n",
            "   - rouge1: 0.1959\n",
            "   - rouge2: 0.0487\n",
            "   - rougeL: 0.1643\n",
            "   - rougeLsum: 0.1647\n",
            "   - BERTScore F1: 0.7053\n",
            "\n",
            "💾 Output Files:\n",
            "   - Preprocessed data: /content/drive/MyDrive/Context_Aware_Headlines/*_preprocessed.csv\n",
            "   - Fine-tuned model: /content/drive/MyDrive/Context_Aware_Headlines/models/\n",
            "   - Generated headlines: /content/drive/MyDrive/Context_Aware_Headlines/results/generated_headlines.csv\n",
            "   - Evaluation metrics: /content/drive/MyDrive/Context_Aware_Headlines/results/evaluation_metrics.json\n",
            "   - Visualizations: /content/drive/MyDrive/Context_Aware_Headlines/plots/\n"
          ]
        }
      ],
      "source": [
        "print(f\"\\n📊 Project Summary:\")\n",
        "print(f\"✅ Dataset Statistics:\")\n",
        "print(f\"   - Training samples: {len(train_df)}\")\n",
        "print(f\"   - Test samples: {len(test_df)}\")\n",
        "print(f\"   - Average title length: {train_df['title_words'].mean():.1f} words\")\n",
        "print(f\"   - Average summary length: {train_df['summary_words'].mean():.1f} words\")\n",
        "\n",
        "print(f\"\\n✅ Model Configuration:\")\n",
        "print(f\"   - Base model: {MODEL_NAME}\")\n",
        "print(f\"   - LoRA rank: {lora_config.r}\")\n",
        "print(f\"   - LoRA alpha: {lora_config.lora_alpha}\")\n",
        "print(f\"   - Target modules: {lora_config.target_modules}\")\n",
        "\n",
        "print(f\"\\n✅ Training Details:\")\n",
        "print(f\"   - Epochs: {training_args.num_train_epochs}\")\n",
        "print(f\"   - Learning rate: {training_args.learning_rate}\")\n",
        "print(f\"   - Batch size: {training_args.per_device_train_batch_size}\")\n",
        "\n",
        "print(f\"\\n✅ Evaluation Results:\")\n",
        "for key, value in rouge_results.items():\n",
        "    print(f\"   - {key}: {value:.4f}\")\n",
        "print(f\"   - BERTScore F1: {F1.mean():.4f}\")\n",
        "\n",
        "print(f\"\\n💾 Output Files:\")\n",
        "print(f\"   - Preprocessed data: {output_dir}/*_preprocessed.csv\")\n",
        "print(f\"   - Fine-tuned model: {output_dir}/models/\")\n",
        "print(f\"   - Generated headlines: {output_dir}/results/generated_headlines.csv\")\n",
        "print(f\"   - Evaluation metrics: {output_dir}/results/evaluation_metrics.json\")\n",
        "print(f\"   - Visualizations: {output_dir}/plots/\")"
      ]
    },
    {
      "cell_type": "code",
      "execution_count": 69,
      "metadata": {
        "colab": {
          "base_uri": "https://localhost:8080/"
        },
        "id": "72Q3CLa4vo9w",
        "outputId": "6b1389a5-8e75-41d5-908e-75f5e5e3c8f1"
      },
      "outputs": [
        {
          "name": "stdout",
          "output_type": "stream",
          "text": [
            "\n",
            "💾 Saving fine-tuned model and tokenizer to Google Drive...\n",
            "✅ Model and tokenizer saved to /content/drive/MyDrive/Context_Aware_Headlines/models/final_model\n",
            "You can now load this model for inference using PeftModel.from_pretrained().\n"
          ]
        }
      ],
      "source": [
        "# Save the fine-tuned model and tokenizer to your output directory in Google Drive\n",
        "print(\"\\n💾 Saving fine-tuned model and tokenizer to Google Drive...\")\n",
        "\n",
        "# The trainer already saved the best model checkpoint during training.\n",
        "# We will save the final adapter model explicitly here for clarity.\n",
        "final_model_path = f\"{output_dir}/models/final_model\"\n",
        "model.save_pretrained(final_model_path)\n",
        "tokenizer.save_pretrained(final_model_path)\n",
        "\n",
        "print(f\"✅ Model and tokenizer saved to {final_model_path}\")\n",
        "print(\"You can now load this model for inference using PeftModel.from_pretrained().\")"
      ]
    }
  ],
  "metadata": {
    "accelerator": "GPU",
    "colab": {
      "gpuType": "A100",
      "machine_shape": "hm",
      "provenance": []
    },
    "kernelspec": {
      "display_name": "Python 3",
      "name": "python3"
    },
    "language_info": {
      "name": "python"
    },
    "widgets": {
      "application/vnd.jupyter.widget-state+json": {
        "130052bbb333453cb2b1043254cacd8c": {
          "model_module": "@jupyter-widgets/base",
          "model_module_version": "1.2.0",
          "model_name": "LayoutModel",
          "state": {
            "_model_module": "@jupyter-widgets/base",
            "_model_module_version": "1.2.0",
            "_model_name": "LayoutModel",
            "_view_count": null,
            "_view_module": "@jupyter-widgets/base",
            "_view_module_version": "1.2.0",
            "_view_name": "LayoutView",
            "align_content": null,
            "align_items": null,
            "align_self": null,
            "border": null,
            "bottom": null,
            "display": null,
            "flex": null,
            "flex_flow": null,
            "grid_area": null,
            "grid_auto_columns": null,
            "grid_auto_flow": null,
            "grid_auto_rows": null,
            "grid_column": null,
            "grid_gap": null,
            "grid_row": null,
            "grid_template_areas": null,
            "grid_template_columns": null,
            "grid_template_rows": null,
            "height": null,
            "justify_content": null,
            "justify_items": null,
            "left": null,
            "margin": null,
            "max_height": null,
            "max_width": null,
            "min_height": null,
            "min_width": null,
            "object_fit": null,
            "object_position": null,
            "order": null,
            "overflow": null,
            "overflow_x": null,
            "overflow_y": null,
            "padding": null,
            "right": null,
            "top": null,
            "visibility": null,
            "width": null
          }
        },
        "1645a596ff9642d9b1edf9b942e503f6": {
          "model_module": "@jupyter-widgets/controls",
          "model_module_version": "1.5.0",
          "model_name": "HTMLModel",
          "state": {
            "_dom_classes": [],
            "_model_module": "@jupyter-widgets/controls",
            "_model_module_version": "1.5.0",
            "_model_name": "HTMLModel",
            "_view_count": null,
            "_view_module": "@jupyter-widgets/controls",
            "_view_module_version": "1.5.0",
            "_view_name": "HTMLView",
            "description": "",
            "description_tooltip": null,
            "layout": "IPY_MODEL_55e580be55534bb9b96fdb00d18acb13",
            "placeholder": "​",
            "style": "IPY_MODEL_30e7836c14534e019c39cadb3150fb73",
            "value": " 4/4 [00:04&lt;00:00,  1.02s/it]"
          }
        },
        "30e7836c14534e019c39cadb3150fb73": {
          "model_module": "@jupyter-widgets/controls",
          "model_module_version": "1.5.0",
          "model_name": "DescriptionStyleModel",
          "state": {
            "_model_module": "@jupyter-widgets/controls",
            "_model_module_version": "1.5.0",
            "_model_name": "DescriptionStyleModel",
            "_view_count": null,
            "_view_module": "@jupyter-widgets/base",
            "_view_module_version": "1.2.0",
            "_view_name": "StyleView",
            "description_width": ""
          }
        },
        "55e580be55534bb9b96fdb00d18acb13": {
          "model_module": "@jupyter-widgets/base",
          "model_module_version": "1.2.0",
          "model_name": "LayoutModel",
          "state": {
            "_model_module": "@jupyter-widgets/base",
            "_model_module_version": "1.2.0",
            "_model_name": "LayoutModel",
            "_view_count": null,
            "_view_module": "@jupyter-widgets/base",
            "_view_module_version": "1.2.0",
            "_view_name": "LayoutView",
            "align_content": null,
            "align_items": null,
            "align_self": null,
            "border": null,
            "bottom": null,
            "display": null,
            "flex": null,
            "flex_flow": null,
            "grid_area": null,
            "grid_auto_columns": null,
            "grid_auto_flow": null,
            "grid_auto_rows": null,
            "grid_column": null,
            "grid_gap": null,
            "grid_row": null,
            "grid_template_areas": null,
            "grid_template_columns": null,
            "grid_template_rows": null,
            "height": null,
            "justify_content": null,
            "justify_items": null,
            "left": null,
            "margin": null,
            "max_height": null,
            "max_width": null,
            "min_height": null,
            "min_width": null,
            "object_fit": null,
            "object_position": null,
            "order": null,
            "overflow": null,
            "overflow_x": null,
            "overflow_y": null,
            "padding": null,
            "right": null,
            "top": null,
            "visibility": null,
            "width": null
          }
        },
        "923262101c394750a6c8d745fe9def1c": {
          "model_module": "@jupyter-widgets/base",
          "model_module_version": "1.2.0",
          "model_name": "LayoutModel",
          "state": {
            "_model_module": "@jupyter-widgets/base",
            "_model_module_version": "1.2.0",
            "_model_name": "LayoutModel",
            "_view_count": null,
            "_view_module": "@jupyter-widgets/base",
            "_view_module_version": "1.2.0",
            "_view_name": "LayoutView",
            "align_content": null,
            "align_items": null,
            "align_self": null,
            "border": null,
            "bottom": null,
            "display": null,
            "flex": null,
            "flex_flow": null,
            "grid_area": null,
            "grid_auto_columns": null,
            "grid_auto_flow": null,
            "grid_auto_rows": null,
            "grid_column": null,
            "grid_gap": null,
            "grid_row": null,
            "grid_template_areas": null,
            "grid_template_columns": null,
            "grid_template_rows": null,
            "height": null,
            "justify_content": null,
            "justify_items": null,
            "left": null,
            "margin": null,
            "max_height": null,
            "max_width": null,
            "min_height": null,
            "min_width": null,
            "object_fit": null,
            "object_position": null,
            "order": null,
            "overflow": null,
            "overflow_x": null,
            "overflow_y": null,
            "padding": null,
            "right": null,
            "top": null,
            "visibility": null,
            "width": null
          }
        },
        "a5a4373a8e25437abacffcc4e225fc38": {
          "model_module": "@jupyter-widgets/controls",
          "model_module_version": "1.5.0",
          "model_name": "HTMLModel",
          "state": {
            "_dom_classes": [],
            "_model_module": "@jupyter-widgets/controls",
            "_model_module_version": "1.5.0",
            "_model_name": "HTMLModel",
            "_view_count": null,
            "_view_module": "@jupyter-widgets/controls",
            "_view_module_version": "1.5.0",
            "_view_name": "HTMLView",
            "description": "",
            "description_tooltip": null,
            "layout": "IPY_MODEL_130052bbb333453cb2b1043254cacd8c",
            "placeholder": "​",
            "style": "IPY_MODEL_fb5a6a68c7d44f0da6acf8c6f6d48cf8",
            "value": "Loading checkpoint shards: 100%"
          }
        },
        "c1c1f6c9b7754ad2af241ea285d43e9b": {
          "model_module": "@jupyter-widgets/controls",
          "model_module_version": "1.5.0",
          "model_name": "ProgressStyleModel",
          "state": {
            "_model_module": "@jupyter-widgets/controls",
            "_model_module_version": "1.5.0",
            "_model_name": "ProgressStyleModel",
            "_view_count": null,
            "_view_module": "@jupyter-widgets/base",
            "_view_module_version": "1.2.0",
            "_view_name": "StyleView",
            "bar_color": null,
            "description_width": ""
          }
        },
        "c38ce6bc719540df8c2078bc0a7d1ae0": {
          "model_module": "@jupyter-widgets/base",
          "model_module_version": "1.2.0",
          "model_name": "LayoutModel",
          "state": {
            "_model_module": "@jupyter-widgets/base",
            "_model_module_version": "1.2.0",
            "_model_name": "LayoutModel",
            "_view_count": null,
            "_view_module": "@jupyter-widgets/base",
            "_view_module_version": "1.2.0",
            "_view_name": "LayoutView",
            "align_content": null,
            "align_items": null,
            "align_self": null,
            "border": null,
            "bottom": null,
            "display": null,
            "flex": null,
            "flex_flow": null,
            "grid_area": null,
            "grid_auto_columns": null,
            "grid_auto_flow": null,
            "grid_auto_rows": null,
            "grid_column": null,
            "grid_gap": null,
            "grid_row": null,
            "grid_template_areas": null,
            "grid_template_columns": null,
            "grid_template_rows": null,
            "height": null,
            "justify_content": null,
            "justify_items": null,
            "left": null,
            "margin": null,
            "max_height": null,
            "max_width": null,
            "min_height": null,
            "min_width": null,
            "object_fit": null,
            "object_position": null,
            "order": null,
            "overflow": null,
            "overflow_x": null,
            "overflow_y": null,
            "padding": null,
            "right": null,
            "top": null,
            "visibility": null,
            "width": null
          }
        },
        "cc63161d15c14978ba01de47524cca73": {
          "model_module": "@jupyter-widgets/controls",
          "model_module_version": "1.5.0",
          "model_name": "FloatProgressModel",
          "state": {
            "_dom_classes": [],
            "_model_module": "@jupyter-widgets/controls",
            "_model_module_version": "1.5.0",
            "_model_name": "FloatProgressModel",
            "_view_count": null,
            "_view_module": "@jupyter-widgets/controls",
            "_view_module_version": "1.5.0",
            "_view_name": "ProgressView",
            "bar_style": "success",
            "description": "",
            "description_tooltip": null,
            "layout": "IPY_MODEL_c38ce6bc719540df8c2078bc0a7d1ae0",
            "max": 4,
            "min": 0,
            "orientation": "horizontal",
            "style": "IPY_MODEL_c1c1f6c9b7754ad2af241ea285d43e9b",
            "value": 4
          }
        },
        "d05828a6f3b34f369a12324482f574ee": {
          "model_module": "@jupyter-widgets/controls",
          "model_module_version": "1.5.0",
          "model_name": "HBoxModel",
          "state": {
            "_dom_classes": [],
            "_model_module": "@jupyter-widgets/controls",
            "_model_module_version": "1.5.0",
            "_model_name": "HBoxModel",
            "_view_count": null,
            "_view_module": "@jupyter-widgets/controls",
            "_view_module_version": "1.5.0",
            "_view_name": "HBoxView",
            "box_style": "",
            "children": [
              "IPY_MODEL_a5a4373a8e25437abacffcc4e225fc38",
              "IPY_MODEL_cc63161d15c14978ba01de47524cca73",
              "IPY_MODEL_1645a596ff9642d9b1edf9b942e503f6"
            ],
            "layout": "IPY_MODEL_923262101c394750a6c8d745fe9def1c"
          }
        },
        "fb5a6a68c7d44f0da6acf8c6f6d48cf8": {
          "model_module": "@jupyter-widgets/controls",
          "model_module_version": "1.5.0",
          "model_name": "DescriptionStyleModel",
          "state": {
            "_model_module": "@jupyter-widgets/controls",
            "_model_module_version": "1.5.0",
            "_model_name": "DescriptionStyleModel",
            "_view_count": null,
            "_view_module": "@jupyter-widgets/base",
            "_view_module_version": "1.2.0",
            "_view_name": "StyleView",
            "description_width": ""
          }
        }
      }
    }
  },
  "nbformat": 4,
  "nbformat_minor": 0
}
