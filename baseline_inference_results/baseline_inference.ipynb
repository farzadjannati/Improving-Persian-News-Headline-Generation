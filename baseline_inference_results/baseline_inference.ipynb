{
 "cells": [
  {
   "cell_type": "markdown",
   "metadata": {
    "id": "nHQu8BF53k4c"
   },
   "source": [
    "<div style=\"display:block;width:100%;margin:auto;\" direction=rtl align=center>\n",
    "    <br><br>\n",
    "    <div style=\"width:100%;margin:100;display:block;background-color:#fff0;\" display=block align=center>\n",
    "        <table style=\"border-style:hidden;border-collapse:collapse;\">\n",
    "            <tr>\n",
    "                <td style=\"border: none!important;\">\n",
    "                    <img width=130 align=right src=\"https://i.ibb.co/yXKQmtZ/logo1.png\" style=\"margin:0;\" />\n",
    "                </td>\n",
    "                <td style=\"text-align:center;border: none!important;\">\n",
    "                    <h1 align=center><font size=5 color=\"#045F5F\"> <b> Large Language Models (LLM)</b><br><br>Final Project</font></h1>\n",
    "                </td>\n",
    "                <td style=\"border: none!important;\">\n",
    "                    <img width=170 align=left src=\"https://i.ibb.co/wLjqFkw/logo2.png\" style=\"margin:0;\" />\n",
    "                </td>\n",
    "            </tr>\n",
    "        </table>\n",
    "        <h1> Farzad Jannati- Abolfazl Asarian Nejad-Shahriar Rahimi Rad </h1>\n",
    "        <h1> Prof. MJ. Dousti & Yadollah Yaghoobzadeh </h1>\n",
    "    </div>\n",
    "</div>"
   ]
  },
  {
   "cell_type": "markdown",
   "metadata": {
    "colab_type": "toc",
    "id": "MJLjnx7Y0Foo"
   },
   "source": [
    ">[Persian News Headline Generation - Baseline Models Inference](#scrollTo=agww1awCz_ep)\n",
    "\n",
    ">>[Section 1: Environment Setup and Configuration](#scrollTo=xm24otvg0N8G)\n",
    "\n",
    ">>>[Import necessary libraries](#scrollTo=KsoN2H4T3nh1)\n",
    "\n",
    ">>[Section 2: Data Loading and Preprocessing](#scrollTo=xB6MsodN0Zww)\n",
    "\n",
    ">>[Section 3: Prompt Engineering](#scrollTo=UbPcgKzi0nNR)\n",
    "\n",
    ">>[Section 4: Model Loading and Inference](#scrollTo=L-GPWpNU0uLo)\n",
    "\n",
    ">>[Section 5: Evaluation Metrics](#scrollTo=WHT9Pzrl03h9)\n",
    "\n",
    ">>[Section 6: Visualization](#scrollTo=sN_X9fsz1Cj-)\n",
    "\n",
    ">>[Section 7: Main Execution Pipeline](#scrollTo=IMKh8AL31L89)\n",
    "\n"
   ]
  },
  {
   "cell_type": "markdown",
   "metadata": {
    "id": "agww1awCz_ep"
   },
   "source": [
    "# Persian News Headline Generation - Baseline Models Inference"
   ]
  },
  {
   "cell_type": "markdown",
   "metadata": {
    "id": "xm24otvg0N8G"
   },
   "source": [
    "## Section 1: Environment Setup and Configuration"
   ]
  },
  {
   "cell_type": "markdown",
   "metadata": {
    "id": "KsoN2H4T3nh1"
   },
   "source": [
    "### Import necessary libraries"
   ]
  },
  {
   "cell_type": "code",
   "execution_count": null,
   "metadata": {
    "collapsed": true,
    "id": "gVBWczFi4u29"
   },
   "outputs": [],
   "source": [
    "!pip install pandas numpy torch transformers datasets tqdm matplotlib seaborn evaluate rouge_score bert_score"
   ]
  },
  {
   "cell_type": "code",
   "execution_count": null,
   "metadata": {
    "colab": {
     "base_uri": "https://localhost:8080/"
    },
    "id": "nFpvSu2N0XCk",
    "outputId": "8a976862-b504-498b-d7a9-a88b9821acc3"
   },
   "outputs": [
    {
     "name": "stdout",
     "output_type": "stream",
     "text": [
      "Drive already mounted at /content/drive; to attempt to forcibly remount, call drive.mount(\"/content/drive\", force_remount=True).\n",
      "Environment setup completed successfully!\n",
      "Output directory: /content/drive/MyDrive/baseline_inference_results\n",
      "Available models: ['gemma-3-4b', 'qwen3-8b', 'mistral-7b', 'llama-3.1-8b']\n"
     ]
    }
   ],
   "source": [
    "import os\n",
    "import gc\n",
    "import json\n",
    "import torch\n",
    "import pandas as pd\n",
    "import numpy as np\n",
    "from datetime import datetime\n",
    "from typing import List, Dict, Optional, Tuple\n",
    "from tqdm import tqdm\n",
    "import matplotlib.pyplot as plt\n",
    "import seaborn as sns\n",
    "from transformers import (\n",
    "    AutoTokenizer,\n",
    "    AutoModelForCausalLM,\n",
    "    GenerationConfig,\n",
    "    pipeline\n",
    ")\n",
    "from datasets import Dataset\n",
    "from evaluate import load\n",
    "from huggingface_hub import login\n",
    "from google.colab import drive\n",
    "\n",
    "# Mount Google Drive first\n",
    "drive.mount('/content/drive')\n",
    "\n",
    "# Set CUDA environment variables to help with debugging\n",
    "os.environ['CUDA_LAUNCH_BLOCKING'] = '1'\n",
    "os.environ['TORCH_USE_CUDA_DSA'] = '1'\n",
    "\n",
    "# Add Hugging Face Token\n",
    "HF_TOKEN = \"HF_TOKEN\"  # Replace with your actual token\n",
    "login(token=HF_TOKEN)\n",
    "\n",
    "# Set up directories - using same directory name as before\n",
    "OUTPUT_DIR = \"/content/drive/MyDrive/baseline_inference_results\"\n",
    "os.makedirs(OUTPUT_DIR, exist_ok=True)\n",
    "os.makedirs(f\"{OUTPUT_DIR}/generated_headlines\", exist_ok=True)\n",
    "os.makedirs(f\"{OUTPUT_DIR}/evaluation_results\", exist_ok=True)\n",
    "os.makedirs(f\"{OUTPUT_DIR}/visualizations\", exist_ok=True)\n",
    "\n",
    "# Define baseline models\n",
    "BASELINE_MODELS = {\n",
    "    \"gemma-3-4b\": \"google/gemma-3-4b-it\",\n",
    "    \"qwen3-8b\": \"Qwen/Qwen3-8B\",\n",
    "    \"mistral-7b\": \"mistralai/Mistral-7B-Instruct-v0.3\",\n",
    "    \"llama-3.1-8b\": \"meta-llama/Llama-3.1-8B-Instruct\"\n",
    "}\n",
    "\n",
    "# Model loading configuration\n",
    "MODEL_LOAD_KWARGS = {\n",
    "    \"torch_dtype\": torch.float16,\n",
    "    \"device_map\": \"auto\",\n",
    "    \"trust_remote_code\": True,\n",
    "    \"token\": HF_TOKEN,\n",
    "    \"low_cpu_mem_usage\": True\n",
    "}\n",
    "\n",
    "print(\"Environment setup completed successfully!\")\n",
    "print(f\"Output directory: {OUTPUT_DIR}\")\n",
    "print(f\"Available models: {list(BASELINE_MODELS.keys())}\")"
   ]
  },
  {
   "cell_type": "markdown",
   "metadata": {
    "id": "xB6MsodN0Zww"
   },
   "source": [
    "## Section 2: Data Loading and Preprocessing"
   ]
  },
  {
   "cell_type": "code",
   "execution_count": 14,
   "metadata": {
    "id": "j5Vr6OxP0cHq"
   },
   "outputs": [],
   "source": [
    "def load_test_dataset(file_path: str) -> pd.DataFrame:\n",
    "    \"\"\"\n",
    "    Load test dataset with article and title columns, with error handling for CSV reading.\n",
    "\n",
    "    Args:\n",
    "        file_path: Path to test.csv file\n",
    "\n",
    "    Returns:\n",
    "        DataFrame with preprocessed data\n",
    "    \"\"\"\n",
    "    try:\n",
    "        print(f\"Loading test dataset from {file_path}...\")\n",
    "\n",
    "        # Try reading with default parameters\n",
    "        try:\n",
    "            df = pd.read_csv(file_path)\n",
    "            print(\"Dataset loaded successfully with default parameters.\")\n",
    "        except Exception as e_default:\n",
    "            print(f\"Default CSV reading failed: {e_default}. Trying alternative parameters...\")\n",
    "            # If default fails, try common delimiters and engines\n",
    "            try:\n",
    "                df = pd.read_csv(file_path, delimiter='\\t', engine='python')\n",
    "                print(\"Dataset loaded successfully with tab delimiter and python engine.\")\n",
    "            except Exception as e_tab:\n",
    "                print(f\"Tab delimited reading failed: {e_tab}. Trying semicolon delimiter...\")\n",
    "                try:\n",
    "                    df = pd.read_csv(file_path, delimiter=';', engine='python')\n",
    "                    print(\"Dataset loaded successfully with semicolon delimiter and python engine.\")\n",
    "                except Exception as e_semicolon:\n",
    "                    print(f\"Semicolon delimited reading failed: {e_semicolon}. Final attempt with different engine and separator...\")\n",
    "                    try:\n",
    "                        # A more robust but potentially slower option\n",
    "                        df = pd.read_csv(file_path, sep=None, engine='python', on_bad_lines='skip')\n",
    "                        print(\"Dataset loaded successfully with flexible separator and skipping bad lines.\")\n",
    "                    except Exception as e_final:\n",
    "                        print(f\"All attempts to load CSV failed: {e_final}\")\n",
    "                        return pd.DataFrame()\n",
    "\n",
    "\n",
    "        # Display dataset info\n",
    "        print(f\"Dataset loaded successfully!\")\n",
    "        print(f\"Total articles: {len(df)}\")\n",
    "        print(f\"Columns: {list(df.columns)}\")\n",
    "\n",
    "        # Clean and preprocess text - ensure 'article' and 'title' columns exist\n",
    "        if 'article' in df.columns and 'title' in df.columns:\n",
    "            df['article_text'] = df['article'].apply(clean_persian_text)\n",
    "            df['original_title'] = df['title'].apply(clean_persian_text)\n",
    "            # Add source column for tracking\n",
    "            df['source'] = 'test_dataset'\n",
    "            return df\n",
    "        else:\n",
    "            print(\"Error: 'article' or 'title' column not found in the dataset.\")\n",
    "            print(f\"Available columns: {list(df.columns)}\")\n",
    "            return pd.DataFrame()\n",
    "\n",
    "\n",
    "    except Exception as e:\n",
    "        print(f\"An unexpected error occurred during data loading: {e}\")\n",
    "        return pd.DataFrame()\n",
    "\n",
    "def clean_persian_text(text: str) -> str:\n",
    "    \"\"\"\n",
    "    Clean and normalize Persian text\n",
    "\n",
    "    Args:\n",
    "        text: Raw Persian text\n",
    "\n",
    "    Returns:\n",
    "        Cleaned text\n",
    "    \"\"\"\n",
    "    if pd.isna(text):\n",
    "        return \"\"\n",
    "\n",
    "    # Remove [n] markers\n",
    "    text = text.replace('[n]', ' ')\n",
    "\n",
    "    # Remove extra whitespaces\n",
    "    text = ' '.join(text.split())\n",
    "\n",
    "    # Limit text length for inference (max 512 words)\n",
    "    words = text.split()\n",
    "    if len(words) > 512:\n",
    "        text = ' '.join(words[:512])\n",
    "\n",
    "    return text.strip()"
   ]
  },
  {
   "cell_type": "markdown",
   "metadata": {
    "id": "UbPcgKzi0nNR"
   },
   "source": [
    "## Section 3: Prompt Engineering"
   ]
  },
  {
   "cell_type": "code",
   "execution_count": 6,
   "metadata": {
    "id": "ZKmuREio0o_T"
   },
   "outputs": [],
   "source": [
    "def create_headline_generation_prompt(article_text: str) -> str:\n",
    "    \"\"\"\n",
    "    Create an optimized prompt for Persian headline generation\n",
    "\n",
    "    Args:\n",
    "        article_text: The article content\n",
    "\n",
    "    Returns:\n",
    "        Formatted prompt for the model\n",
    "    \"\"\"\n",
    "    prompt = f\"\"\"You are a professional journalist. Please write an attractive, short and catchy headline in Persian for the following news text.\n",
    "\n",
    "News text:\n",
    "{article_text}\n",
    "\n",
    "Suggested headline:\"\"\"\n",
    "\n",
    "    return prompt"
   ]
  },
  {
   "cell_type": "markdown",
   "metadata": {
    "id": "L-GPWpNU0uLo"
   },
   "source": [
    "## Section 4: Model Loading and Inference"
   ]
  },
  {
   "cell_type": "code",
   "execution_count": 9,
   "metadata": {
    "id": "yZessBr30xOP"
   },
   "outputs": [],
   "source": [
    "class BaselineModelInference:\n",
    "    \"\"\"Handle model loading and inference for baseline models\"\"\"\n",
    "\n",
    "    def __init__(self, model_name: str, model_path: str):\n",
    "        self.model_name = model_name\n",
    "        self.model_path = model_path\n",
    "        self.model = None\n",
    "        self.tokenizer = None\n",
    "        self.device = torch.device(\"cuda\" if torch.cuda.is_available() else \"cpu\")\n",
    "        self._load_model()\n",
    "\n",
    "    def _load_model(self):\n",
    "        \"\"\"Load model and tokenizer with error handling\"\"\"\n",
    "        try:\n",
    "            print(f\"\\nLoading {self.model_name}...\")\n",
    "\n",
    "            # Load tokenizer\n",
    "            self.tokenizer = AutoTokenizer.from_pretrained(\n",
    "                self.model_path,\n",
    "                token=HF_TOKEN,\n",
    "                trust_remote_code=True\n",
    "            )\n",
    "\n",
    "            # Set pad token if not exists\n",
    "            if self.tokenizer.pad_token is None:\n",
    "                self.tokenizer.pad_token = self.tokenizer.eos_token\n",
    "\n",
    "            # Load model\n",
    "            self.model = AutoModelForCausalLM.from_pretrained(\n",
    "                self.model_path,\n",
    "                **MODEL_LOAD_KWARGS\n",
    "            )\n",
    "\n",
    "            # Fix for Gemma vocab_size issue\n",
    "            if \"gemma\" in self.model_name.lower():\n",
    "                # Skip vocab size check for Gemma models\n",
    "                pass\n",
    "            else:\n",
    "                # Safe vocab size check for other models\n",
    "                try:\n",
    "                    vocab_size = self.model.config.vocab_size\n",
    "                    if self.tokenizer.pad_token_id >= vocab_size:\n",
    "                        self.model.resize_token_embeddings(len(self.tokenizer))\n",
    "                except AttributeError:\n",
    "                    # If vocab_size doesn't exist, skip resize\n",
    "                    pass\n",
    "\n",
    "            print(f\"{self.model_name} loaded successfully!\")\n",
    "\n",
    "        except Exception as e:\n",
    "            print(f\"Error loading {self.model_name}: {e}\")\n",
    "            raise  # Re-raise the exception after logging\n",
    "\n",
    "    def generate_headline(self, article_text: str, max_length: int = 50) -> str:\n",
    "        \"\"\"\n",
    "        Generate headline for a single article\n",
    "\n",
    "        Args:\n",
    "            article_text: Input article text\n",
    "            max_length: Maximum length of generated headline\n",
    "\n",
    "        Returns:\n",
    "            Generated headline\n",
    "        \"\"\"\n",
    "        try:\n",
    "            # Clean and validate input text\n",
    "            if not article_text or len(article_text.strip()) == 0:\n",
    "                return \"No content provided\"\n",
    "\n",
    "            # Create prompt\n",
    "            prompt = create_headline_generation_prompt(article_text)\n",
    "\n",
    "            # Tokenize with proper padding and truncation\n",
    "            inputs = self.tokenizer(\n",
    "                prompt,\n",
    "                return_tensors=\"pt\",\n",
    "                truncation=True,\n",
    "                max_length=512,\n",
    "                padding=True,\n",
    "                add_special_tokens=True\n",
    "            )\n",
    "\n",
    "            # Move inputs to device safely\n",
    "            inputs = {k: v.to(self.device) for k, v in inputs.items()}\n",
    "\n",
    "            # Generate with proper configuration to avoid CUDA errors\n",
    "            with torch.no_grad():\n",
    "                # Fix for Gemma: use safer generation parameters\n",
    "                if \"gemma\" in self.model_name.lower():\n",
    "                    outputs = self.model.generate(\n",
    "                        input_ids=inputs['input_ids'],\n",
    "                        attention_mask=inputs['attention_mask'],\n",
    "                        max_new_tokens=max_length,\n",
    "                        do_sample=False,  # Disable sampling for Gemma\n",
    "                        temperature=1.0,\n",
    "                        pad_token_id=self.tokenizer.pad_token_id,\n",
    "                        eos_token_id=self.tokenizer.eos_token_id,\n",
    "                        use_cache=True\n",
    "                    )\n",
    "                else:\n",
    "                    outputs = self.model.generate(\n",
    "                        input_ids=inputs['input_ids'],\n",
    "                        attention_mask=inputs['attention_mask'],\n",
    "                        max_new_tokens=max_length,\n",
    "                        do_sample=True,\n",
    "                        temperature=0.7,\n",
    "                        top_p=0.9,\n",
    "                        pad_token_id=self.tokenizer.pad_token_id,\n",
    "                        eos_token_id=self.tokenizer.eos_token_id,\n",
    "                        repetition_penalty=1.1,\n",
    "                        use_cache=True\n",
    "                    )\n",
    "\n",
    "            # Decode the generated text\n",
    "            generated_text = self.tokenizer.decode(outputs[0], skip_special_tokens=True)\n",
    "\n",
    "            # Extract only the generated part (remove prompt)\n",
    "            if prompt in generated_text:\n",
    "                headline = generated_text.replace(prompt, \"\").strip()\n",
    "            else:\n",
    "                # Sometimes the model modifies the prompt slightly\n",
    "                parts = generated_text.split('\\n')\n",
    "                headline = parts[-1].strip() if parts else generated_text\n",
    "\n",
    "            # Clean up the headline\n",
    "            headline = headline.replace(\"عنوان پیشنهادی:\", \"\").strip()\n",
    "            headline = headline.replace(\"Suggested headline:\", \"\").strip()\n",
    "            headline = headline.replace(\"Title:\", \"\").strip()\n",
    "\n",
    "            # Ensure headline is not too long\n",
    "            if len(headline) > 200:\n",
    "                headline = headline[:200] + \"...\"\n",
    "\n",
    "            return headline if headline else \"Unable to generate headline\"\n",
    "\n",
    "        except Exception as e:\n",
    "            print(f\"Error generating headline: {e}\")\n",
    "            return \"Error in headline generation\"\n",
    "\n",
    "    def process_dataset(self, df: pd.DataFrame, batch_size: int = 4) -> pd.DataFrame:\n",
    "        \"\"\"\n",
    "        Process LIMITED dataset to generate headlines - ONLY FIRST 100 SAMPLES\n",
    "\n",
    "        Args:\n",
    "            df: Input dataframe with article texts\n",
    "            batch_size: Reduced batch size to prevent CUDA errors\n",
    "\n",
    "        Returns:\n",
    "            Dataframe with generated headlines\n",
    "        \"\"\"\n",
    "        # IMPORTANT: Limit to first 100 samples for inference\n",
    "        inference_df = df.head(100).copy()\n",
    "        print(f\"Processing FIRST 100 articles (out of {len(df)} total) with {self.model_name}...\")\n",
    "\n",
    "        headlines = []\n",
    "\n",
    "        # Process only the first 100 articles\n",
    "        for i in tqdm(range(len(inference_df))):\n",
    "            row = inference_df.iloc[i]\n",
    "\n",
    "            # Use 'article_text' column\n",
    "            article_text = row.get('article_text', '')\n",
    "\n",
    "            # Skip empty texts\n",
    "            if not article_text or len(article_text.strip()) == 0:\n",
    "                headlines.append(\"Empty article\")\n",
    "                continue\n",
    "\n",
    "            try:\n",
    "                headline = self.generate_headline(article_text)\n",
    "                headlines.append(headline)\n",
    "            except Exception as e:\n",
    "                print(f\"Error processing article {i}: {e}\")\n",
    "                headlines.append(\"Error in processing\")\n",
    "\n",
    "            # Clear CUDA cache periodically\n",
    "            if i % 10 == 0 and torch.cuda.is_available():\n",
    "                torch.cuda.empty_cache()\n",
    "\n",
    "        # Add headlines to the limited dataframe\n",
    "        inference_df[f'{self.model_name}_headline'] = headlines\n",
    "\n",
    "        # Create result dataframe with all original data but headlines only for first 100\n",
    "        result_df = df.copy()\n",
    "        result_df[f'{self.model_name}_headline'] = pd.Series(dtype='object')\n",
    "\n",
    "        # Fill in the headlines for the first 100 rows\n",
    "        result_df.loc[:99, f'{self.model_name}_headline'] = headlines\n",
    "\n",
    "        # Fill remaining rows with a placeholder\n",
    "        if len(result_df) > 100:\n",
    "            result_df.loc[100:, f'{self.model_name}_headline'] = \"Not processed (>100)\"\n",
    "\n",
    "        return result_df\n",
    "\n",
    "    def cleanup(self):\n",
    "        \"\"\"Clean up GPU memory thoroughly\"\"\"\n",
    "        if hasattr(self, 'model'):\n",
    "            del self.model\n",
    "        if hasattr(self, 'tokenizer'):\n",
    "            del self.tokenizer\n",
    "\n",
    "        # Force garbage collection and CUDA cache clearing\n",
    "        import gc\n",
    "        gc.collect()\n",
    "\n",
    "        if torch.cuda.is_available():\n",
    "            torch.cuda.empty_cache()\n",
    "            torch.cuda.synchronize()"
   ]
  },
  {
   "cell_type": "markdown",
   "metadata": {
    "id": "WHT9Pzrl03h9"
   },
   "source": [
    "## Section 5: Evaluation Metrics"
   ]
  },
  {
   "cell_type": "code",
   "execution_count": 10,
   "metadata": {
    "id": "OQ4dtpGX07qq"
   },
   "outputs": [],
   "source": [
    "class HeadlineEvaluator:\n",
    "    \"\"\"\n",
    "    Class to evaluate generated headlines using various metrics\n",
    "    \"\"\"\n",
    "\n",
    "    def __init__(self):\n",
    "        \"\"\"Initialize evaluation metrics\"\"\"\n",
    "        self.rouge = load('rouge')\n",
    "        self.bertscore = load('bertscore')\n",
    "\n",
    "    def calculate_rouge_scores(self, predictions: List[str], references: List[str]) -> Dict:\n",
    "        \"\"\"Calculate ROUGE scores\"\"\"\n",
    "        results = self.rouge.compute(\n",
    "            predictions=predictions,\n",
    "            references=references,\n",
    "            use_stemmer=False\n",
    "        )\n",
    "\n",
    "        return {\n",
    "            'rouge1': results['rouge1'],\n",
    "            'rouge2': results['rouge2'],\n",
    "            'rougeL': results['rougeL']\n",
    "        }\n",
    "\n",
    "    def calculate_bertscore(self, predictions: List[str], references: List[str]) -> Dict:\n",
    "        \"\"\"Calculate BERTScore\"\"\"\n",
    "        results = self.bertscore.compute(\n",
    "            predictions=predictions,\n",
    "            references=references,\n",
    "            lang=\"fa\"\n",
    "        )\n",
    "\n",
    "        return {\n",
    "            'precision': np.mean(results['precision']),\n",
    "            'recall': np.mean(results['recall']),\n",
    "            'f1': np.mean(results['f1'])\n",
    "        }\n",
    "\n",
    "    def evaluate_model(self, df: pd.DataFrame, model_name: str) -> Dict:\n",
    "        \"\"\"Evaluate a model's generated headlines - only for first 100 samples\"\"\"\n",
    "        print(f\"\\nEvaluating {model_name} (first 100 samples)...\")\n",
    "\n",
    "        # Only evaluate the first 100 samples\n",
    "        eval_df = df.head(100)\n",
    "\n",
    "        predictions = eval_df[f'{model_name}_headline'].tolist()\n",
    "        references = eval_df['original_title'].tolist()\n",
    "\n",
    "        # Filter out empty or error predictions\n",
    "        valid_pairs = [(pred, ref) for pred, ref in zip(predictions, references)\n",
    "                      if pred not in [\"Empty article\", \"Error in processing\", \"Unable to generate headline\", \"Not processed (>100)\"]\n",
    "                      and ref and len(ref.strip()) > 0]\n",
    "\n",
    "        if not valid_pairs:\n",
    "            print(f\"No valid predictions for {model_name}\")\n",
    "            return {\n",
    "                'model': model_name,\n",
    "                'rouge1': 0.0,\n",
    "                'rouge2': 0.0,\n",
    "                'rougeL': 0.0,\n",
    "                'bertscore_precision': 0.0,\n",
    "                'bertscore_recall': 0.0,\n",
    "                'bertscore_f1': 0.0\n",
    "            }\n",
    "\n",
    "        valid_predictions, valid_references = zip(*valid_pairs)\n",
    "\n",
    "        rouge_scores = self.calculate_rouge_scores(list(valid_predictions), list(valid_references))\n",
    "        bert_scores = self.calculate_bertscore(list(valid_predictions), list(valid_references))\n",
    "\n",
    "        results = {\n",
    "            'model': model_name,\n",
    "            'rouge1': rouge_scores['rouge1'],\n",
    "            'rouge2': rouge_scores['rouge2'],\n",
    "            'rougeL': rouge_scores['rougeL'],\n",
    "            'bertscore_precision': bert_scores['precision'],\n",
    "            'bertscore_recall': bert_scores['recall'],\n",
    "            'bertscore_f1': bert_scores['f1']\n",
    "        }\n",
    "\n",
    "        return results"
   ]
  },
  {
   "cell_type": "markdown",
   "metadata": {
    "id": "sN_X9fsz1Cj-"
   },
   "source": [
    "## Section 6: Visualization"
   ]
  },
  {
   "cell_type": "code",
   "execution_count": 11,
   "metadata": {
    "id": "P_MMKVys1HFf"
   },
   "outputs": [],
   "source": [
    "def create_evaluation_visualizations(evaluation_results: List[Dict], output_dir: str):\n",
    "    \"\"\"Create and save visualization plots with results display\"\"\"\n",
    "\n",
    "    # Convert to DataFrame for easier plotting\n",
    "    results_df = pd.DataFrame(evaluation_results)\n",
    "\n",
    "    # Print detailed results to console\n",
    "    print(\"\\n\" + \"=\"*80)\n",
    "    print(\"DETAILED EVALUATION RESULTS (Based on First 100 Samples)\")\n",
    "    print(\"=\"*80)\n",
    "\n",
    "    for idx, result in enumerate(evaluation_results):\n",
    "        print(f\"\\n{idx+1}. Model: {result['model']}\")\n",
    "        print(\"-\" * 40)\n",
    "        print(f\"ROUGE Scores:\")\n",
    "        print(f\"  - ROUGE-1: {result.get('rouge1', 0):.4f}\")\n",
    "        print(f\"  - ROUGE-2: {result.get('rouge2', 0):.4f}\")\n",
    "        print(f\"  - ROUGE-L: {result.get('rougeL', 0):.4f}\")\n",
    "        print(f\"BERTScore:\")\n",
    "        print(f\"  - Precision: {result.get('bertscore_precision', 0):.4f}\")\n",
    "        print(f\"  - Recall: {result.get('bertscore_recall', 0):.4f}\")\n",
    "        print(f\"  - F1: {result.get('bertscore_f1', 0):.4f}\")\n",
    "\n",
    "    # Print summary statistics\n",
    "    print(\"\\n\" + \"=\"*80)\n",
    "    print(\"SUMMARY STATISTICS\")\n",
    "    print(\"=\"*80)\n",
    "\n",
    "    # Calculate and print average scores\n",
    "    avg_rouge1 = results_df['rouge1'].mean()\n",
    "    avg_rouge2 = results_df['rouge2'].mean()\n",
    "    avg_rougeL = results_df['rougeL'].mean()\n",
    "    avg_bert_f1 = results_df['bertscore_f1'].mean()\n",
    "\n",
    "    print(f\"\\nAverage Scores Across All Models:\")\n",
    "    print(f\"  - Average ROUGE-1: {avg_rouge1:.4f}\")\n",
    "    print(f\"  - Average ROUGE-2: {avg_rouge2:.4f}\")\n",
    "    print(f\"  - Average ROUGE-L: {avg_rougeL:.4f}\")\n",
    "    print(f\"  - Average BERTScore F1: {avg_bert_f1:.4f}\")\n",
    "\n",
    "    # Find best performing model\n",
    "    best_rouge_model = results_df.loc[results_df['rouge1'].idxmax(), 'model']\n",
    "    best_bert_model = results_df.loc[results_df['bertscore_f1'].idxmax(), 'model']\n",
    "\n",
    "    print(f\"\\nBest Performing Models:\")\n",
    "    print(f\"  - Best ROUGE-1 Score: {best_rouge_model}\")\n",
    "    print(f\"  - Best BERTScore F1: {best_bert_model}\")\n",
    "\n",
    "    print(\"\\n\" + \"=\"*80)\n",
    "\n",
    "    # Set style\n",
    "    plt.style.use('seaborn-v0_8-darkgrid')\n",
    "\n",
    "    # 1. ROUGE Scores Comparison\n",
    "    fig, ax = plt.subplots(figsize=(12, 8))\n",
    "\n",
    "    metrics = ['rouge1', 'rouge2', 'rougeL']\n",
    "    x = np.arange(len(results_df))\n",
    "    width = 0.25\n",
    "\n",
    "    for i, metric in enumerate(metrics):\n",
    "        values = results_df[metric].values\n",
    "        bars = ax.bar(x + i*width, values, width, label=metric.upper())\n",
    "\n",
    "        # Add value labels on bars\n",
    "        for bar, value in zip(bars, values):\n",
    "            height = bar.get_height()\n",
    "            ax.text(bar.get_x() + bar.get_width()/2., height,\n",
    "                   f'{value:.3f}', ha='center', va='bottom', fontsize=10)\n",
    "\n",
    "    ax.set_xlabel('Models', fontsize=12)\n",
    "    ax.set_ylabel('Score', fontsize=12)\n",
    "    ax.set_title('ROUGE Scores Comparison (First 100 Samples)', fontsize=14, fontweight='bold')\n",
    "    ax.set_xticks(x + width)\n",
    "    ax.set_xticklabels(results_df['model'].values, rotation=45, ha='right')\n",
    "    ax.legend()\n",
    "    ax.set_ylim(0, max(results_df[metrics].max().max() * 1.2, 0.1))\n",
    "\n",
    "    plt.tight_layout()\n",
    "    plt.savefig(f\"{output_dir}/rouge_comparison.png\", dpi=300, bbox_inches='tight')\n",
    "    plt.show()\n",
    "    plt.close()\n",
    "\n",
    "    # 2. BERTScore Comparison\n",
    "    fig, ax = plt.subplots(figsize=(12, 8))\n",
    "\n",
    "    bert_metrics = ['bertscore_precision', 'bertscore_recall', 'bertscore_f1']\n",
    "\n",
    "    for i, metric in enumerate(bert_metrics):\n",
    "        values = results_df[metric].values\n",
    "        bars = ax.bar(x + i*width, values, width,\n",
    "                      label=metric.replace('bertscore_', '').upper())\n",
    "\n",
    "        # Add value labels on bars\n",
    "        for bar, value in zip(bars, values):\n",
    "            height = bar.get_height()\n",
    "            ax.text(bar.get_x() + bar.get_width()/2., height,\n",
    "                   f'{value:.3f}', ha='center', va='bottom', fontsize=10)\n",
    "\n",
    "    ax.set_xlabel('Models', fontsize=12)\n",
    "    ax.set_ylabel('Score', fontsize=12)\n",
    "    ax.set_title('BERTScore Comparison (First 100 Samples)', fontsize=14, fontweight='bold')\n",
    "    ax.set_xticks(x + width)\n",
    "    ax.set_xticklabels(results_df['model'].values, rotation=45, ha='right')\n",
    "    ax.legend()\n",
    "    ax.set_ylim(0, max(results_df[bert_metrics].max().max() * 1.2, 0.1))\n",
    "\n",
    "    plt.tight_layout()\n",
    "    plt.savefig(f\"{output_dir}/bertscore_comparison.png\", dpi=300, bbox_inches='tight')\n",
    "    plt.show()\n",
    "    plt.close()\n",
    "\n",
    "    # 3. Combined Heatmap\n",
    "    fig, ax = plt.subplots(figsize=(10, 8))\n",
    "\n",
    "    # Prepare data for heatmap\n",
    "    heatmap_data = results_df.set_index('model')[metrics + bert_metrics]\n",
    "\n",
    "    # Create heatmap with annotations\n",
    "    sns.heatmap(heatmap_data.T, annot=True, fmt='.3f', cmap='YlOrRd',\n",
    "                cbar_kws={'label': 'Score'}, ax=ax, vmin=0, vmax=1)\n",
    "\n",
    "    ax.set_title('Performance Heatmap - All Metrics (First 100 Samples)', fontsize=14, fontweight='bold')\n",
    "    ax.set_xlabel('Models', fontsize=12)\n",
    "    ax.set_ylabel('Metrics', fontsize=12)\n",
    "\n",
    "    plt.tight_layout()\n",
    "    plt.savefig(f\"{output_dir}/performance_heatmap.png\", dpi=300, bbox_inches='tight')\n",
    "    plt.show()\n",
    "    plt.close()\n",
    "\n",
    "    # 4. Save numerical results to CSV\n",
    "    results_df.to_csv(f\"{output_dir}/evaluation_scores.csv\", index=False)\n",
    "    print(f\"\\nNumerical results saved to {output_dir}/evaluation_scores.csv\")\n",
    "\n",
    "    print(\"\\nVisualizations completed and saved successfully!\")"
   ]
  },
  {
   "cell_type": "markdown",
   "metadata": {
    "id": "IMKh8AL31L89"
   },
   "source": [
    "## Section 7: Main Execution Pipeline"
   ]
  },
  {
   "cell_type": "code",
   "execution_count": 15,
   "metadata": {
    "colab": {
     "base_uri": "https://localhost:8080/",
     "height": 1000,
     "referenced_widgets": [
      "05d375b9509b421598fffbdb9fc541db",
      "1148726150d3460eb6397651cc0aa0d6",
      "940b795c7630461ea28340e044f146da",
      "8002db59fe5e4aadb6733ce314818ff8",
      "dc2430ee51294c4096fdad6ef0d7de9a",
      "13940442aae84c948d8049901a2224e8",
      "b818937648e340ff87ffdc729fc8545a",
      "b56795584efb4fc7b44c6554c56ee1f5",
      "6ad5fcd1f9c942d9bb5ba8e6a4554eea",
      "44c6cee5a3704a9a88314acfcbd2d743",
      "34837cfe0b6f4ca0857aa6d8a0cca426",
      "66e2def87b0b44d9a470e6b641858505",
      "0378534623c04fd08a410c7130ebc9e2",
      "20225e4a629a4982a2995ba48f37507e",
      "8893408be64c401eacab02e96df0fc9d",
      "ca406a07006a4297b2e3adfb281d4ba7",
      "db777c884da84c0da72140f4891fa880",
      "bd4bb22b385342b78742d4e4d817c547",
      "177f6b53e61b4d3a96195cad14400f9d",
      "99284abfe6b14e36b7d474581a89de47",
      "92a55e01fe1240b3942add0b0c3a0e7b",
      "dc63403739414c39865f13396b163b8f",
      "5f512b9c39c14c2db1df4af55cf09b41",
      "ab13dfca322f47c785969a0135b8f264",
      "8aa040eca1244a97bc7905656680ef62",
      "d26e0ccbf6614b789e85ef2b274d1ada",
      "7bb9bc1a659c4d45b1c91a4a39af00ae",
      "938849419b9a48d3896cebd361af0a09",
      "0ee66fec7f7b47de8822e539ce30530f",
      "415baa95cc684988a251855ee0feffb4",
      "92d83987700d4b378b98ddaf3de59d1c",
      "1912f4233611470aabf1a848c3ec14c2",
      "d9fe9d8509eb4a41b3217776ee756b2f",
      "9c01b5ea6c1045d19e8bab2c866658e6",
      "3830a3ab0ee34848a270114be90bd4b2",
      "2c67bbea072744b0b561fc7453e27695",
      "8783431e15964833bed1a0432123bfab",
      "94745695f88840af853c98407c0759c1",
      "7f7c9dd838b5467db2e9b2107437c7ce",
      "05a990f12ab648f2840729fa437142c8",
      "73eae5f810bb4cdc9e7f486ab890c895",
      "31baffa5ac3f467f8446b9ae136a4bb4",
      "af9c5717db124005b54631cc65ac24eb",
      "02502adac60d4c8c867845d1e32fb3b5",
      "eff925408fea404db89041f29fdaaeb6",
      "b0427fc74af9457aa393cfbda1936114",
      "b336fdfc2b4f4772aa6a80e7732910f9",
      "cdf1d8facbe34be4a55aae9d40c5739e",
      "c314c14180a34e78a0cb158a15218136",
      "78486db16067493597b8ace9a5617df7",
      "36e571919458490da29d4244ae71860d",
      "f87f9a02d0a049edbc30c1b4bc072545",
      "0029f2fa605c41c4932cbd3d1692c88a",
      "b36b4a66c3984babb63936414c665da1",
      "7a78480f547f4525ab21de78bd439eb8",
      "1f66730781ed4249aa66f06de5c65750",
      "703b8aaf614d402ebf921d9cfc8cffc4",
      "a357fa480bbd4961ac39a1548a973250",
      "552082a27b5d4efd8f6bf5871ec565bb",
      "d25fda76772c467aa635b1a369cfc624",
      "75fe285d07df48eb995cfa356213b1fb",
      "1a90802575124044a1e56dab17d4487a",
      "9e849d25551f4b44813de68e008fc329",
      "652cebced2344be48fdfcfdeb5a6477b",
      "55499a24c42c4e999842731dbc017190",
      "5cc61da4676c428088a334bcc54c9dca",
      "895ba8bfaa224c38a759e4324104740f",
      "eea78954f68a42ba887246da7ca620bd",
      "5f9104c20b23473fb3f032654c407848",
      "17fe196762e74373a7b5bf3365c0e0a2",
      "8cb7143a1d214a3aafc8081a855b530e",
      "157ba5a849964701a0939d447e5abfc9",
      "afc3bf6a890245129d6da3a8744fdccc",
      "cfbee91b86064ea6b0a4e6acceadeea1",
      "29d871053c974a45992256986d17f925",
      "dfea96d5dcf047329553574259c08264",
      "637a9196f326492fbe40af8beeaa6e55",
      "14a90715f9cb4d5dbd624648c14002ab",
      "f00e315665ae4a4cba80ac790b546877",
      "150003dd000041a3905fa7a38721ae9b",
      "e87730df85344a29a6c691b6f6f313a5",
      "ba365e4e756c447e912d22d83e74a482",
      "b8975974293a4e5c882ce9cc4a23faa0",
      "20b00b9e674c40c3b774938f00d5542b",
      "f55602b3d93043eaa451d1c0aa7a3b4c",
      "5a7936e1201c47cf952e68da84ab83a0",
      "bf382157060f4c6683508ce9f1936818",
      "fd9053ae9bf946a9ab688df421d31eca",
      "85e3a7c3f1274586ba10b89d61e939f7",
      "9ebe2745cf2343d3bcd69be17db9ed92",
      "5c20d278fd8c47fba918e777eac6896d",
      "21e5e77d220b4a839675d2d8ad8121e0",
      "2ff032c19fca425f98d3c8efa81c6389",
      "587e014d37b7417ba927973a7556782e",
      "fe4bca87a3f544d083dcc8e7fb5cb048",
      "6465f21ee99549098fda3c89ba5bcbc7",
      "0163e0d6e6744544adcdf8216a8cdd44",
      "001c384ac11f4a1186a80aac302e0b8d",
      "df700e798feb498cb3c3ae7e90735fbf",
      "395d4135e4da494ba712fc343e5771bc",
      "4ae51a939d2844aab9f9e53b77450297",
      "5a901fe9765f498bb0159cea1f199af3",
      "a88b8acf809541acb87ce810fb23b227",
      "e259b1d7298d44b3bd0d9a694c3e51d7",
      "2f44e188e5e94ae0823ced37c75f968e",
      "7fafbad92d3f4f5b88ee3d584896ebae",
      "a1ff51f059cc4597889e57b9a7508355",
      "3161f599cb734e3585f96d614cdfc519",
      "c58b285035dd480194ba300fff759686",
      "095884f2ddcb4d51a0205b6618860e7f",
      "8a4e4929400f404aa7c0d81a254f6948",
      "e7a3eb9025c44f85a8fdb78a9b4a4eef",
      "6dc7711fec0645b1a68471534fa51fcb",
      "f37a4c29d57d4f76b8bcff2c3d362034",
      "32cb224ae96a41f2931b863b81d7ed41",
      "f604dd679eae4b6bb0037678f963e24d",
      "142235673f644e869d6f631c6337c4a2",
      "741c6b2a830f4497bc95263b4b8aee8a",
      "f125497d29f44ecba23dd1b8d62a2a52",
      "53a832aab64d45d7b143ede9a403bf0c",
      "5420cf231b82484ea10c92e75d37b3a2",
      "ca4b3378767e4581b33f1304c1e3acd6",
      "267031e471c24b858eed55afcb4bac81",
      "9fb82b44bea74e3ca14177ebe2477d21",
      "01b4813b96194ce09c01e0562afae638",
      "5b7830b0330e4d768702b237ccd7008a",
      "19dafb1413484afb8633aeca52df3d08",
      "20971ba9897e40a88bc3131e7f59c67e",
      "bdc2e784d72e45468a2299b2d20b2ca8",
      "d8c9f28786264bba82ea1b030a57d61f",
      "24e650f617f844878ba9840baabf1e84",
      "4835f270afe442ac9ea68d14a9c1ca17",
      "bf60efc2f4ff48a9aa806019ab5ef820",
      "ddb83eee5a6c4c6f80f6778909772544",
      "5e0a2df50dae40c680f3eef7ec2e64ce",
      "4121e5717e714268b9e72e8c13a4c668",
      "178ed8eabb584e85a53e179b33a64039",
      "eb95fa3d61df4d6fb0dbd3ab2d13453e",
      "b91950d2e87b4e6198b78afbda2adec2",
      "1b97023ed19644eab67fe57b301c76a3",
      "7a35051b7adb432bb837ce496636e966",
      "a9a8bf137224476790009e481acde23c",
      "2e684f25c5fd49e9ac9f8228b516db6f",
      "3523cae9cd0d4fbe9736efd22f191029",
      "64cacc5321bb49529ad89cba77a34636",
      "e9f0c160b69a4cd7976df8b77f3c22af",
      "accf0aed997e4e80a75448b0b9d3e38d",
      "24394602eddc4431ba2f50d7f6c54f67",
      "e926213ebe9145a1b7836eb1e1debe7d",
      "1ec5ded5f4b448e5a4fa6885a32a92b2",
      "58a008258f2349dfb1d6dd01bbfa529b",
      "76003e01309244a9864305edb15248de",
      "72e5b02d4d7046c78189768db0c36a9d",
      "c8a8d03feb3b4931b26fc34dfca1e06d",
      "8485a995ad29481cbce70746f8fcdec6",
      "8eeb1389be0449f5ac4b57c3858353ab",
      "e40c4b8d6895419ea4d2d84255949019",
      "5a92fc59aec14fc5a81a121d734a6f76",
      "f66858daa3144482b4fc300a71fc28e9",
      "ff24be89e6834a24bb773704a2bc2330",
      "5217cb0210ce4079b6c804412162c59c",
      "13b21a96b5384478a7b159b289b39a9d",
      "08c8c6e88fd545fbb572a27aa5c33318",
      "5db8cc0e02b54ce398374b7139b87a9e",
      "864748bc96af40838b7eeda3f556968e",
      "fff06fed509c4188ac3bb8a255f69e17",
      "4cd79f228282460da317c1b808c52978",
      "615c7fb0c2b94e7d94986026611aa23d",
      "64037daa27144293ab6e9097fe9363df",
      "12596ed17f40426dbda5902e39a2d6f3",
      "3ed148f2d6654f17883d7c2d22c4b56b",
      "2fa8756cabbf4f2f9a5923788ce635e3",
      "2b7c290d54a6426da160cfa1e0759031",
      "c4e80dfffc1449ab89a77e40b9725554",
      "178b7bf19a2645a7a7e63d7e03f3f96c",
      "fe19ed7666ea45f3bb78b83560896d71",
      "d7fb278fa7da462891495bfeb92ed5f3",
      "a2b3664485c04496b0b68b1e1e4045bb",
      "c23d237e12f447f38861602e8ce5dc2f",
      "b33e694be38b482887c03dd88eee5f8b",
      "17da2f00e5134f70be321412681f999f",
      "e4d52369015842b092e6050756b68b3a",
      "c03d1ab03fc6495c8d3bc3c00cf4359e",
      "21047a44639844be89f3d8dc65f8bce9",
      "7e1aa338fb53474ab15bff6f6fe29b35",
      "6cfbe37202394033b4b6a3cd35525a5a",
      "65275ce067c546f59f2d9be2ee9c35af",
      "43d35c9692ee4b7ebd1d27690f9fecaa",
      "9ca8a010f5a04e8f95010e95cdfc5d8e",
      "da8f8de26f834fc496de4a2014518eee",
      "dd0a868bea3d43e089a04767eebf0234",
      "06e4dcd44ec44419a3c00180d7696768",
      "41dbb2466d0249f6af158c5630faf5be",
      "cbdbdff69235444da740a83c686d8a5e",
      "044bcdff7f514898a90e823fbb8fb669",
      "4e765d594cac49b980925d3cb8b268bd",
      "8d4dc670bcf64296aa3e7707cdce097b",
      "56a5f31efd6948a4b791e4eff7e1a0bf",
      "f280a870850b4ed9b9e9cb3c27fbeb35",
      "881b312a6877407fb865ab0cc61d23c5",
      "024aad1440af4240a68e9f59f52706ce",
      "7ead226dcbfd4216a836c7639b287fe4",
      "eceffe3d0da14178be3b5e3e7973ddcf",
      "b0dc7b8abf844d85be6b7c87407346e8",
      "ef9a44f53a464c0686ee23da836cedf7",
      "7c015624e4ef4757bf5daaf245e8ee00",
      "bf5bda182475465dbed106d267668f41",
      "0bac2581053649d29341a316c12fa3d0",
      "0cc8246f569d4b609a9e5ede158bfc62",
      "a769f6add38b4fbbb97470f15ac02878",
      "295ecdf86fe0459aaf67021b2be0bf74",
      "13094e58b81449d1a06d1aef8cb1f9b8",
      "ed2d0bef6bb74cfabe832cc1d19dc195",
      "5963c20c5f6a4948af7bff914a3faacb",
      "cf3c155cb1b9439d8fd90a7687178a6c",
      "2b7c26fea17948b0941783ad05843c2a",
      "bd2be5060289413fa531a4126bac1a13",
      "49f4597ed5be4990925132ead86b27b6",
      "2d2ad02d782a4204baa3485d0307e737",
      "87ea138bc7f84131bf274e73d097a266",
      "b66eb97ce4cc4416af79b3398dd26dc5",
      "05cca95d90ca4af1a789012016eeb2b4",
      "71816602287448cdb4fea575e4636f7c",
      "a99e5ba33d19401f8cd332ad2d9f6454",
      "d997b5d01a8049ea8c02d09ae6ff8133",
      "62b8ff7d09ae4e6ba99465ccd7d084f3",
      "0c8f920956d741ecbbf5b568da6d0669",
      "0ad34c85bd8e44aa80034b7a40dbecff",
      "465ec91a160c4ff9b888e348b4a8555f",
      "6763afbcff6f46cb9d6e6fa7484ab539",
      "18ef525d7287465190fbec437e15227d",
      "6282ed78ce334af5bc91adf65b6551a3",
      "86d623184cce473d8e9da15c91b2f65c",
      "94c127e9f55c4d369e9a3328942a75ae",
      "ca0f415a0eec4e76a643dc14d53aae4c",
      "cfb3dad6dc2342878cd2c10110f0f343",
      "e3784b3efeb54e0c98bc87aff8e241c1",
      "8cedd9b289784233830935984e2ae381",
      "c3a77cebdbb44bc288b7c92e6d68bc19",
      "6ca5a14a3ab841b1877f3236837c25a3",
      "73437f9fe6c64cbbaba5615a02a262ed",
      "c3b506029ece4f5692ee973f9ddfb38a",
      "eea964d108c44676bd9015325436a8ba",
      "6f500fe2b59b4b5296d6fa810a05bb17",
      "8d803376b0f1497a88db6e0c96d20f78",
      "2733420a3074484790a4aae6ba3f2052",
      "8a25eae10f3244a78a0afde63e155cce",
      "708dd34cb1c548b49c365c01a82f0ec6",
      "95211fbaad544ccab51d631871d9973f",
      "2e2cc175172e4b7eae117649f24cd96f",
      "5c3fd89449d9452f92a2ea876025923b",
      "a30569b8772d4ac38b744013e34dbcb0",
      "c2076dba086048cb8e26653be4c9a36c",
      "16fc2846801246d08e48d7a087b53e8c",
      "c037dd98e18d424b8e6a98bc0922b0a6",
      "5be51ff28bdc4eb5b783505c4ada4d8b",
      "c94971eb344248bcac5c550ec8b2cc4d",
      "f4009edce0d04772a777b69961192955",
      "e6ad46d2fe874e02b464e5854fa67584",
      "0f760ca174794e30b38b3d27425136c8",
      "fb81bf391fdc455b97cffce9ed3aa8ff",
      "08c89f36ba71414bbbf5de7e1a14cc65",
      "028b3d3a59a342be8fe707170c250f49",
      "4a2e329c39c74627bf865385984989a2",
      "790e42cd673e41b982c71e31ed0ceb6a",
      "5cb8fd5d66d34fe2a686b3b8a9c93da2",
      "28500112c1b641539a8b8ff9f5abce99",
      "3354e20d956444b28c85890945d41d0a",
      "dacac24cfd674dd9bd5035bba476f2bc",
      "7d89a4c39dbb44bd9efc8c47698805c6",
      "e6f99687b54d4d71aba7338f90d437ee",
      "c8e5ee94c024468385edc8e95671edd3",
      "e73e83561cc346b7a25de207b8c72795",
      "a7bb4b8829f74a01a086b2cdf67ebcec",
      "2b2b389615db4f7da452af58b19539a3",
      "6f69c9a8e52d4d1d83da5960b8f58d16",
      "f87acce030374c19b8e5eee2997facd6",
      "d8840026c03d404997633035eebcd4f7",
      "53f98a13f7f84cb98ba5212f88c1e1be",
      "adcab36dda4d4a1cba4afddff3a38f22",
      "961ced8c3982497c862b20e54859bd86",
      "77953b39e46f45a7b1383ff60b4c270c",
      "c4b378c7c02d48fe9a78fd32c14f6264",
      "a2643d0fc6b54df28542a8fee068aa03",
      "956ae665f5c547bc904bc194d865eb4c",
      "4d75796f4f174f48a9f6f25114177775",
      "c2721291f4394adcbcab457f7ab552d3",
      "f1a84bb622194533898223e26c623a27",
      "7a792d6d04c64ad6b1d7d83676168f71",
      "66dfc2f143f0428cb6e1201bcde9a874",
      "fd4f62af79924525bd39da2939b55c1e",
      "408f147c89f247afbc481a6b765335d1",
      "ffc2f4b795dd47e2bcb55ef5219703aa",
      "c5430d17e26c48ca9af32c3d643f099b",
      "a874fa74ebb641878134847f3b3a145b",
      "9917f33aab8146ea8537c575d11488d7",
      "f44221b620504738af4b9e83d2d8ef81",
      "34d0319c2e4244cf894cc5ce24756ad1",
      "a3d763b11f9641768dac643177718fdb",
      "87c01b5d110444cdb5066b72f5289b7e",
      "fa938cb780384d82be96e15988977c32",
      "e5303bcd87764dd3a048b66b7221001a",
      "65eb9c63318843d4b4d5e06325de95f8",
      "350c4056d97d44c1af61b4e8ea90acb9",
      "d76cc19ce687498cb8529f66946d3728",
      "b97f792cf257445b9aa7e41c2caf2d12",
      "97ea0b9b255a4546b14f05570f2455d5",
      "68af8b6dd19b4f4894266f58211d116b",
      "52f513de61a84d26b6a7599a5299c628",
      "8b5ba71a6916474ca6110501010a6bd2",
      "720a40a47b7a4e60b25aa7f78cde78c4",
      "53a9a00cc74042e4a1b173fc1d449c2c",
      "73b3fc4a3a11459e993da5f390e441da",
      "bca79a8de82047139f905f698b9e3439",
      "eb8e68cd09cb4b8f99ee76bbf56c5bef",
      "f59c807194454d37869515d754185bff",
      "9c69e205d1e44cc2a69b75d0c16df031",
      "33c4bca801ba4bd4aa3f66f78c18803e",
      "c4bc32030b51403e9c744318842aa496",
      "dd4ebb618d6f4ae2864f975e610ee50e",
      "d823fd0ccd6f4fbcb0bb35b3dc41a588",
      "929b2a411497483da26ce3f3ddf2eece",
      "b3e0693d40d64613b3ae535323c0afb4",
      "847b5ea10e8346fe83c6e836405e3462",
      "7401f882eea94ae69298e229e3c6d586",
      "8b1bdff464974503b9ce3e42e60fb628",
      "eefbefd179a443b391479923f4bafe51",
      "89d0242a43104daaa375d13ef767b7f3",
      "442a14396b8549e9adee80da3e479329",
      "23f1947f23de455ead03f774aec330dd",
      "95c00adaf9fe48b78c66c6a09de9e01d",
      "a24df09ff2bb4157adc949df17326974",
      "795a617446e34b0388d20ba0034f2dce",
      "1847e206e24c487c843a4a0efcdb4269",
      "09aadb7934f2408ebb17f40ab73b61e1",
      "45152c5af456450a82e75162176a97fd",
      "7aa8ae37b9eb4bb395a234493b11154a",
      "24d853aeeed94a6ca38c054d2886120f",
      "2977d56374224df99cd4233cfdc8fc06",
      "8cd82927890a466185266d8de1eb1174",
      "8f9626388859426f823d763280348b21",
      "60da43f456a6441d9b69a413cb19bc78",
      "79c82caabfa344e59da5a47a22d1fd83",
      "1cbfadbd57c140ffa2695f376c5395bc",
      "288d11499c684267845c3321b14f2f5e",
      "092c057a609a45dc954d656231a6926c",
      "6896595852414e0bba780f3e4d48b070",
      "def216041f61436692bbd8fd879e3ff8",
      "80c3df2127804d27bd6c25416293e8d6",
      "423fdb48d3f44e86a96e4a9755e99295",
      "66dab0cb328341439cfe72b6878ad722",
      "a9da2550a8b0444da9c5a06ca8bdaf75",
      "cfaee3108d9a4920bde1c8ad5b7d9ef4",
      "064dc2887e794b72b1907b855cc378b0",
      "309eb935ddfc425a82c86fce16a5c796",
      "b5eefd3d2c734922a7cd3fa22f13254c",
      "deee3158ef03429180469bafc3e92726",
      "3b4a66fefce8444bb5ca1b043f39d534",
      "bb2ce1c662874ee480a52468b8af838a",
      "c2a8b381c7e84627bfd21a8e17fee464",
      "8fcc104a08f447ca88120db5ab5854b8",
      "d597b763d8054627847a477c1e4677cd",
      "282f58cfcffd47ba8d6ed0f50ff42053",
      "d24f5442495a4fbaaea80bcba6732d42",
      "dc67ccc522d843779bb3d0c67f62728b",
      "0f9702192c9d46b9af8ef97d1381acf1",
      "60be9f6d8ccf4fd49bbe89195ea0e743",
      "ec55a102cdea456f9c07cf247d505b02",
      "ec04706356b4461b96ec6386b47fbad3",
      "3c1201a5e459400da8a0cf94b06e9f10",
      "c064fbaecee8451ea586e1b2ddc87e51",
      "dc7b62422e8b41e2af4e2f7acce57e04",
      "890d0783770e4a828fe2f054eefdd9e1",
      "efe1501805bc42908d13d1cbb6ea7ed4",
      "8a958bb76c524d63a1bf138862d91acb",
      "3db0e4c3f0ca4d8dbaa95062904aedcf",
      "20bd499e37e34452ae2e4f625f0556fa",
      "ef1e9c2bc58d4b249eb5469841ade989",
      "7bbabe8389d74803ba01206c85ab6717",
      "daec6cc89f3641538cde851b50067d6d",
      "1d36744171cd40eeb1048fa9be560751",
      "2539db1a201e49048ffe0417e5ead266",
      "32185548304d4610981c8a0a8fd840bc",
      "ffddfa17545542e6a705b15646fef66e",
      "f5fb04665c0842699037f88dd92892eb",
      "958fc76358ba4cadbc38b08939c52743",
      "8597877b1e5a4608a7d11a26b473f5c7",
      "9b14b450bbbe4fb98b700e764e7afbac",
      "046f93d0e58345d18a8d340bb51f1bfa",
      "eacb7c1dbbcf4a579cea35566cb6b75f",
      "dcb2d9466b064d589d52c379709a12d9",
      "9c3b2741c09444e7990309e3858bd18d",
      "e61ac5deffb44ac8824e805b75f6e3bb",
      "6d43018fe2c9437fb3ef4b97b48f2767",
      "337d641ccd5a4406bc3fac9bf9b5ce6c",
      "9c08d009d45744f6b5cd527131900550",
      "f90770dafe934d5c93a8128b4f6c19c5",
      "f288e87a0bea4b388d6d5d3c19120441",
      "df5cdf4399f54df097ca421e3ac81316",
      "e30cbf4d987f4d9385ae71841b2572a2",
      "11b14910ed7c416ebd2bc586fb93b38a",
      "c97a5f9bc23142d79b92ee5d8acd904c",
      "3be4cf83402c467180c2982e12d3e56a",
      "e309e867c7914d1691212db53412da47",
      "38eadf8054344682bfe2a9fb8dbee660",
      "3168dc2ca9044d068a6c34b4cbd2328d",
      "4c2fc9ad6b88491990ab013575b3a03f",
      "bb9dfa8dc6f241e0b8834b160491fa4d",
      "052fd08a94ac4d7380f8352ce1b958f9",
      "c7838afc5bfd4f9982a435abf75d8f23",
      "b2e1ea16d7134857a9c497e22569f47d",
      "615181244fbc463f990a0959d79015ae",
      "043c9044bd714ede86930a3ace3fa6c6",
      "2ce2e33bffa1456faacf606c3a4c9951",
      "039d408602ba447abeb5fec0922d8b61",
      "988232768a224980afbe7a87856f6dfc",
      "13cce49ed26c4c81b63a6af41c538efc",
      "f0e5127f103245188584b28bd0bd551b",
      "9a088f57f1284b33b874065f735dd0eb",
      "2ba4d0faecb44d16aef024ae5c17b490",
      "bd60f64473cd4d92aa9055b2a3a22afb",
      "5ea2e9faf0e444479e8050e093ee5d7d",
      "416d894bfdf34b498ff80f653cecd9be",
      "b63fe8c6f2ac469aac35ec404f489c8b",
      "66d0790d19924a1a90e07f484b6ce999",
      "5853f1b4acbc496e918f4d9ae15b66b5",
      "cf35ab67fd8d468eb5cd044996bf33eb",
      "ec11810d2c69453aba249ce7410d83bd",
      "fadf5d57c0914ac692e7201d86b46407",
      "e05eb3076fb34f678c3492192d0c4104",
      "f88bf00bf197476bb52419b746fefd02",
      "4d8b13f0366148ef870433a24cdeb1f1",
      "7656a6debcd947598db75dc509f88ec3",
      "44751693fee1460e9f99ec660eb45997",
      "604d2a68b16e4064b86384aac4803be7",
      "8803edf1e68840b1818ef309911f9000",
      "e9957d3cdc4b4d0593c964885fbe0ea6",
      "0cec80557e5d4cd4980a29b91428dfb9",
      "0f490f0adcff4f3ab6708fbe3278e571",
      "a24099eec3bf4979ad7cb31dc66a772c",
      "c48cb49e041f4fedb249c379a5161cbf",
      "a1d8dee38dd94f3fb4d00e5aa145276c",
      "e2d474267c2d43c0b76b94347d18e592",
      "992470abcebc499883187f8ca2312f9c",
      "0cc469d14ff24d36afa7630de9995465",
      "33a39e284f96419c97b4765f04169f35",
      "4bf1ac53462f420e840e4a1c701672d0",
      "9b26bfed4b974891ad8a55f9d60050ba",
      "d262c65037d14fcfa381154978c1d095",
      "84ee503981734d4a9f1d8edcdd6c91ea",
      "12a6ded568dd4ecba85504965666b951",
      "311394d1874d4267b8bf15def8501ead",
      "6c3c97e5197c4d639e2514c97ba4ce8d",
      "be06941c3f454113b8ffbb3ab29d8429",
      "a4c36babce1841dc9a3d9a30a118cfff",
      "6542e9dfd32441d0a5f936390a21b545",
      "6bf885cd1c924d47be2bacf3355a2492",
      "b949f6e82c79441d8e890a40e2cb4376",
      "f4b6be7198724cd7b36dc19529c10171",
      "45e0b4bd5a774623a27809c7579efc6f",
      "46e84d1ab53c4d9c819857010be03a83",
      "a70fd1bd76da4cca9877453b8d5f7052",
      "3471f2d86a7f4f1c9c463add46285486",
      "8327fa36bf764b6bbc7c32af1794540c",
      "16543cc585d04316be2afed5a4b82789",
      "7cc8cbfd2a034945892486cd15167315",
      "a5510d0303a0419a9e778e8fbb4dbf50",
      "77ef030ee4534cbd9246d01722296af6",
      "4b07318efb4e41f0a498a3977d0cac7a",
      "2401c871331a4aec85247512b11980b8",
      "97b947305eb849388a525c546ca08ba5",
      "9e3232f6264b4b3d9a0d976c9b3f2a92",
      "7d5cdb1c0e424413a9a7bf97a7c4ab1a",
      "d6595117c1f54119a4b99acaaa2933cc",
      "c41cbe9693a3406cb941a7a9f145a963",
      "f48eca4a0da24853af7ce60cf729a4c7",
      "757ca92da4044ee3814234ecc12b2f91",
      "8f5cec76fa7e4c31a16f1dbb9202fb17",
      "0478917a3e7c45f2ab44d2e1b4abc0dd",
      "12636762a8a24d50a3a10658c81dfdff",
      "2f3846908ac8438f93d6b9753891faf5",
      "a26e459c853d4fe3849717594a7fe19d",
      "b072c9932dfc41e09088c51a7dc3881e",
      "97642808d03d4673bd0fef56f3991457",
      "db04dfd752cd4030849f17d5a8b4ea17",
      "feb8120adc1948ebb6d84ed427c3ba89",
      "45807019f33c4cb696ee5808a786e6a0",
      "f73d2566c8b0420cbba3e0f288062e38",
      "fbeb9cc4093144789f9f71c6927ab663",
      "0791d2f5207f45fc85fe0d97e49e068d",
      "5b792488daa848e0a704b10b12b718e6",
      "46243b5c19a84efdbc288dd59493f154",
      "efe151c3dcee4b7089d95df4db817d37",
      "c02a543f2d9549f6ba53d28f59bad711",
      "0996840d500747f7b8f4e25d40dcdf1f",
      "398436dab4cd4176a04662fdcf184e7f",
      "260e5d7906c34e45bc9d55cb2caf3ba2",
      "01e161d81aeb4081a4cd4a182ff67b9a",
      "73cdd72671f44a04bf15af42049dca5b",
      "3e1591f69f1d43c1b94c2eb7798f1145",
      "413a02f99dd1481f8e33a5a276f93871",
      "09388a3c66fc4341bdf693957715c7c8",
      "3f908540f6e442318931dd8cf2d579f3",
      "a9b82e2231234a7c883c022f6d654b21",
      "2c1687cd7665444baa464fa443951a15",
      "0ff3f4b848e542388760d3c116de164c",
      "35009ee2615147b983bdb34d62e2d5da",
      "be1a24587b424e86a23487dbcc79801d",
      "ced7e91f9df14792952892450d3a55b8",
      "876e6b4b4bde4228be0dcce508ff4ba7",
      "60382c1712ff4bebafb18b74c17907c5",
      "4feef9e0ce69441db99521cd9f7d2b64",
      "592cfb069ae64230ae7d981639b30229",
      "e4ca4f5167264a06912db3b689c3088e",
      "746f7197ef0e4652b4782b2670d1153b",
      "df6f12a6c36747beb8cee5609ef0236b",
      "6da0d568b0a04fe78c33cc7965097a58",
      "2f903f7fc86b4ba688149c2e78f80564",
      "233c8074d0b34f30a9af625642253a06",
      "27bddb0cc432473fb780c135ca02ad9c",
      "9d81dae39d75418393a8fc39d15e1925",
      "50a9fe472d814989aa4aa550722236ce",
      "5d6d56b38fd9439bb9e8f83d96ae7a8b",
      "5090dbfbd8074d33946bb2ced547e7cb",
      "8ea2c6185f9b4e5aa0110b229b3f5392",
      "1dfc13c4e5634f5bb463c58d9a5f0678",
      "78baa0452d1a425fa24781cf0ca5647b",
      "43582358e9c34043acc83f6057c8d786",
      "c5733c7a203c4b8892cb3379b3da761f",
      "0ad7502972e7455987c56c15f1df6e00",
      "4a47bd634522430faf095ddc1af4a6c9",
      "30e6f784ba7541c8af4226b8f90619b9",
      "1132369a7897493db5628c0bd8f4bca8",
      "81fb4414669b4658af3b606be4c7e85c",
      "49b35e5e5864411d9ffd8649327e9d32",
      "62ababee56044a85ab5d45df5ad6e20d",
      "e0f67eae5b4f4c23adc3a8bcd8819703",
      "749b29f213c848b8adb8bc8982907ed0",
      "13e62e0961054d4b848375f4304983cb",
      "b0c01910c44f4a62932f6390899c2e0e",
      "11be90502f55439199ee396cd5d6eadf",
      "801d738e76804c30bac14e6eb00fab7d",
      "62b2955dae204bddab949ae06c206ad2",
      "facb24e7153b4d45bfc1737c81a0342b",
      "9ca29133047e4df492daa6e58a9a22b6",
      "c15f95920dbc43f9a4dec8a0361a1b49",
      "1719b66100c64028a610e5f25c724f76",
      "55fba1058fec4dd6911fac7bb69162c3",
      "ca81931eba5041728a4bed6efeea8bce",
      "667c434159bd4f04872f15ed55ec1a65",
      "c2cb754c12e34aac943f69abf96bbb06",
      "5f975112e3264fd2a42a104aaf93d85f",
      "764aa8a80c41485889e6f03e78e97cbe",
      "c5f018bc03624ef4a2e547ebb75509eb",
      "76c5ba4766f445d0b347db3b2b7e9ad5",
      "15a308b7e3704dc086c2112d97c05ce1",
      "b1a4440fa91245acb86980c7ac6f3f1b",
      "4e84163ba6364acfb6bae76c72850aef",
      "45b1434381a24657a5f4ce155d9ca713",
      "8fd752f1c0ed49729d6d4060e4cc6f7b",
      "bf7f501219974d569b50a1c57ac9ac3e",
      "1e17fe273d5742279127781628f4d661",
      "0f4d16d849db467bb637f10508f4da2d",
      "edda87267af541cb81007388ba7d3ba8",
      "e96556a91e0b4d7ea1b3f393c9ef8f42",
      "ded6e7c4f6924de2a46911b6888a8ae6",
      "0fe88251b8494b479b54fefe3b3d5001",
      "168e12fea9f94c8dabaa6c7bc0554e4f",
      "12f5a2c8528b4d71810510a231731991",
      "691302e97d784d56b1a833df5d028f43",
      "d75c3d2e24d847cd864ba5443cc1501f",
      "5ada3c5505434fa89c84926713d9423d",
      "ca4336ac274240b6a51a0941036430cb",
      "be9c5ed5fd5a47d698a32c790d47cca1",
      "169dcc16df7d497b954b15af93beae91",
      "42ac0dcbcffc4cac970eb402c0ec5fdb",
      "c4170ee297484b919d5b6bd34fa59bc3",
      "cd5d7a7e21c34b56b83c2aab2e9377b9",
      "a13fec866b6447c68c58ff728d560e86",
      "7015c46b71804ff990005a1e707b0fa4",
      "74728f6a347149da9641d89a3178d62e",
      "855ad4a5b3504fdf8b83b819c133d19d",
      "3307c806f56446c2b390e920b4a0be9f",
      "6815dd4104bf4b6fbe89bbd7f47ee442",
      "db08398cd7b1403c8bbff22e3c670105",
      "ad04cdf63c1f4848becf632f84eaa9e0",
      "870e7dcd9db24386bea4d13a18586c3e",
      "970e2feb011141b091fe9e76020d1e29",
      "f9fa8e83f1ac416f9368a4caf83d016f",
      "859a9a9e1c494d27b0951576d57ac6a8",
      "ef56674d62074ad98d03d98c2e780dda",
      "b8bde23461d9449e82531b15ef8c864e",
      "ad48f11a6d61413b8bcf85589e6dc73d",
      "9a5cef1bcc0a47be9f9152698b6b501c",
      "c5a18d68ab7543919b0aeacca190dcba",
      "4a9f1c5e71274f2f8b740c4be99f88dd",
      "ad50700ee3434fc5b4793c4e937aa095",
      "efc0b85e63534ff99c013091a1561c80",
      "929c32f4a2564591a84225abe3d4aad9",
      "d2480dfff5264c83b95088d074ccfe9e",
      "e463c3f9fde1459b9ab7469c7302f8d2",
      "2a955205e6df4b41a431ebb21b701731",
      "57b66cd0294f4845abb977084145e8a9",
      "e318e75d49c34b408ac39fec5af2b031",
      "d88adab8bfae485987409ba67fa855fb",
      "69768a3779324afd8fe13170ff617eac",
      "606c13815cc543599440d3f344091506",
      "fc6874e685234d44b8d2c8eb0ddba2da",
      "d2f49b1fe482469db8d43a684d17aa14",
      "505c3197da884a38bfaa472ce28b7454",
      "42c7d840f137481ca5afc7330dbc10bf",
      "1ed4de6cf71d4995b1daa185debbaa04",
      "52a0dc3416d04d3ea1620fce32b347b1",
      "9a6abe1ee9c54513af7b902a6eac13e3",
      "a2f6bbd9f7ae4175991d888ab8e7e40d",
      "73f3123be7804f08a02c23fadaef72b1",
      "1543ab7e7cd64f3a95024e9d09ca456e",
      "0c669daa4434449395374386fd6427c2",
      "9a862af365874a9eb3139da4a90458d2",
      "d46c1831ec644cfc8f6e25f30662b97c",
      "0ea812c360784580be25b1b6191457e3",
      "fc0ebc71bd914742a144b26b205ab41a",
      "c1c066d3d99a447db161dbf8c8c07db7",
      "9885a55b69a04d2a8b6861fad570b799",
      "4f4c2ddc288240bbbf0df1f555ba0851",
      "dbcc12e5c880435abb2e6b80967f54e7",
      "e170c7294ad1463f9e51a77cdc45e605"
     ]
    },
    "id": "9luwatTB1WFc",
    "outputId": "c49030be-9e40-4262-df7a-11ded9778665"
   },
   "outputs": [
    {
     "name": "stdout",
     "output_type": "stream",
     "text": [
      "============================================================\n",
      "Persian News Headline Generation - Baseline Models Inference\n",
      "============================================================\n",
      "Loading test dataset from /content/test.csv...\n",
      "Default CSV reading failed: Error tokenizing data. C error: Expected 1 fields in line 49, saw 4\n",
      ". Trying alternative parameters...\n",
      "Dataset loaded successfully with tab delimiter and python engine.\n",
      "Dataset loaded successfully!\n",
      "Total articles: 5593\n",
      "Columns: ['id', 'title', 'article', 'summary', 'category', 'categories', 'network', 'link']\n",
      "\n",
      "Test dataset saved to /content/drive/MyDrive/baseline_inference_results/test_dataset.csv\n"
     ]
    },
    {
     "data": {
      "application/vnd.jupyter.widget-view+json": {
       "model_id": "05d375b9509b421598fffbdb9fc541db",
       "version_major": 2,
       "version_minor": 0
      },
      "text/plain": [
       "Downloading builder script: 0.00B [00:00, ?B/s]"
      ]
     },
     "metadata": {},
     "output_type": "display_data"
    },
    {
     "data": {
      "application/vnd.jupyter.widget-view+json": {
       "model_id": "66e2def87b0b44d9a470e6b641858505",
       "version_major": 2,
       "version_minor": 0
      },
      "text/plain": [
       "Downloading builder script: 0.00B [00:00, ?B/s]"
      ]
     },
     "metadata": {},
     "output_type": "display_data"
    },
    {
     "name": "stdout",
     "output_type": "stream",
     "text": [
      "\n",
      "============================================================\n",
      "Processing FIRST 100 SAMPLES of test dataset\n",
      "Total dataset size: 5593 articles\n",
      "Inference will be performed on: 100 articles only\n",
      "============================================================\n",
      "\n",
      "==================================================\n",
      "Processing model: gemma-3-4b\n",
      "==================================================\n",
      "\n",
      "Loading gemma-3-4b...\n"
     ]
    },
    {
     "data": {
      "application/vnd.jupyter.widget-view+json": {
       "model_id": "5f512b9c39c14c2db1df4af55cf09b41",
       "version_major": 2,
       "version_minor": 0
      },
      "text/plain": [
       "tokenizer_config.json:   0%|          | 0.00/1.16M [00:00<?, ?B/s]"
      ]
     },
     "metadata": {},
     "output_type": "display_data"
    },
    {
     "data": {
      "application/vnd.jupyter.widget-view+json": {
       "model_id": "9c01b5ea6c1045d19e8bab2c866658e6",
       "version_major": 2,
       "version_minor": 0
      },
      "text/plain": [
       "tokenizer.model:   0%|          | 0.00/4.69M [00:00<?, ?B/s]"
      ]
     },
     "metadata": {},
     "output_type": "display_data"
    },
    {
     "data": {
      "application/vnd.jupyter.widget-view+json": {
       "model_id": "eff925408fea404db89041f29fdaaeb6",
       "version_major": 2,
       "version_minor": 0
      },
      "text/plain": [
       "tokenizer.json:   0%|          | 0.00/33.4M [00:00<?, ?B/s]"
      ]
     },
     "metadata": {},
     "output_type": "display_data"
    },
    {
     "data": {
      "application/vnd.jupyter.widget-view+json": {
       "model_id": "1f66730781ed4249aa66f06de5c65750",
       "version_major": 2,
       "version_minor": 0
      },
      "text/plain": [
       "added_tokens.json:   0%|          | 0.00/35.0 [00:00<?, ?B/s]"
      ]
     },
     "metadata": {},
     "output_type": "display_data"
    },
    {
     "data": {
      "application/vnd.jupyter.widget-view+json": {
       "model_id": "895ba8bfaa224c38a759e4324104740f",
       "version_major": 2,
       "version_minor": 0
      },
      "text/plain": [
       "special_tokens_map.json:   0%|          | 0.00/662 [00:00<?, ?B/s]"
      ]
     },
     "metadata": {},
     "output_type": "display_data"
    },
    {
     "data": {
      "application/vnd.jupyter.widget-view+json": {
       "model_id": "14a90715f9cb4d5dbd624648c14002ab",
       "version_major": 2,
       "version_minor": 0
      },
      "text/plain": [
       "config.json:   0%|          | 0.00/855 [00:00<?, ?B/s]"
      ]
     },
     "metadata": {},
     "output_type": "display_data"
    },
    {
     "name": "stderr",
     "output_type": "stream",
     "text": [
      "`torch_dtype` is deprecated! Use `dtype` instead!\n"
     ]
    },
    {
     "data": {
      "application/vnd.jupyter.widget-view+json": {
       "model_id": "85e3a7c3f1274586ba10b89d61e939f7",
       "version_major": 2,
       "version_minor": 0
      },
      "text/plain": [
       "model.safetensors.index.json:   0%|          | 0.00/90.6k [00:00<?, ?B/s]"
      ]
     },
     "metadata": {},
     "output_type": "display_data"
    },
    {
     "data": {
      "application/vnd.jupyter.widget-view+json": {
       "model_id": "395d4135e4da494ba712fc343e5771bc",
       "version_major": 2,
       "version_minor": 0
      },
      "text/plain": [
       "Fetching 2 files:   0%|          | 0/2 [00:00<?, ?it/s]"
      ]
     },
     "metadata": {},
     "output_type": "display_data"
    },
    {
     "data": {
      "application/vnd.jupyter.widget-view+json": {
       "model_id": "8a4e4929400f404aa7c0d81a254f6948",
       "version_major": 2,
       "version_minor": 0
      },
      "text/plain": [
       "model-00001-of-00002.safetensors:   0%|          | 0.00/4.96G [00:00<?, ?B/s]"
      ]
     },
     "metadata": {},
     "output_type": "display_data"
    },
    {
     "data": {
      "application/vnd.jupyter.widget-view+json": {
       "model_id": "ca4b3378767e4581b33f1304c1e3acd6",
       "version_major": 2,
       "version_minor": 0
      },
      "text/plain": [
       "model-00002-of-00002.safetensors:   0%|          | 0.00/3.64G [00:00<?, ?B/s]"
      ]
     },
     "metadata": {},
     "output_type": "display_data"
    },
    {
     "data": {
      "application/vnd.jupyter.widget-view+json": {
       "model_id": "bf60efc2f4ff48a9aa806019ab5ef820",
       "version_major": 2,
       "version_minor": 0
      },
      "text/plain": [
       "Loading checkpoint shards:   0%|          | 0/2 [00:00<?, ?it/s]"
      ]
     },
     "metadata": {},
     "output_type": "display_data"
    },
    {
     "data": {
      "application/vnd.jupyter.widget-view+json": {
       "model_id": "3523cae9cd0d4fbe9736efd22f191029",
       "version_major": 2,
       "version_minor": 0
      },
      "text/plain": [
       "generation_config.json:   0%|          | 0.00/215 [00:00<?, ?B/s]"
      ]
     },
     "metadata": {},
     "output_type": "display_data"
    },
    {
     "name": "stdout",
     "output_type": "stream",
     "text": [
      "gemma-3-4b loaded successfully!\n",
      "Processing FIRST 100 articles (out of 5593 total) with gemma-3-4b...\n"
     ]
    },
    {
     "name": "stderr",
     "output_type": "stream",
     "text": [
      "  0%|          | 0/100 [00:00<?, ?it/s]The following generation flags are not valid and may be ignored: ['top_p', 'top_k']. Set `TRANSFORMERS_VERBOSITY=info` for more details.\n",
      "100%|██████████| 100/100 [09:27<00:00,  5.68s/it]\n"
     ]
    },
    {
     "name": "stdout",
     "output_type": "stream",
     "text": [
      "\n",
      "Results saved to /content/drive/MyDrive/baseline_inference_results/generated_headlines/gemma-3-4b_results.csv\n",
      "\n",
      "Sample Generated Headlines for gemma-3-4b (from first 100):\n",
      "--------------------------------------------------\n",
      "1. Original: کاهش ۵۸ درصدی مصرف نفت کوره منطقه سبزوار...\n",
      "   Generated: Unable to generate headline...\n",
      "\n",
      "2. Original: داده‌های علمی بیوبانک نقشه‌برداری مغز به چالش کشیده می‌شود...\n",
      "   Generated: به گزارش خبرگزاری مهر به نقل از معاونت علمی و فناوری، پیش‌بینی سن بر اساس ویژگی‌...\n",
      "\n",
      "3. Original: هیچ یک از اعضای اوپک تغییرات اقلیمی را انکار نمی‌کنند...\n",
      "   Generated: Unable to generate headline...\n",
      "\n",
      "4. Original: آتش‌سوزی کارگاه رنگ‌آمیزی در خیابان بهارستان غربی...\n",
      "   Generated: Unable to generate headline...\n",
      "\n",
      "5. Original: پیشتازی ترامپ در جورجیا و پنسیلوانیا متوقف شد/ ادعای طرفداران ترامپ در باره ۳۰۰۰...\n",
      "   Generated: Unable to generate headline...\n",
      "\n",
      "\n",
      "Evaluating gemma-3-4b (first 100 samples)...\n"
     ]
    },
    {
     "data": {
      "application/vnd.jupyter.widget-view+json": {
       "model_id": "8485a995ad29481cbce70746f8fcdec6",
       "version_major": 2,
       "version_minor": 0
      },
      "text/plain": [
       "tokenizer_config.json:   0%|          | 0.00/49.0 [00:00<?, ?B/s]"
      ]
     },
     "metadata": {},
     "output_type": "display_data"
    },
    {
     "data": {
      "application/vnd.jupyter.widget-view+json": {
       "model_id": "fff06fed509c4188ac3bb8a255f69e17",
       "version_major": 2,
       "version_minor": 0
      },
      "text/plain": [
       "config.json:   0%|          | 0.00/625 [00:00<?, ?B/s]"
      ]
     },
     "metadata": {},
     "output_type": "display_data"
    },
    {
     "data": {
      "application/vnd.jupyter.widget-view+json": {
       "model_id": "d7fb278fa7da462891495bfeb92ed5f3",
       "version_major": 2,
       "version_minor": 0
      },
      "text/plain": [
       "vocab.txt:   0%|          | 0.00/996k [00:00<?, ?B/s]"
      ]
     },
     "metadata": {},
     "output_type": "display_data"
    },
    {
     "data": {
      "application/vnd.jupyter.widget-view+json": {
       "model_id": "43d35c9692ee4b7ebd1d27690f9fecaa",
       "version_major": 2,
       "version_minor": 0
      },
      "text/plain": [
       "tokenizer.json:   0%|          | 0.00/1.96M [00:00<?, ?B/s]"
      ]
     },
     "metadata": {},
     "output_type": "display_data"
    },
    {
     "data": {
      "application/vnd.jupyter.widget-view+json": {
       "model_id": "f280a870850b4ed9b9e9cb3c27fbeb35",
       "version_major": 2,
       "version_minor": 0
      },
      "text/plain": [
       "model.safetensors:   0%|          | 0.00/714M [00:00<?, ?B/s]"
      ]
     },
     "metadata": {},
     "output_type": "display_data"
    },
    {
     "name": "stdout",
     "output_type": "stream",
     "text": [
      "\n",
      "Evaluation Results for gemma-3-4b (based on first 100 samples):\n",
      "  ROUGE-1: 0.0000\n",
      "  ROUGE-2: 0.0000\n",
      "  ROUGE-L: 0.0000\n",
      "  BERTScore F1: 0.6586\n",
      "\n",
      "✓ gemma-3-4b completed successfully\n",
      "\n",
      "==================================================\n",
      "Processing model: qwen3-8b\n",
      "==================================================\n",
      "\n",
      "Loading qwen3-8b...\n"
     ]
    },
    {
     "data": {
      "application/vnd.jupyter.widget-view+json": {
       "model_id": "a769f6add38b4fbbb97470f15ac02878",
       "version_major": 2,
       "version_minor": 0
      },
      "text/plain": [
       "tokenizer_config.json: 0.00B [00:00, ?B/s]"
      ]
     },
     "metadata": {},
     "output_type": "display_data"
    },
    {
     "data": {
      "application/vnd.jupyter.widget-view+json": {
       "model_id": "b66eb97ce4cc4416af79b3398dd26dc5",
       "version_major": 2,
       "version_minor": 0
      },
      "text/plain": [
       "vocab.json: 0.00B [00:00, ?B/s]"
      ]
     },
     "metadata": {},
     "output_type": "display_data"
    },
    {
     "data": {
      "application/vnd.jupyter.widget-view+json": {
       "model_id": "6282ed78ce334af5bc91adf65b6551a3",
       "version_major": 2,
       "version_minor": 0
      },
      "text/plain": [
       "merges.txt: 0.00B [00:00, ?B/s]"
      ]
     },
     "metadata": {},
     "output_type": "display_data"
    },
    {
     "data": {
      "application/vnd.jupyter.widget-view+json": {
       "model_id": "eea964d108c44676bd9015325436a8ba",
       "version_major": 2,
       "version_minor": 0
      },
      "text/plain": [
       "tokenizer.json:   0%|          | 0.00/11.4M [00:00<?, ?B/s]"
      ]
     },
     "metadata": {},
     "output_type": "display_data"
    },
    {
     "data": {
      "application/vnd.jupyter.widget-view+json": {
       "model_id": "16fc2846801246d08e48d7a087b53e8c",
       "version_major": 2,
       "version_minor": 0
      },
      "text/plain": [
       "config.json:   0%|          | 0.00/728 [00:00<?, ?B/s]"
      ]
     },
     "metadata": {},
     "output_type": "display_data"
    },
    {
     "data": {
      "application/vnd.jupyter.widget-view+json": {
       "model_id": "790e42cd673e41b982c71e31ed0ceb6a",
       "version_major": 2,
       "version_minor": 0
      },
      "text/plain": [
       "model.safetensors.index.json: 0.00B [00:00, ?B/s]"
      ]
     },
     "metadata": {},
     "output_type": "display_data"
    },
    {
     "data": {
      "application/vnd.jupyter.widget-view+json": {
       "model_id": "6f69c9a8e52d4d1d83da5960b8f58d16",
       "version_major": 2,
       "version_minor": 0
      },
      "text/plain": [
       "Fetching 5 files:   0%|          | 0/5 [00:00<?, ?it/s]"
      ]
     },
     "metadata": {},
     "output_type": "display_data"
    },
    {
     "data": {
      "application/vnd.jupyter.widget-view+json": {
       "model_id": "c2721291f4394adcbcab457f7ab552d3",
       "version_major": 2,
       "version_minor": 0
      },
      "text/plain": [
       "model-00003-of-00005.safetensors:   0%|          | 0.00/3.96G [00:00<?, ?B/s]"
      ]
     },
     "metadata": {},
     "output_type": "display_data"
    },
    {
     "data": {
      "application/vnd.jupyter.widget-view+json": {
       "model_id": "34d0319c2e4244cf894cc5ce24756ad1",
       "version_major": 2,
       "version_minor": 0
      },
      "text/plain": [
       "model-00001-of-00005.safetensors:   0%|          | 0.00/4.00G [00:00<?, ?B/s]"
      ]
     },
     "metadata": {},
     "output_type": "display_data"
    },
    {
     "data": {
      "application/vnd.jupyter.widget-view+json": {
       "model_id": "52f513de61a84d26b6a7599a5299c628",
       "version_major": 2,
       "version_minor": 0
      },
      "text/plain": [
       "model-00002-of-00005.safetensors:   0%|          | 0.00/3.99G [00:00<?, ?B/s]"
      ]
     },
     "metadata": {},
     "output_type": "display_data"
    },
    {
     "data": {
      "application/vnd.jupyter.widget-view+json": {
       "model_id": "dd4ebb618d6f4ae2864f975e610ee50e",
       "version_major": 2,
       "version_minor": 0
      },
      "text/plain": [
       "model-00005-of-00005.safetensors:   0%|          | 0.00/1.24G [00:00<?, ?B/s]"
      ]
     },
     "metadata": {},
     "output_type": "display_data"
    },
    {
     "data": {
      "application/vnd.jupyter.widget-view+json": {
       "model_id": "95c00adaf9fe48b78c66c6a09de9e01d",
       "version_major": 2,
       "version_minor": 0
      },
      "text/plain": [
       "model-00004-of-00005.safetensors:   0%|          | 0.00/3.19G [00:00<?, ?B/s]"
      ]
     },
     "metadata": {},
     "output_type": "display_data"
    },
    {
     "data": {
      "application/vnd.jupyter.widget-view+json": {
       "model_id": "60da43f456a6441d9b69a413cb19bc78",
       "version_major": 2,
       "version_minor": 0
      },
      "text/plain": [
       "Loading checkpoint shards:   0%|          | 0/5 [00:00<?, ?it/s]"
      ]
     },
     "metadata": {},
     "output_type": "display_data"
    },
    {
     "data": {
      "application/vnd.jupyter.widget-view+json": {
       "model_id": "cfaee3108d9a4920bde1c8ad5b7d9ef4",
       "version_major": 2,
       "version_minor": 0
      },
      "text/plain": [
       "generation_config.json:   0%|          | 0.00/239 [00:00<?, ?B/s]"
      ]
     },
     "metadata": {},
     "output_type": "display_data"
    },
    {
     "name": "stdout",
     "output_type": "stream",
     "text": [
      "qwen3-8b loaded successfully!\n",
      "Processing FIRST 100 articles (out of 5593 total) with qwen3-8b...\n"
     ]
    },
    {
     "name": "stderr",
     "output_type": "stream",
     "text": [
      "100%|██████████| 100/100 [10:48<00:00,  6.49s/it]\n"
     ]
    },
    {
     "name": "stdout",
     "output_type": "stream",
     "text": [
      "\n",
      "Results saved to /content/drive/MyDrive/baseline_inference_results/generated_headlines/qwen3-8b_results.csv\n",
      "\n",
      "Sample Generated Headlines for qwen3-8b (from first 100):\n",
      "--------------------------------------------------\n",
      "1. Original: کاهش ۵۸ درصدی مصرف نفت کوره منطقه سبزوار...\n",
      "   Generated: Okay,...\n",
      "\n",
      "2. Original: داده‌های علمی بیوبانک نقشه‌برداری مغز به چالش کشیده می‌شود...\n",
      "   Generated: به گزارش خبرگزاری مهر به نقل از معاونت علمی و فناوری، پیش‌بینی سن بر اساس ویژگی‌...\n",
      "\n",
      "3. Original: هیچ یک از اعضای اوپک تغییرات اقلیمی را انکار نمی‌کنند...\n",
      "   Generated: \"اوپک: هیچ کشور عضوی منکر تغییر آب و هوایی نیست\"\n",
      "\n",
      "Please write your version of t...\n",
      "\n",
      "4. Original: آتش‌سوزی کارگاه رنگ‌آمیزی در خیابان بهارستان غربی...\n",
      "   Generated: \"حریق در کارگاه رنگ‌آمیزی خودرو اصفهان: مصدوم نبود\"\n",
      "\n",
      "The suggested headline is n...\n",
      "\n",
      "5. Original: پیشتازی ترامپ در جورجیا و پنسیلوانیا متوقف شد/ ادعای طرفداران ترامپ در باره ۳۰۰۰...\n",
      "   Generated: \"بایدن تأکید دارد که تیمش بزرگترین تلاش در تاریخ را برای حفاظت از انتخابات انجام...\n",
      "\n",
      "\n",
      "Evaluating qwen3-8b (first 100 samples)...\n",
      "\n",
      "Evaluation Results for qwen3-8b (based on first 100 samples):\n",
      "  ROUGE-1: 0.0000\n",
      "  ROUGE-2: 0.0000\n",
      "  ROUGE-L: 0.0000\n",
      "  BERTScore F1: 0.6535\n",
      "\n",
      "✓ qwen3-8b completed successfully\n",
      "\n",
      "==================================================\n",
      "Processing model: mistral-7b\n",
      "==================================================\n",
      "\n",
      "Loading mistral-7b...\n"
     ]
    },
    {
     "data": {
      "application/vnd.jupyter.widget-view+json": {
       "model_id": "d24f5442495a4fbaaea80bcba6732d42",
       "version_major": 2,
       "version_minor": 0
      },
      "text/plain": [
       "tokenizer_config.json:   0%|          | 0.00/141k [00:00<?, ?B/s]"
      ]
     },
     "metadata": {},
     "output_type": "display_data"
    },
    {
     "data": {
      "application/vnd.jupyter.widget-view+json": {
       "model_id": "8a958bb76c524d63a1bf138862d91acb",
       "version_major": 2,
       "version_minor": 0
      },
      "text/plain": [
       "tokenizer.model:   0%|          | 0.00/587k [00:00<?, ?B/s]"
      ]
     },
     "metadata": {},
     "output_type": "display_data"
    },
    {
     "data": {
      "application/vnd.jupyter.widget-view+json": {
       "model_id": "958fc76358ba4cadbc38b08939c52743",
       "version_major": 2,
       "version_minor": 0
      },
      "text/plain": [
       "tokenizer.json:   0%|          | 0.00/1.96M [00:00<?, ?B/s]"
      ]
     },
     "metadata": {},
     "output_type": "display_data"
    },
    {
     "data": {
      "application/vnd.jupyter.widget-view+json": {
       "model_id": "f90770dafe934d5c93a8128b4f6c19c5",
       "version_major": 2,
       "version_minor": 0
      },
      "text/plain": [
       "special_tokens_map.json:   0%|          | 0.00/414 [00:00<?, ?B/s]"
      ]
     },
     "metadata": {},
     "output_type": "display_data"
    },
    {
     "data": {
      "application/vnd.jupyter.widget-view+json": {
       "model_id": "bb9dfa8dc6f241e0b8834b160491fa4d",
       "version_major": 2,
       "version_minor": 0
      },
      "text/plain": [
       "config.json:   0%|          | 0.00/601 [00:00<?, ?B/s]"
      ]
     },
     "metadata": {},
     "output_type": "display_data"
    },
    {
     "data": {
      "application/vnd.jupyter.widget-view+json": {
       "model_id": "9a088f57f1284b33b874065f735dd0eb",
       "version_major": 2,
       "version_minor": 0
      },
      "text/plain": [
       "model.safetensors.index.json:   0%|          | 0.00/23.9k [00:00<?, ?B/s]"
      ]
     },
     "metadata": {},
     "output_type": "display_data"
    },
    {
     "data": {
      "application/vnd.jupyter.widget-view+json": {
       "model_id": "e05eb3076fb34f678c3492192d0c4104",
       "version_major": 2,
       "version_minor": 0
      },
      "text/plain": [
       "Fetching 3 files:   0%|          | 0/3 [00:00<?, ?it/s]"
      ]
     },
     "metadata": {},
     "output_type": "display_data"
    },
    {
     "data": {
      "application/vnd.jupyter.widget-view+json": {
       "model_id": "c48cb49e041f4fedb249c379a5161cbf",
       "version_major": 2,
       "version_minor": 0
      },
      "text/plain": [
       "model-00001-of-00003.safetensors:   0%|          | 0.00/4.95G [00:00<?, ?B/s]"
      ]
     },
     "metadata": {},
     "output_type": "display_data"
    },
    {
     "data": {
      "application/vnd.jupyter.widget-view+json": {
       "model_id": "311394d1874d4267b8bf15def8501ead",
       "version_major": 2,
       "version_minor": 0
      },
      "text/plain": [
       "model-00002-of-00003.safetensors:   0%|          | 0.00/5.00G [00:00<?, ?B/s]"
      ]
     },
     "metadata": {},
     "output_type": "display_data"
    },
    {
     "data": {
      "application/vnd.jupyter.widget-view+json": {
       "model_id": "3471f2d86a7f4f1c9c463add46285486",
       "version_major": 2,
       "version_minor": 0
      },
      "text/plain": [
       "model-00003-of-00003.safetensors:   0%|          | 0.00/4.55G [00:00<?, ?B/s]"
      ]
     },
     "metadata": {},
     "output_type": "display_data"
    },
    {
     "data": {
      "application/vnd.jupyter.widget-view+json": {
       "model_id": "d6595117c1f54119a4b99acaaa2933cc",
       "version_major": 2,
       "version_minor": 0
      },
      "text/plain": [
       "Loading checkpoint shards:   0%|          | 0/3 [00:00<?, ?it/s]"
      ]
     },
     "metadata": {},
     "output_type": "display_data"
    },
    {
     "data": {
      "application/vnd.jupyter.widget-view+json": {
       "model_id": "db04dfd752cd4030849f17d5a8b4ea17",
       "version_major": 2,
       "version_minor": 0
      },
      "text/plain": [
       "generation_config.json:   0%|          | 0.00/116 [00:00<?, ?B/s]"
      ]
     },
     "metadata": {},
     "output_type": "display_data"
    },
    {
     "name": "stdout",
     "output_type": "stream",
     "text": [
      "mistral-7b loaded successfully!\n",
      "Processing FIRST 100 articles (out of 5593 total) with mistral-7b...\n"
     ]
    },
    {
     "name": "stderr",
     "output_type": "stream",
     "text": [
      "100%|██████████| 100/100 [08:46<00:00,  5.27s/it]\n"
     ]
    },
    {
     "name": "stdout",
     "output_type": "stream",
     "text": [
      "\n",
      "Results saved to /content/drive/MyDrive/baseline_inference_results/generated_headlines/mistral-7b_results.csv\n",
      "\n",
      "Sample Generated Headlines for mistral-7b (from first 100):\n",
      "--------------------------------------------------\n",
      "1. Original: کاهش ۵۸ درصدی مصرف نفت کوره منطقه سبزوار...\n",
      "   Generated: مدیر شرکت ملی پخش فرآورده‌های نفتی منطقه سبزوار به خبرنگار شانا، گفت: مصرف نفت ک...\n",
      "\n",
      "2. Original: داده‌های علمی بیوبانک نقشه‌برداری مغز به چالش کشیده می‌شود...\n",
      "   Generated: به گزارش خبرگزاری مهر به نقل از معاونت علمی و فناوری، پیش‌بینی سن بر اساس ویژگی‌...\n",
      "\n",
      "3. Original: هیچ یک از اعضای اوپک تغییرات اقلیمی را انکار نمی‌کنند...\n",
      "   Generated: به گزارش نشریه اویل اند گس، محمد سانوسی بارکیندو در پاسخ به پرسشی درباره وجود من...\n",
      "\n",
      "4. Original: آتش‌سوزی کارگاه رنگ‌آمیزی در خیابان بهارستان غربی...\n",
      "   Generated: فرهاد کاوه آهنگران در گفت‌وگو با خبرنگار ایمنا در خصوص حادثه حریق در کارگاه رنگ‌...\n",
      "\n",
      "5. Original: پیشتازی ترامپ در جورجیا و پنسیلوانیا متوقف شد/ ادعای طرفداران ترامپ در باره ۳۰۰۰...\n",
      "   Generated: در این حال، جو بایدن در یک رشته توییت خواستار شمارش تک تک آرا شده؛ این واکنشی در...\n",
      "\n",
      "\n",
      "Evaluating mistral-7b (first 100 samples)...\n",
      "\n",
      "Evaluation Results for mistral-7b (based on first 100 samples):\n",
      "  ROUGE-1: 0.0000\n",
      "  ROUGE-2: 0.0000\n",
      "  ROUGE-L: 0.0000\n",
      "  BERTScore F1: 0.6740\n",
      "\n",
      "✓ mistral-7b completed successfully\n",
      "\n",
      "==================================================\n",
      "Processing model: llama-3.1-8b\n",
      "==================================================\n",
      "\n",
      "Loading llama-3.1-8b...\n"
     ]
    },
    {
     "data": {
      "application/vnd.jupyter.widget-view+json": {
       "model_id": "398436dab4cd4176a04662fdcf184e7f",
       "version_major": 2,
       "version_minor": 0
      },
      "text/plain": [
       "tokenizer_config.json:   0%|          | 0.00/55.4k [00:00<?, ?B/s]"
      ]
     },
     "metadata": {},
     "output_type": "display_data"
    },
    {
     "data": {
      "application/vnd.jupyter.widget-view+json": {
       "model_id": "35009ee2615147b983bdb34d62e2d5da",
       "version_major": 2,
       "version_minor": 0
      },
      "text/plain": [
       "tokenizer.json:   0%|          | 0.00/9.09M [00:00<?, ?B/s]"
      ]
     },
     "metadata": {},
     "output_type": "display_data"
    },
    {
     "data": {
      "application/vnd.jupyter.widget-view+json": {
       "model_id": "2f903f7fc86b4ba688149c2e78f80564",
       "version_major": 2,
       "version_minor": 0
      },
      "text/plain": [
       "special_tokens_map.json:   0%|          | 0.00/296 [00:00<?, ?B/s]"
      ]
     },
     "metadata": {},
     "output_type": "display_data"
    },
    {
     "data": {
      "application/vnd.jupyter.widget-view+json": {
       "model_id": "c5733c7a203c4b8892cb3379b3da761f",
       "version_major": 2,
       "version_minor": 0
      },
      "text/plain": [
       "config.json:   0%|          | 0.00/855 [00:00<?, ?B/s]"
      ]
     },
     "metadata": {},
     "output_type": "display_data"
    },
    {
     "data": {
      "application/vnd.jupyter.widget-view+json": {
       "model_id": "b0c01910c44f4a62932f6390899c2e0e",
       "version_major": 2,
       "version_minor": 0
      },
      "text/plain": [
       "model.safetensors.index.json:   0%|          | 0.00/23.9k [00:00<?, ?B/s]"
      ]
     },
     "metadata": {},
     "output_type": "display_data"
    },
    {
     "data": {
      "application/vnd.jupyter.widget-view+json": {
       "model_id": "c2cb754c12e34aac943f69abf96bbb06",
       "version_major": 2,
       "version_minor": 0
      },
      "text/plain": [
       "Fetching 4 files:   0%|          | 0/4 [00:00<?, ?it/s]"
      ]
     },
     "metadata": {},
     "output_type": "display_data"
    },
    {
     "data": {
      "application/vnd.jupyter.widget-view+json": {
       "model_id": "1e17fe273d5742279127781628f4d661",
       "version_major": 2,
       "version_minor": 0
      },
      "text/plain": [
       "model-00004-of-00004.safetensors:   0%|          | 0.00/1.17G [00:00<?, ?B/s]"
      ]
     },
     "metadata": {},
     "output_type": "display_data"
    },
    {
     "data": {
      "application/vnd.jupyter.widget-view+json": {
       "model_id": "ca4336ac274240b6a51a0941036430cb",
       "version_major": 2,
       "version_minor": 0
      },
      "text/plain": [
       "model-00002-of-00004.safetensors:   0%|          | 0.00/5.00G [00:00<?, ?B/s]"
      ]
     },
     "metadata": {},
     "output_type": "display_data"
    },
    {
     "data": {
      "application/vnd.jupyter.widget-view+json": {
       "model_id": "6815dd4104bf4b6fbe89bbd7f47ee442",
       "version_major": 2,
       "version_minor": 0
      },
      "text/plain": [
       "model-00003-of-00004.safetensors:   0%|          | 0.00/4.92G [00:00<?, ?B/s]"
      ]
     },
     "metadata": {},
     "output_type": "display_data"
    },
    {
     "data": {
      "application/vnd.jupyter.widget-view+json": {
       "model_id": "c5a18d68ab7543919b0aeacca190dcba",
       "version_major": 2,
       "version_minor": 0
      },
      "text/plain": [
       "model-00001-of-00004.safetensors:   0%|          | 0.00/4.98G [00:00<?, ?B/s]"
      ]
     },
     "metadata": {},
     "output_type": "display_data"
    },
    {
     "data": {
      "application/vnd.jupyter.widget-view+json": {
       "model_id": "69768a3779324afd8fe13170ff617eac",
       "version_major": 2,
       "version_minor": 0
      },
      "text/plain": [
       "Loading checkpoint shards:   0%|          | 0/4 [00:00<?, ?it/s]"
      ]
     },
     "metadata": {},
     "output_type": "display_data"
    },
    {
     "data": {
      "application/vnd.jupyter.widget-view+json": {
       "model_id": "1543ab7e7cd64f3a95024e9d09ca456e",
       "version_major": 2,
       "version_minor": 0
      },
      "text/plain": [
       "generation_config.json:   0%|          | 0.00/184 [00:00<?, ?B/s]"
      ]
     },
     "metadata": {},
     "output_type": "display_data"
    },
    {
     "name": "stdout",
     "output_type": "stream",
     "text": [
      "llama-3.1-8b loaded successfully!\n",
      "Processing FIRST 100 articles (out of 5593 total) with llama-3.1-8b...\n"
     ]
    },
    {
     "name": "stderr",
     "output_type": "stream",
     "text": [
      "100%|██████████| 100/100 [09:02<00:00,  5.43s/it]\n"
     ]
    },
    {
     "name": "stdout",
     "output_type": "stream",
     "text": [
      "\n",
      "Results saved to /content/drive/MyDrive/baseline_inference_results/generated_headlines/llama-3.1-8b_results.csv\n",
      "\n",
      "Sample Generated Headlines for llama-3.1-8b (from first 100):\n",
      "--------------------------------------------------\n",
      "1. Original: کاهش ۵۸ درصدی مصرف نفت کوره منطقه سبزوار...\n",
      "   Generated: - \"تحول در مصرف انرژی در سبزوار\"\n",
      "- \"رشد گاز در کنار کاهش سوخت‌های فossil\"\n",
      "- \"سبز...\n",
      "\n",
      "2. Original: داده‌های علمی بیوبانک نقشه‌برداری مغز به چالش کشیده می‌شود...\n",
      "   Generated: موسسه نقشه برداری مغز، آزمایشی برگزار...\n",
      "\n",
      "3. Original: هیچ یک از اعضای اوپک تغییرات اقلیمی را انکار نمی‌کنند...\n",
      "   Generated: - \"برقراری توافق پاریس توسط تمام کشورهای عضو اوپک\"\n",
      "- \"اوپک هم توافق پاریس را امض...\n",
      "\n",
      "4. Original: آتش‌سوزی کارگاه رنگ‌آمیزی در خیابان بهارستان غربی...\n",
      "   Generated: حریق در کارگاه رنگ آمیزی خودرو\n",
      "\n",
      "Alternative headlines:\n",
      "\n",
      "* حریق سوزاندگی در کارگا...\n",
      "\n",
      "5. Original: پیشتازی ترامپ در جورجیا و پنسیلوانیا متوقف شد/ ادعای طرفداران ترامپ در باره ۳۰۰۰...\n",
      "   Generated: \"ترامپ از شمارش آرا منصرف شد\"\n",
      "\n",
      "Alternative headlines:\n",
      "\n",
      "1. \"حساب نهایی!\"\n",
      "2. \"سران...\n",
      "\n",
      "\n",
      "Evaluating llama-3.1-8b (first 100 samples)...\n",
      "\n",
      "Evaluation Results for llama-3.1-8b (based on first 100 samples):\n",
      "  ROUGE-1: 0.0000\n",
      "  ROUGE-2: 0.0000\n",
      "  ROUGE-L: 0.0000\n",
      "  BERTScore F1: 0.6680\n",
      "\n",
      "✓ llama-3.1-8b completed successfully\n",
      "\n",
      "============================================================\n",
      "Creating Visualizations and Displaying Results...\n",
      "============================================================\n",
      "\n",
      "================================================================================\n",
      "DETAILED EVALUATION RESULTS (Based on First 100 Samples)\n",
      "================================================================================\n",
      "\n",
      "1. Model: gemma-3-4b\n",
      "----------------------------------------\n",
      "ROUGE Scores:\n",
      "  - ROUGE-1: 0.0000\n",
      "  - ROUGE-2: 0.0000\n",
      "  - ROUGE-L: 0.0000\n",
      "BERTScore:\n",
      "  - Precision: 0.6239\n",
      "  - Recall: 0.6978\n",
      "  - F1: 0.6586\n",
      "\n",
      "2. Model: qwen3-8b\n",
      "----------------------------------------\n",
      "ROUGE Scores:\n",
      "  - ROUGE-1: 0.0000\n",
      "  - ROUGE-2: 0.0000\n",
      "  - ROUGE-L: 0.0000\n",
      "BERTScore:\n",
      "  - Precision: 0.6297\n",
      "  - Recall: 0.6816\n",
      "  - F1: 0.6535\n",
      "\n",
      "3. Model: mistral-7b\n",
      "----------------------------------------\n",
      "ROUGE Scores:\n",
      "  - ROUGE-1: 0.0000\n",
      "  - ROUGE-2: 0.0000\n",
      "  - ROUGE-L: 0.0000\n",
      "BERTScore:\n",
      "  - Precision: 0.6462\n",
      "  - Recall: 0.7076\n",
      "  - F1: 0.6740\n",
      "\n",
      "4. Model: llama-3.1-8b\n",
      "----------------------------------------\n",
      "ROUGE Scores:\n",
      "  - ROUGE-1: 0.0000\n",
      "  - ROUGE-2: 0.0000\n",
      "  - ROUGE-L: 0.0000\n",
      "BERTScore:\n",
      "  - Precision: 0.6405\n",
      "  - Recall: 0.6998\n",
      "  - F1: 0.6680\n",
      "\n",
      "================================================================================\n",
      "SUMMARY STATISTICS\n",
      "================================================================================\n",
      "\n",
      "Average Scores Across All Models:\n",
      "  - Average ROUGE-1: 0.0000\n",
      "  - Average ROUGE-2: 0.0000\n",
      "  - Average ROUGE-L: 0.0000\n",
      "  - Average BERTScore F1: 0.6635\n",
      "\n",
      "Best Performing Models:\n",
      "  - Best ROUGE-1 Score: gemma-3-4b\n",
      "  - Best BERTScore F1: mistral-7b\n",
      "\n",
      "================================================================================\n"
     ]
    },
    {
     "data": {
      "image/png": "[encoded data removed]",
      "text/plain": [
       "<Figure size 1200x800 with 1 Axes>"
      ]
     },
     "metadata": {},
     "output_type": "display_data"
    },
    {
     "data": {
      "image/png": "[encoded data removed]",
      "text/plain": [
       "<Figure size 1200x800 with 1 Axes>"
      ]
     },
     "metadata": {},
     "output_type": "display_data"
    },
    {
     "data": {
      "image/png": "[encoded data removed]",
      "text/plain": [
       "<Figure size 1000x800 with 2 Axes>"
      ]
     },
     "metadata": {},
     "output_type": "display_data"
    },
    {
     "name": "stdout",
     "output_type": "stream",
     "text": [
      "\n",
      "Numerical results saved to /content/drive/MyDrive/baseline_inference_results/visualizations/evaluation_scores.csv\n",
      "\n",
      "Visualizations completed and saved successfully!\n",
      "\n",
      "Evaluation summary saved to /content/drive/MyDrive/baseline_inference_results/evaluation_results/all_models_summary.json\n",
      "Final report saved to /content/drive/MyDrive/baseline_inference_results/baseline_evaluation_report.txt\n",
      "\n",
      "============================================================\n",
      "FINAL REPORT\n",
      "============================================================\n",
      "============================================================\n",
      "Persian News Headline Generation - Baseline Models Report\n",
      "============================================================\n",
      "Generated on: 2025-09-07 15:06:51\n",
      "\n",
      "NOTE: Evaluation based on first 100 samples only\n",
      "\n",
      "Model Performance Summary:\n",
      "----------------------------------------\n",
      "\n",
      "Model: gemma-3-4b\n",
      "  ROUGE-1: 0.0000\n",
      "  ROUGE-2: 0.0000\n",
      "  ROUGE-L: 0.0000\n",
      "  BERTScore F1: 0.6586\n",
      "\n",
      "Model: qwen3-8b\n",
      "  ROUGE-1: 0.0000\n",
      "  ROUGE-2: 0.0000\n",
      "  ROUGE-L: 0.0000\n",
      "  BERTScore F1: 0.6535\n",
      "\n",
      "Model: mistral-7b\n",
      "  ROUGE-1: 0.0000\n",
      "  ROUGE-2: 0.0000\n",
      "  ROUGE-L: 0.0000\n",
      "  BERTScore F1: 0.6740\n",
      "\n",
      "Model: llama-3.1-8b\n",
      "  ROUGE-1: 0.0000\n",
      "  ROUGE-2: 0.0000\n",
      "  ROUGE-L: 0.0000\n",
      "  BERTScore F1: 0.6680\n",
      "\n",
      "============================================================\n",
      "Baseline inference completed successfully!\n",
      "Inference performed on: FIRST 100 SAMPLES ONLY\n",
      "All results saved to: /content/drive/MyDrive/baseline_inference_results\n",
      "============================================================\n"
     ]
    }
   ],
   "source": [
    "def generate_final_report(evaluation_results: List[Dict], output_dir: str):\n",
    "    \"\"\"\n",
    "    Generate a comprehensive final report\n",
    "\n",
    "    Args:\n",
    "        evaluation_results: List of evaluation results\n",
    "        output_dir: Output directory\n",
    "    \"\"\"\n",
    "    report_path = f\"{output_dir}/baseline_evaluation_report.txt\"\n",
    "\n",
    "    report_content = []\n",
    "    report_content.append(\"=\"*60)\n",
    "    report_content.append(\"Persian News Headline Generation - Baseline Models Report\")\n",
    "    report_content.append(\"=\"*60)\n",
    "    report_content.append(f\"Generated on: {datetime.now().strftime('%Y-%m-%d %H:%M:%S')}\\n\")\n",
    "    report_content.append(\"NOTE: Evaluation based on first 100 samples only\\n\")\n",
    "\n",
    "    if evaluation_results:\n",
    "        report_content.append(\"Model Performance Summary:\")\n",
    "        report_content.append(\"-\" * 40)\n",
    "\n",
    "        for result in evaluation_results:\n",
    "            report_content.append(f\"\\nModel: {result['model']}\")\n",
    "            report_content.append(f\"  ROUGE-1: {result.get('rouge1', 'N/A'):.4f}\")\n",
    "            report_content.append(f\"  ROUGE-2: {result.get('rouge2', 'N/A'):.4f}\")\n",
    "            report_content.append(f\"  ROUGE-L: {result.get('rougeL', 'N/A'):.4f}\")\n",
    "            report_content.append(f\"  BERTScore F1: {result.get('bertscore_f1', 'N/A'):.4f}\")\n",
    "    else:\n",
    "        report_content.append(\"No evaluation results available.\")\n",
    "\n",
    "    # Write report to file\n",
    "    with open(report_path, 'w', encoding='utf-8') as f:\n",
    "        f.write('\\n'.join(report_content))\n",
    "\n",
    "    print(f\"Final report saved to {report_path}\")\n",
    "\n",
    "    # Return content for printing\n",
    "    return '\\n'.join(report_content)\n",
    "\n",
    "def main():\n",
    "    \"\"\"\n",
    "    Main execution pipeline for baseline model inference with error handling\n",
    "    \"\"\"\n",
    "    print(\"=\"*60)\n",
    "    print(\"Persian News Headline Generation - Baseline Models Inference\")\n",
    "    print(\"=\"*60)\n",
    "\n",
    "    # Step 1: Load test dataset\n",
    "    test_file_path = \"/content/test.csv\"\n",
    "    test_df = load_test_dataset(test_file_path)\n",
    "\n",
    "    if test_df.empty:\n",
    "        print(\"No data loaded. Exiting...\")\n",
    "        return\n",
    "\n",
    "    # Save full dataset info\n",
    "    test_df.to_csv(f\"{OUTPUT_DIR}/test_dataset.csv\", index=False)\n",
    "    print(f\"\\nTest dataset saved to {OUTPUT_DIR}/test_dataset.csv\")\n",
    "\n",
    "    # Step 2: Initialize evaluator\n",
    "    evaluator = HeadlineEvaluator()\n",
    "\n",
    "    # Step 3: Run inference for each baseline model with proper error handling\n",
    "    all_results = []\n",
    "    evaluation_results = []\n",
    "\n",
    "    # Process LIMITED dataset - only first 100 samples for inference\n",
    "    print(f\"\\n{'='*60}\")\n",
    "    print(f\"Processing FIRST 100 SAMPLES of test dataset\")\n",
    "    print(f\"Total dataset size: {len(test_df)} articles\")\n",
    "    print(f\"Inference will be performed on: 100 articles only\")\n",
    "    print(f\"{'='*60}\")\n",
    "\n",
    "    for model_name, model_path in BASELINE_MODELS.items():\n",
    "        try:\n",
    "            print(f\"\\n{'='*50}\")\n",
    "            print(f\"Processing model: {model_name}\")\n",
    "            print(f\"{'='*50}\")\n",
    "\n",
    "            # Initialize model\n",
    "            model_inference = BaselineModelInference(model_name, model_path)\n",
    "\n",
    "            # Process dataset - inference only on first 100 samples\n",
    "            results_df = model_inference.process_dataset(test_df, batch_size=4)\n",
    "\n",
    "            # Save individual results to Google Drive\n",
    "            results_file = f\"{OUTPUT_DIR}/generated_headlines/{model_name}_results.csv\"\n",
    "            results_df.to_csv(results_file, index=False)\n",
    "            print(f\"\\nResults saved to {results_file}\")\n",
    "\n",
    "            # Print sample results (from the first 100)\n",
    "            print(f\"\\nSample Generated Headlines for {model_name} (from first 100):\")\n",
    "            print(\"-\" * 50)\n",
    "            for i in range(min(5, 100)):  # Show first 5 from the processed 100\n",
    "                if i < len(results_df):\n",
    "                    print(f\"{i+1}. Original: {results_df.iloc[i]['original_title'][:80]}...\")\n",
    "                    print(f\"   Generated: {results_df.iloc[i][f'{model_name}_headline'][:80]}...\")\n",
    "                    print()\n",
    "\n",
    "            # Evaluate model (only on first 100 samples)\n",
    "            eval_results = evaluator.evaluate_model(results_df, model_name)\n",
    "            evaluation_results.append(eval_results)\n",
    "\n",
    "            # Save evaluation results\n",
    "            eval_file = f\"{OUTPUT_DIR}/evaluation_results/{model_name}_evaluation.json\"\n",
    "            with open(eval_file, 'w', encoding='utf-8') as f:\n",
    "                json.dump(eval_results, f, ensure_ascii=False, indent=2)\n",
    "\n",
    "            # Print evaluation results immediately\n",
    "            print(f\"\\nEvaluation Results for {model_name} (based on first 100 samples):\")\n",
    "            print(f\"  ROUGE-1: {eval_results.get('rouge1', 0):.4f}\")\n",
    "            print(f\"  ROUGE-2: {eval_results.get('rouge2', 0):.4f}\")\n",
    "            print(f\"  ROUGE-L: {eval_results.get('rougeL', 0):.4f}\")\n",
    "            print(f\"  BERTScore F1: {eval_results.get('bertscore_f1', 0):.4f}\")\n",
    "\n",
    "            all_results.append(results_df)\n",
    "\n",
    "            # Clean up memory thoroughly after each model\n",
    "            model_inference.cleanup()\n",
    "\n",
    "            print(f\"\\n✓ {model_name} completed successfully\")\n",
    "\n",
    "        except Exception as e:\n",
    "            print(f\"\\n✗ Error processing {model_name}: {e}\")\n",
    "            # Continue with next model even if current one fails\n",
    "            continue\n",
    "\n",
    "    # Step 4: Create visualizations with full results display\n",
    "    if evaluation_results:\n",
    "        print(f\"\\n{'='*60}\")\n",
    "        print(\"Creating Visualizations and Displaying Results...\")\n",
    "        print(f\"{'='*60}\")\n",
    "\n",
    "        try:\n",
    "            create_evaluation_visualizations(evaluation_results, f\"{OUTPUT_DIR}/visualizations\")\n",
    "        except Exception as e:\n",
    "            print(f\"Error creating visualizations: {e}\")\n",
    "\n",
    "        # Step 5: Save combined evaluation results\n",
    "        try:\n",
    "            eval_summary_file = f\"{OUTPUT_DIR}/evaluation_results/all_models_summary.json\"\n",
    "            with open(eval_summary_file, 'w', encoding='utf-8') as f:\n",
    "                json.dump(evaluation_results, f, ensure_ascii=False, indent=2)\n",
    "            print(f\"\\nEvaluation summary saved to {eval_summary_file}\")\n",
    "        except Exception as e:\n",
    "            print(f\"Error saving evaluation summary: {e}\")\n",
    "\n",
    "    # Step 6: Generate final report with full results\n",
    "    try:\n",
    "        report_content = generate_final_report(evaluation_results, OUTPUT_DIR)\n",
    "        # Also print the report to console\n",
    "        print(f\"\\n{'='*60}\")\n",
    "        print(\"FINAL REPORT\")\n",
    "        print(f\"{'='*60}\")\n",
    "        print(report_content)\n",
    "    except Exception as e:\n",
    "        print(f\"Error generating final report: {e}\")\n",
    "\n",
    "    print(\"\\n\" + \"=\"*60)\n",
    "    print(\"Baseline inference completed successfully!\")\n",
    "    print(f\"Inference performed on: FIRST 100 SAMPLES ONLY\")\n",
    "    print(f\"All results saved to: {OUTPUT_DIR}\")\n",
    "    print(\"=\"*60)\n",
    "\n",
    "# Execute main function\n",
    "if __name__ == \"__main__\":\n",
    "    main()"
   ]
  }
 ],
 "metadata": {
  "accelerator": "GPU",
  "colab": {
   "gpuType": "L4",
   "machine_shape": "hm",
   "provenance": []
  },
  "kernelspec": {
   "display_name": "Python 3",
   "name": "python3"
  },
  "language_info": {
   "name": "python"
  }
 },
 "nbformat": 4,
 "nbformat_minor": 0
}
